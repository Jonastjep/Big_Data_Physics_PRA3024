{
 "cells": [
  {
   "cell_type": "markdown",
   "metadata": {
    "id": "O16ldQ1F3Zd7"
   },
   "source": [
    "Track reconstruction\n",
    "=================\n",
    "\n",
    "For all the exercises in today's lab, we will be using a well-known pattern recognition problem that arises in particle physics experiments.\n",
    "\n",
    "After particles leave traces in a detector, it is useful to find the trajectories that particles described as they passed through the detector. **Track reconstruction** consists in associating the fired hits (the *tracks*) in a detector that belong to each individual particle.\n",
    "\n",
    "Track reconstruction yields interesting information about the particles, such as their trajectory, momenta and charge. Tracks are typically not reconstructed in one go however, but instead the problem is simplified into several parts that match geometrically to the conditions of the detector.\n",
    "\n",
    "Let's see one example of tracking right away. From the image on the left with hits, we should separate the hits in *tracks* which represent particle trajectories, like the image on the right:\n",
    "\n",
    "<img src=\"https://github.com/dcampora/python_introduction/blob/master/docs/example_track_reco.png?raw=1\" alt=\"Velopix reconstruction example\" style=\"width: 600px;\"/>"
   ]
  },
  {
   "cell_type": "markdown",
   "metadata": {
    "id": "ZuQYztgv3ZeB"
   },
   "source": [
    "We will be looking at a specific track reconstruction problem: the one that occurs in the LHCb detector at CERN. Concretely, the [VELO pixel subdetector](https://lhcb-public.web.cern.ch/en/detector/VELO-en.html) consists of 52 modules, each of them with three silicon chips that detect particles as \"pixels\" in an array.\n",
    "\n",
    "<img src=\"https://github.com/dcampora/python_introduction/blob/master/docs/velopix_front.png?raw=1\" alt=\"Velopix subdetector\" />"
   ]
  },
  {
   "cell_type": "markdown",
   "metadata": {
    "id": "SmgwMfZq3ZeD"
   },
   "source": [
    "Exercise 1\n",
    "---------------\n",
    "\n",
    "First, let's take some Monte Carlo simulated data to play with. This is a wider practice than what you may initially think: simulated data are used to develop and validate algorithms long before the detector hardware even exists. It can also help drive the decision of how the detector should be made!"
   ]
  },
  {
   "cell_type": "code",
   "execution_count": 1,
   "metadata": {
    "id": "WV2Q1rea3ZeD"
   },
   "outputs": [
    {
     "name": "stdout",
     "output_type": "stream",
     "text": [
      "Cloning into 'velopix_tracking'...\n",
      "remote: Enumerating objects: 71, done.\u001b[K\n",
      "remote: Counting objects: 100% (71/71), done.\u001b[K\n",
      "remote: Compressing objects: 100% (45/45), done.\u001b[K\n",
      "remote: Total 434 (delta 28), reused 58 (delta 17), pack-reused 363\u001b[K\n",
      "Receiving objects: 100% (434/434), 7.47 MiB | 1.33 MiB/s, done.\n",
      "Resolving deltas: 100% (196/196), done.\n"
     ]
    }
   ],
   "source": [
    "# Run this only once\n",
    "!git clone https://github.com/dcampora/velopix_tracking.git"
   ]
  },
  {
   "cell_type": "markdown",
   "metadata": {
    "id": "NDreDN6L3ZeF"
   },
   "source": [
    "Alongside the project you just fetched are 10 events to play with. They are encoded in the json format, and the python library \"json\" knows just how to handle them:"
   ]
  },
  {
   "cell_type": "code",
   "execution_count": 2,
   "metadata": {
    "id": "37UEtR3W3ZeG"
   },
   "outputs": [],
   "source": [
    "import sys, os\n",
    "sys.path.append(os.getcwd() + \"/../\")\n",
    "sys.path.append(os.getcwd() + \"/velopix_tracking/\")\n",
    "\n",
    "import json\n",
    "from event_model import event_model as em\n",
    "\n",
    "f = open(\"velopix_tracking/events/velo_event_0.json\")\n",
    "json_data = json.loads(f.read())\n",
    "event = em.event(json_data)\n",
    "f.close()"
   ]
  },
  {
   "cell_type": "markdown",
   "metadata": {
    "id": "I7GSFJtR3ZeH"
   },
   "source": [
    "You now have loaded onto memory an `event`. An event is LHC jargon for a bunch crossing, a 25-nanosecond window where particles collided and stuff happened. Let's start by inspecting what we can do with this event.\n",
    "\n",
    "* Find out what you can do with the `event`."
   ]
  },
  {
   "cell_type": "code",
   "execution_count": 7,
   "metadata": {
    "id": "qJKS6jks3ZeH"
   },
   "outputs": [
    {
     "name": "stdout",
     "output_type": "stream",
     "text": [
      "['__class__', '__delattr__', '__dict__', '__dir__', '__doc__', '__eq__', '__format__', '__ge__', '__getattribute__', '__gt__', '__hash__', '__init__', '__init_subclass__', '__le__', '__lt__', '__module__', '__ne__', '__new__', '__reduce__', '__reduce_ex__', '__repr__', '__setattr__', '__sizeof__', '__str__', '__subclasshook__', '__weakref__', 'description', 'hits', 'module_prefix_sum', 'module_zs', 'modules', 'montecarlo', 'number_of_hits', 'number_of_modules']\n",
      "52\n"
     ]
    }
   ],
   "source": [
    "print(dir(event))\n",
    "print(len(event.modules))"
   ]
  },
  {
   "cell_type": "markdown",
   "metadata": {
    "id": "6RCbpDJ23ZeH"
   },
   "source": [
    "As was said in the introduction, there should be 52 modules available.\n",
    "\n",
    "* Find out what you can do with a module.\n",
    "* Print modules 0, 2 and 4."
   ]
  },
  {
   "cell_type": "code",
   "execution_count": null,
   "metadata": {
    "id": "2mCqG4x33ZeI"
   },
   "outputs": [],
   "source": []
  },
  {
   "cell_type": "markdown",
   "metadata": {
    "id": "iXg1QqTD3ZeJ"
   },
   "source": [
    "Each module has a number of hits, which represent the fired signals that were left by the (simulated) charged particles as they crossed them.\n",
    "\n",
    "* Printing the module showed all the hits... but anyway, print all hits for module 0, this time iterating through the hits yourself.\n",
    "* What are the minimum and maximum values of X, Y and Z of all hits in the module?"
   ]
  },
  {
   "cell_type": "code",
   "execution_count": null,
   "metadata": {
    "id": "jdPvr_hV3ZeK"
   },
   "outputs": [],
   "source": []
  },
  {
   "cell_type": "markdown",
   "metadata": {
    "id": "_ZqcYpvA3ZeK"
   },
   "source": [
    "Exercise 2\n",
    "---------------\n",
    "\n",
    "Let's start by visualizing the event that you were inspecting all along."
   ]
  },
  {
   "cell_type": "code",
   "execution_count": null,
   "metadata": {
    "id": "FA1XSJGw3ZeK"
   },
   "outputs": [],
   "source": [
    "from visual.base import print_event_2d\n",
    "%matplotlib inline\n",
    "\n",
    "print_event_2d(event)\n",
    "print_event_2d(event, y=1)"
   ]
  },
  {
   "cell_type": "markdown",
   "metadata": {
    "id": "ME_HSNYt3ZeK"
   },
   "source": [
    "You may use the `print_event_2d` to... wait, you can do this too:\n",
    "\n",
    "* Use the function `help` to find out what you can do with the `print_event_2d` function.\n",
    "* Print only modules `0, 2, 4` of the event."
   ]
  },
  {
   "cell_type": "code",
   "execution_count": null,
   "metadata": {
    "id": "8f4cn5Gd3ZeL"
   },
   "outputs": [],
   "source": []
  },
  {
   "cell_type": "markdown",
   "metadata": {
    "id": "MAFSMD023ZeL"
   },
   "source": [
    "You can now create some tracks. In this simplistic python *event model* the type `em.track` expects a list of hits. A track is simply a list of hits.\n",
    "\n",
    "* Create some `track`s with hits from modules `0, 2, 4`. A track should typically contain at least three hits, and not contain any hits from the same module.\n",
    "* Visualize modules `0, 2, 4` with the tracks you have created.\n",
    "* How many tracks could you create with hits from these modules?\n",
    "* How many tracks with no overlapping hits could you create with hits from these modules?"
   ]
  },
  {
   "cell_type": "code",
   "execution_count": null,
   "metadata": {
    "id": "2lZbHOZ23ZeM"
   },
   "outputs": [],
   "source": []
  }
 ],
 "metadata": {
  "colab": {
   "name": "exercise_part_0_introduction.ipynb",
   "provenance": []
  },
  "kernelspec": {
   "display_name": "Python 3",
   "language": "python",
   "name": "python3"
  },
  "language_info": {
   "codemirror_mode": {
    "name": "ipython",
    "version": 3
   },
   "file_extension": ".py",
   "mimetype": "text/x-python",
   "name": "python",
   "nbconvert_exporter": "python",
   "pygments_lexer": "ipython3",
   "version": "3.8.5"
  }
 },
 "nbformat": 4,
 "nbformat_minor": 1
}

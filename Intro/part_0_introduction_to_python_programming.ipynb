{
 "cells": [
  {
   "cell_type": "markdown",
   "metadata": {
    "id": "X4gItGsW2PdX"
   },
   "source": [
    "# Introduction to Python programming"
   ]
  },
  {
   "cell_type": "markdown",
   "metadata": {
    "id": "Z_jFeVre2Pdd"
   },
   "source": [
    "This lecture is a reduced version compiled from the following materials:\n",
    "\n",
    "    J.R. Johansson (jrjohansson at gmail.com)\n",
    "    The latest version of this IPython notebook lecture is available at http://github.com/jrjohansson/scientific-python-lectures.\n",
    "    The other notebooks in this lecture series are indexed at http://jrjohansson.github.io.\n",
    "    \n",
    "    https://diveintopython3.problemsolving.io/\n",
    "    \n",
    "    https://www.dataquest.io/blog/jupyter-notebook-tutorial/"
   ]
  },
  {
   "cell_type": "markdown",
   "metadata": {
    "id": "UwQ-EBKE2Pde"
   },
   "source": [
    "## Python program files"
   ]
  },
  {
   "cell_type": "markdown",
   "metadata": {
    "id": "VSr8T4xD2Pdf"
   },
   "source": [
    "* Python code is usually stored in text files with the file ending \"`.py`\":\n",
    "\n",
    "        myprogram.py\n",
    "\n",
    "* Every line in a Python program file is assumed to be a Python statement, or part thereof. \n",
    "\n",
    "    * The only exception is comment lines, which start with the character `#` (optionally preceded by an arbitrary number of white-space characters, i.e., tabs or spaces). Comment lines are usually ignored by the Python interpreter.\n",
    "\n",
    "\n",
    "* To run our Python program from the command line we use:\n",
    "\n",
    "        $ python myprogram.py\n",
    "\n",
    "* On UNIX systems it is common to define the path to the interpreter on the first line of the program (note that this is a comment line as far as the Python interpreter is concerned):\n",
    "\n",
    "        #!/usr/bin/env python\n",
    "\n",
    "  If we do, and if we additionally set the file script to be executable, we can run the program like this:\n",
    "\n",
    "        $ myprogram.py"
   ]
  },
  {
   "cell_type": "markdown",
   "metadata": {
    "id": "vPpD9NEW2Pdg"
   },
   "source": [
    "## IPython notebooks"
   ]
  },
  {
   "cell_type": "markdown",
   "metadata": {
    "id": "KsnXFgh42Pdh"
   },
   "source": [
    "This file - an IPython notebook -  does not follow the standard pattern with Python code in a text file. Instead, an IPython notebook is stored as a file in the [JSON](http://en.wikipedia.org/wiki/JSON) format. The advantage is that we can mix formatted text, Python code and code output. It requires the IPython notebook server to run it though, and therefore isn't a stand-alone Python program as described above. Other than that, there is no difference between the Python code that goes into a program file or an IPython notebook."
   ]
  },
  {
   "cell_type": "markdown",
   "metadata": {
    "id": "oE76IqZM2Pdh"
   },
   "source": [
    "## Modules"
   ]
  },
  {
   "cell_type": "markdown",
   "metadata": {
    "id": "S8GMOS6O2Pdi"
   },
   "source": [
    "Most of the functionality in Python is provided by *modules*. The Python Standard Library is a large collection of modules that provides *cross-platform* implementations of common facilities such as access to the operating system, file I/O, string management, network communication, and much more."
   ]
  },
  {
   "cell_type": "markdown",
   "metadata": {
    "id": "T8ULTYD32Pdj"
   },
   "source": [
    "### References"
   ]
  },
  {
   "cell_type": "markdown",
   "metadata": {
    "id": "wB8dJjpo2Pdk"
   },
   "source": [
    " * The Python Language Reference: http://docs.python.org/2/reference/index.html\n",
    " * The Python Standard Library: http://docs.python.org/2/library/\n",
    "\n",
    "To use a module in a Python program it first has to be imported. A module can be imported using the `import` statement. For example, to import the module `math`, which contains many standard mathematical functions, we can do:"
   ]
  },
  {
   "cell_type": "code",
   "execution_count": null,
   "metadata": {
    "id": "EkOnYF5O2Pdl"
   },
   "outputs": [],
   "source": [
    "import math"
   ]
  },
  {
   "cell_type": "markdown",
   "metadata": {
    "id": "TdP5lenv2Pdo"
   },
   "source": [
    "This includes the whole module and makes it available for use later in the program. For example, we can do:"
   ]
  },
  {
   "cell_type": "code",
   "execution_count": null,
   "metadata": {
    "id": "U_qbmBGX2Pdo"
   },
   "outputs": [],
   "source": [
    "import math\n",
    "\n",
    "x = math.cos(2 * math.pi)\n",
    "\n",
    "print(x)"
   ]
  },
  {
   "cell_type": "markdown",
   "metadata": {
    "id": "EehwQyPI2Pdo"
   },
   "source": [
    "Alternatively, we can chose to import all symbols (functions and variables) in a module to the current namespace (so that we don't need to use the prefix \"`math.`\" every time we use something from the `math` module:"
   ]
  },
  {
   "cell_type": "code",
   "execution_count": null,
   "metadata": {
    "id": "J5mSZV052Pdo"
   },
   "outputs": [],
   "source": [
    "from math import *\n",
    "\n",
    "x = cos(2 * pi)\n",
    "\n",
    "print(x)"
   ]
  },
  {
   "cell_type": "markdown",
   "metadata": {
    "id": "ydo6ENVk2Pdo"
   },
   "source": [
    "This pattern can be very convenient, but in large programs that include many modules it is often a good idea to keep the symbols from each module in their own namespaces, by using the `import math` pattern. This would elminate potentially confusing problems with name space collisions.\n",
    "\n",
    "As a third alternative, we can chose to import only a few selected symbols from a module by explicitly listing which ones we want to import instead of using the wildcard character `*`:"
   ]
  },
  {
   "cell_type": "code",
   "execution_count": null,
   "metadata": {
    "id": "3Kk55s-t2Pdp"
   },
   "outputs": [],
   "source": [
    "from math import cos, pi\n",
    "\n",
    "x = cos(2 * pi)\n",
    "\n",
    "print(x)"
   ]
  },
  {
   "cell_type": "markdown",
   "metadata": {
    "id": "-bj2Prr32Pdp"
   },
   "source": [
    "### Looking at what a module contains, and its documentation"
   ]
  },
  {
   "cell_type": "markdown",
   "metadata": {
    "id": "9y5thjty2Pdq"
   },
   "source": [
    "Once a module is imported, we can list the symbols it provides using the `dir` function:"
   ]
  },
  {
   "cell_type": "code",
   "execution_count": null,
   "metadata": {
    "id": "Cwki7rPV2Pdq"
   },
   "outputs": [],
   "source": [
    "import math\n",
    "\n",
    "print(dir(math))"
   ]
  },
  {
   "cell_type": "markdown",
   "metadata": {
    "id": "XMoztjxN2Pdq"
   },
   "source": [
    "And using the function `help` we can get a description of each function (almost .. not all functions have docstrings, as they are technically called, but the vast majority of functions are documented this way). "
   ]
  },
  {
   "cell_type": "code",
   "execution_count": null,
   "metadata": {
    "id": "_1fCiKq12Pdq"
   },
   "outputs": [],
   "source": [
    "help(math.log)"
   ]
  },
  {
   "cell_type": "code",
   "execution_count": null,
   "metadata": {
    "id": "4lwGapPJ2Pdr"
   },
   "outputs": [],
   "source": [
    "log(10)"
   ]
  },
  {
   "cell_type": "code",
   "execution_count": null,
   "metadata": {
    "id": "GT3om36S2Pdr"
   },
   "outputs": [],
   "source": [
    "log(10, 2)"
   ]
  },
  {
   "cell_type": "markdown",
   "metadata": {
    "id": "szhIg4qu2Pdr"
   },
   "source": [
    "We can also use the `help` function directly on modules: Try\n",
    "\n",
    "    help(math) \n",
    "\n",
    "Some very useful modules form the Python standard library are `os`, `sys`, `math`, `shutil`, `re`, `subprocess`, `multiprocessing`. \n",
    "\n",
    "A complete lists of standard modules for Python 2 and Python 3 are available at http://docs.python.org/2/library/ and http://docs.python.org/3/library/, respectively."
   ]
  },
  {
   "cell_type": "markdown",
   "metadata": {
    "id": "6KPtV-gD2Pds"
   },
   "source": [
    "## Variables and types"
   ]
  },
  {
   "cell_type": "markdown",
   "metadata": {
    "id": "L534CHJA2Pds"
   },
   "source": [
    "### Symbol names "
   ]
  },
  {
   "cell_type": "markdown",
   "metadata": {
    "id": "HUHHlD_t2Pds"
   },
   "source": [
    "Variable names in Python can contain alphanumerical characters `a-z`, `A-Z`, `0-9` and some special characters such as `_`. Normal variable names must start with a letter. \n",
    "\n",
    "By convention, variable names start with a lower-case letter, and Class names start with a capital letter. \n",
    "\n",
    "In addition, there are a number of Python keywords that cannot be used as variable names. These keywords are:\n",
    "\n",
    "    and, as, assert, break, class, continue, def, del, elif, else, except, \n",
    "    exec, finally, for, from, global, if, import, in, is, lambda, not, or,\n",
    "    pass, print, raise, return, try, while, with, yield\n",
    "\n",
    "Note: Be aware of the keyword `lambda`, which could easily be a natural variable name in a scientific program. But being a keyword, it cannot be used as a variable name."
   ]
  },
  {
   "cell_type": "markdown",
   "metadata": {
    "id": "23C027VA2Pds"
   },
   "source": [
    "### Assignment"
   ]
  },
  {
   "cell_type": "markdown",
   "metadata": {
    "id": "ZUa3uN9n2Pds"
   },
   "source": [
    "\n",
    "\n",
    "The assignment operator in Python is `=`. Python is a dynamically typed language, so we do not need to specify the type of a variable when we create one.\n",
    "\n",
    "Assigning a value to a new variable creates the variable:"
   ]
  },
  {
   "cell_type": "code",
   "execution_count": null,
   "metadata": {
    "id": "fcXyQjGZ2Pds"
   },
   "outputs": [],
   "source": [
    "# variable assignments\n",
    "x = 1.0\n",
    "my_variable = 12.2"
   ]
  },
  {
   "cell_type": "markdown",
   "metadata": {
    "id": "b8QyOWdU2Pds"
   },
   "source": [
    "Although not explicitly specified, a variable does have a type associated with it. The type is derived from the value that was assigned to it."
   ]
  },
  {
   "cell_type": "code",
   "execution_count": null,
   "metadata": {
    "id": "xpLbhsvV2Pdt"
   },
   "outputs": [],
   "source": [
    "type(x)"
   ]
  },
  {
   "cell_type": "markdown",
   "metadata": {
    "id": "j5lAZqZ12Pdt"
   },
   "source": [
    "If we assign a new value to a variable, its type can change."
   ]
  },
  {
   "cell_type": "code",
   "execution_count": null,
   "metadata": {
    "id": "NHob0aPm2Pdu"
   },
   "outputs": [],
   "source": [
    "x = 1"
   ]
  },
  {
   "cell_type": "code",
   "execution_count": null,
   "metadata": {
    "id": "wioh9K7Z2Pdu"
   },
   "outputs": [],
   "source": [
    "type(x)"
   ]
  },
  {
   "cell_type": "markdown",
   "metadata": {
    "id": "2ruv85Vg2Pdv"
   },
   "source": [
    "If we try to use a variable that has not yet been defined we get an `NameError`:"
   ]
  },
  {
   "cell_type": "code",
   "execution_count": null,
   "metadata": {
    "id": "-27EpUqn2Pdv"
   },
   "outputs": [],
   "source": [
    "print(y)"
   ]
  },
  {
   "cell_type": "markdown",
   "metadata": {
    "id": "sLW24wIZ2Pdv"
   },
   "source": [
    "### Fundamental types"
   ]
  },
  {
   "cell_type": "code",
   "execution_count": null,
   "metadata": {
    "id": "_2OnkT382Pdv"
   },
   "outputs": [],
   "source": [
    "# integers\n",
    "x = 1\n",
    "type(x)"
   ]
  },
  {
   "cell_type": "code",
   "execution_count": null,
   "metadata": {
    "id": "v2lQ1hwm2Pdv"
   },
   "outputs": [],
   "source": [
    "# float\n",
    "x = 1.0\n",
    "type(x)"
   ]
  },
  {
   "cell_type": "code",
   "execution_count": null,
   "metadata": {
    "id": "MFsWJraY2Pdv"
   },
   "outputs": [],
   "source": [
    "# boolean\n",
    "b1 = True\n",
    "b2 = False\n",
    "\n",
    "type(b1)"
   ]
  },
  {
   "cell_type": "markdown",
   "metadata": {
    "id": "zNg2gU3r2Pdv"
   },
   "source": [
    "### Type casting"
   ]
  },
  {
   "cell_type": "code",
   "execution_count": null,
   "metadata": {
    "id": "Pg7647kf2Pdv"
   },
   "outputs": [],
   "source": [
    "x = 1.5\n",
    "\n",
    "print(x, type(x))"
   ]
  },
  {
   "cell_type": "code",
   "execution_count": null,
   "metadata": {
    "id": "LRmPXkxO2Pdv"
   },
   "outputs": [],
   "source": [
    "x = int(x)\n",
    "\n",
    "print(x, type(x))"
   ]
  },
  {
   "cell_type": "markdown",
   "metadata": {
    "id": "xS1f_jDv2Pdw"
   },
   "source": [
    "## Operators and comparisons"
   ]
  },
  {
   "cell_type": "markdown",
   "metadata": {
    "id": "_W67ecwU2Pdw"
   },
   "source": [
    "Most operators and comparisons in Python work as one would expect:\n",
    "\n",
    "* Arithmetic operators `+`, `-`, `*`, `/`, `//` (integer division), `**` (power)\n"
   ]
  },
  {
   "cell_type": "code",
   "execution_count": null,
   "metadata": {
    "id": "GKmgi8MU2Pdw"
   },
   "outputs": [],
   "source": [
    "1 + 2, 1 - 2, 1 * 2, 1 / 2"
   ]
  },
  {
   "cell_type": "code",
   "execution_count": null,
   "metadata": {
    "id": "BbGa8dyH2Pdx"
   },
   "outputs": [],
   "source": [
    "1.0 + 2.0, 1.0 - 2.0, 1.0 * 2.0, 1.0 / 2.0"
   ]
  },
  {
   "cell_type": "code",
   "execution_count": null,
   "metadata": {
    "id": "NA0XRZjs2Pdy"
   },
   "outputs": [],
   "source": [
    "# Integer division of float numbers\n",
    "3.0 // 2.0"
   ]
  },
  {
   "cell_type": "code",
   "execution_count": null,
   "metadata": {
    "id": "OiYVLocE2Pdy"
   },
   "outputs": [],
   "source": [
    "# Note! The power operators in python isn't ^, but **\n",
    "2 ** 2"
   ]
  },
  {
   "cell_type": "markdown",
   "metadata": {
    "id": "e8k_HA962Pdy"
   },
   "source": [
    "Note: The `/` operator always performs a floating point division in Python 3.x.\n",
    "This is not true in Python 2.x, where the result of `/` is always an integer if the operands are integers.\n",
    "to be more specific, `1/2 = 0.5` (`float`) in Python 3.x, and `1/2 = 0` (`int`) in Python 2.x (but `1.0/2 = 0.5` in Python 2.x)."
   ]
  },
  {
   "cell_type": "markdown",
   "metadata": {
    "id": "a6pnjtiz2Pdz"
   },
   "source": [
    "* The boolean operators are spelled out as the words `and`, `not`, `or`. "
   ]
  },
  {
   "cell_type": "code",
   "execution_count": null,
   "metadata": {
    "id": "mKuJWhUi2Pdz"
   },
   "outputs": [],
   "source": [
    "True and False"
   ]
  },
  {
   "cell_type": "code",
   "execution_count": null,
   "metadata": {
    "id": "DUJ5CWYk2Pdz"
   },
   "outputs": [],
   "source": [
    "not False"
   ]
  },
  {
   "cell_type": "code",
   "execution_count": null,
   "metadata": {
    "id": "Ael_WMDK2Pd0"
   },
   "outputs": [],
   "source": [
    "True or False"
   ]
  },
  {
   "cell_type": "markdown",
   "metadata": {
    "id": "JItvgMCM2Pd0"
   },
   "source": [
    "* Comparison operators `>`, `<`, `>=` (greater or equal), `<=` (less or equal), `==` equality, `is` identical."
   ]
  },
  {
   "cell_type": "code",
   "execution_count": null,
   "metadata": {
    "id": "T2CcgzCj2Pd1"
   },
   "outputs": [],
   "source": [
    "2 > 1, 2 < 1"
   ]
  },
  {
   "cell_type": "code",
   "execution_count": null,
   "metadata": {
    "id": "N7ePhyT12Pd1"
   },
   "outputs": [],
   "source": [
    "2 > 2, 2 < 2"
   ]
  },
  {
   "cell_type": "code",
   "execution_count": null,
   "metadata": {
    "id": "49_KPRTg2Pd1"
   },
   "outputs": [],
   "source": [
    "2 >= 2, 2 <= 2"
   ]
  },
  {
   "cell_type": "code",
   "execution_count": null,
   "metadata": {
    "id": "Ld3Fk9rv2Pd1"
   },
   "outputs": [],
   "source": [
    "# equality\n",
    "[1,2] == [1,2]"
   ]
  },
  {
   "cell_type": "code",
   "execution_count": null,
   "metadata": {
    "id": "nyhZCz262Pd2"
   },
   "outputs": [],
   "source": [
    "# objects identical?\n",
    "l1 = l2 = [1,2]\n",
    "\n",
    "l1 is l2"
   ]
  },
  {
   "cell_type": "markdown",
   "metadata": {
    "id": "uODHQGLa2Pd2"
   },
   "source": [
    "## Compound types: Strings, List and dictionaries"
   ]
  },
  {
   "cell_type": "markdown",
   "metadata": {
    "id": "PQxIFrmI2Pd2"
   },
   "source": [
    "### Strings"
   ]
  },
  {
   "cell_type": "markdown",
   "metadata": {
    "id": "7dPUQf3M2Pd3"
   },
   "source": [
    "Strings are the variable type that is used for storing text messages. "
   ]
  },
  {
   "cell_type": "code",
   "execution_count": null,
   "metadata": {
    "id": "2kBvSCcd2Pd3"
   },
   "outputs": [],
   "source": [
    "s = \"Hello world\"\n",
    "type(s)"
   ]
  },
  {
   "cell_type": "code",
   "execution_count": null,
   "metadata": {
    "id": "7Lb5M3eh2Pd3"
   },
   "outputs": [],
   "source": [
    "# length of the string: the number of characters\n",
    "len(s)"
   ]
  },
  {
   "cell_type": "code",
   "execution_count": null,
   "metadata": {
    "id": "gP2aguV92Pd3"
   },
   "outputs": [],
   "source": [
    "# replace a substring in a string with something else\n",
    "s2 = s.replace(\"world\", \"test\")\n",
    "print(s2)"
   ]
  },
  {
   "cell_type": "markdown",
   "metadata": {
    "id": "JOAMN_Dp2Pd3"
   },
   "source": [
    "We can index a character in a string using `[]`:"
   ]
  },
  {
   "cell_type": "code",
   "execution_count": null,
   "metadata": {
    "id": "dFjmFBFN2Pd3"
   },
   "outputs": [],
   "source": [
    "s[0]"
   ]
  },
  {
   "cell_type": "markdown",
   "metadata": {
    "id": "E6oKj0kC2Pd4"
   },
   "source": [
    "**Heads up MATLAB users:** Indexing start at 0!\n",
    "\n",
    "We can extract a part of a string using the syntax `[start:stop]`, which extracts characters between index `start` and `stop` -1 (the character at index `stop` is not included):"
   ]
  },
  {
   "cell_type": "code",
   "execution_count": null,
   "metadata": {
    "id": "8pY9VTD42Pd4"
   },
   "outputs": [],
   "source": [
    "s[0:5]"
   ]
  },
  {
   "cell_type": "code",
   "execution_count": null,
   "metadata": {
    "id": "NpAasbjB2Pd4"
   },
   "outputs": [],
   "source": [
    "s[4:5]"
   ]
  },
  {
   "cell_type": "markdown",
   "metadata": {
    "id": "OGBL85vr2Pd5"
   },
   "source": [
    "If we omit either (or both) of `start` or `stop` from `[start:stop]`, the default is the beginning and the end of the string, respectively:"
   ]
  },
  {
   "cell_type": "code",
   "execution_count": null,
   "metadata": {
    "id": "TvLp7cPD2Pd5"
   },
   "outputs": [],
   "source": [
    "s[:5]"
   ]
  },
  {
   "cell_type": "code",
   "execution_count": null,
   "metadata": {
    "id": "sBhL6TFq2Pd5"
   },
   "outputs": [],
   "source": [
    "s[6:]"
   ]
  },
  {
   "cell_type": "code",
   "execution_count": null,
   "metadata": {
    "id": "cRU3yswI2Pd5"
   },
   "outputs": [],
   "source": [
    "s[:]"
   ]
  },
  {
   "cell_type": "markdown",
   "metadata": {
    "id": "UfJeNAiS2Pd5"
   },
   "source": [
    "We can also define the step size using the syntax `[start:end:step]` (the default value for `step` is 1, as we saw above):"
   ]
  },
  {
   "cell_type": "code",
   "execution_count": null,
   "metadata": {
    "id": "yG9rI6bF2Pd5"
   },
   "outputs": [],
   "source": [
    "s[::1]"
   ]
  },
  {
   "cell_type": "code",
   "execution_count": null,
   "metadata": {
    "id": "tu-0esmW2Pd6"
   },
   "outputs": [],
   "source": [
    "s[::2]"
   ]
  },
  {
   "cell_type": "markdown",
   "metadata": {
    "id": "P00evzyh2Pd6"
   },
   "source": [
    "This technique is called *slicing*. Read more about the syntax here: http://docs.python.org/release/2.7.3/library/functions.html?highlight=slice#slice"
   ]
  },
  {
   "cell_type": "markdown",
   "metadata": {
    "id": "GG0kY0CI2Pd6"
   },
   "source": [
    "Python has a very rich set of functions for text processing. See for example http://docs.python.org/2/library/string.html for more information."
   ]
  },
  {
   "cell_type": "markdown",
   "metadata": {
    "id": "5DXJkXWe2Pd6"
   },
   "source": [
    "#### String formatting examples"
   ]
  },
  {
   "cell_type": "code",
   "execution_count": null,
   "metadata": {
    "id": "a6R34OmB2Pd7"
   },
   "outputs": [],
   "source": [
    "print(\"str1\", \"str2\", \"str3\")  # The print statement concatenates strings with a space"
   ]
  },
  {
   "cell_type": "code",
   "execution_count": null,
   "metadata": {
    "id": "fHDcO3Wf2Pd7"
   },
   "outputs": [],
   "source": [
    "print(\"str1\", 1.0, False, -1j)  # The print statements converts all arguments to strings"
   ]
  },
  {
   "cell_type": "code",
   "execution_count": null,
   "metadata": {
    "id": "q987YW2E2Pd8"
   },
   "outputs": [],
   "source": [
    "print(\"str1\" + \"str2\" + \"str3\") # strings added with + are concatenated without space"
   ]
  },
  {
   "cell_type": "code",
   "execution_count": null,
   "metadata": {
    "id": "JWAHuMJu2Pd8"
   },
   "outputs": [],
   "source": [
    "print(\"value = %f\" % 1.0)       # we can use C-style string formatting"
   ]
  },
  {
   "cell_type": "code",
   "execution_count": null,
   "metadata": {
    "id": "F3XEEuN-2Pd8"
   },
   "outputs": [],
   "source": [
    "# this formatting creates a string\n",
    "s2 = \"value1 = %.2f. value2 = %d\" % (3.1415, 1.5)\n",
    "\n",
    "print(s2)"
   ]
  },
  {
   "cell_type": "code",
   "execution_count": null,
   "metadata": {
    "id": "DyWWxTd52Pd8"
   },
   "outputs": [],
   "source": [
    "# alternative, more intuitive way of formatting a string \n",
    "s3 = 'value1 = {0}, value2 = {1}'.format(3.1415, 1.5)\n",
    "\n",
    "print(s3)"
   ]
  },
  {
   "cell_type": "markdown",
   "metadata": {
    "id": "5gRi1l1t2Pd9"
   },
   "source": [
    "### List"
   ]
  },
  {
   "cell_type": "markdown",
   "metadata": {
    "id": "_03A0Ewh2Pd9"
   },
   "source": [
    "Lists are very similar to strings, except that each element can be of any type.\n",
    "\n",
    "The syntax for creating lists in Python is `[...]`:"
   ]
  },
  {
   "cell_type": "code",
   "execution_count": null,
   "metadata": {
    "id": "LwQVDbpe2Pd9"
   },
   "outputs": [],
   "source": [
    "l = [1,2,3,4]\n",
    "\n",
    "print(type(l))\n",
    "print(l)"
   ]
  },
  {
   "cell_type": "markdown",
   "metadata": {
    "id": "svfAPU1i2Pd9"
   },
   "source": [
    "We can use the same slicing techniques to manipulate lists as we could use on strings:"
   ]
  },
  {
   "cell_type": "code",
   "execution_count": null,
   "metadata": {
    "id": "MYudDkDj2Pd-"
   },
   "outputs": [],
   "source": [
    "print(l)\n",
    "\n",
    "print(l[1:3])\n",
    "\n",
    "print(l[::2])"
   ]
  },
  {
   "cell_type": "markdown",
   "metadata": {
    "id": "cIR5HRiq2Pd-"
   },
   "source": [
    "**Heads up MATLAB users:** Indexing starts at 0!"
   ]
  },
  {
   "cell_type": "code",
   "execution_count": null,
   "metadata": {
    "id": "RmxZOObM2Pd-"
   },
   "outputs": [],
   "source": [
    "l[0]"
   ]
  },
  {
   "cell_type": "markdown",
   "metadata": {
    "id": "zgKiGVsp2Pd-"
   },
   "source": [
    "Elements in a list do not all have to be of the same type:"
   ]
  },
  {
   "cell_type": "code",
   "execution_count": null,
   "metadata": {
    "id": "QIYef6Lt2Pd-"
   },
   "outputs": [],
   "source": [
    "l = [1, 'a', 1.0, 1-1j]\n",
    "\n",
    "print(l)"
   ]
  },
  {
   "cell_type": "markdown",
   "metadata": {
    "id": "JchMqI2o2Pd-"
   },
   "source": [
    "Python lists can be inhomogeneous and arbitrarily nested:"
   ]
  },
  {
   "cell_type": "code",
   "execution_count": null,
   "metadata": {
    "id": "FAfXwBGh2Pd-"
   },
   "outputs": [],
   "source": [
    "nested_list = [1, [2, [3, [4, [5]]]]]\n",
    "\n",
    "nested_list"
   ]
  },
  {
   "cell_type": "markdown",
   "metadata": {
    "id": "_6x3XTf02PeB"
   },
   "source": [
    "Lists play a very important role in Python. For example they are used in loops and other flow control structures (discussed below). There are a number of convenient functions for generating lists of various types, for example the `range` function:"
   ]
  },
  {
   "cell_type": "code",
   "execution_count": null,
   "metadata": {
    "id": "Gbo2HCIY2PeC"
   },
   "outputs": [],
   "source": [
    "start = 10\n",
    "stop = 30\n",
    "step = 2\n",
    "\n",
    "range(start, stop, step)"
   ]
  },
  {
   "cell_type": "code",
   "execution_count": null,
   "metadata": {
    "id": "ysKgIFDB2PeC"
   },
   "outputs": [],
   "source": [
    "# in python 3 range generates an interator, which can be converted to a list using 'list(...)'.\n",
    "# It has no effect in python 2\n",
    "list(range(start, stop, step))"
   ]
  },
  {
   "cell_type": "code",
   "execution_count": null,
   "metadata": {
    "id": "LdEnLTBP2PeD"
   },
   "outputs": [],
   "source": [
    "list(range(-10, 10))"
   ]
  },
  {
   "cell_type": "code",
   "execution_count": null,
   "metadata": {
    "id": "BxaQLUST2PeD"
   },
   "outputs": [],
   "source": [
    "s"
   ]
  },
  {
   "cell_type": "code",
   "execution_count": null,
   "metadata": {
    "id": "ZbTgafBc2PeD"
   },
   "outputs": [],
   "source": [
    "# convert a string to a list by type casting:\n",
    "s2 = list(s)\n",
    "\n",
    "s2"
   ]
  },
  {
   "cell_type": "code",
   "execution_count": null,
   "metadata": {
    "id": "nkiZpJRQ2PeD"
   },
   "outputs": [],
   "source": [
    "# sorting lists\n",
    "s2.sort()\n",
    "\n",
    "print(s2)"
   ]
  },
  {
   "cell_type": "markdown",
   "metadata": {
    "id": "8iW0Au9-2PeD"
   },
   "source": [
    "#### Adding, inserting, modifying, and removing elements from lists"
   ]
  },
  {
   "cell_type": "code",
   "execution_count": null,
   "metadata": {
    "id": "fH5bOcdW2PeD"
   },
   "outputs": [],
   "source": [
    "# create a new empty list\n",
    "l = []\n",
    "\n",
    "# add an elements using `append`\n",
    "l.append(\"A\")\n",
    "l.append(\"d\")\n",
    "l.append(\"d\")\n",
    "\n",
    "print(l)"
   ]
  },
  {
   "cell_type": "markdown",
   "metadata": {
    "id": "8BhJ3BdP2PeE"
   },
   "source": [
    "We can modify lists by assigning new values to elements in the list. In technical jargon, lists are *mutable*."
   ]
  },
  {
   "cell_type": "code",
   "execution_count": null,
   "metadata": {
    "id": "VJyjkTRA2PeE"
   },
   "outputs": [],
   "source": [
    "l[1] = \"p\"\n",
    "l[2] = \"p\"\n",
    "\n",
    "print(l)"
   ]
  },
  {
   "cell_type": "code",
   "execution_count": null,
   "metadata": {
    "id": "H0sPesBK2PeE"
   },
   "outputs": [],
   "source": [
    "l[1:3] = [\"d\", \"d\"]\n",
    "\n",
    "print(l)"
   ]
  },
  {
   "cell_type": "markdown",
   "metadata": {
    "id": "9DiRhp3B2PeE"
   },
   "source": [
    "Insert an element at an specific index using `insert`"
   ]
  },
  {
   "cell_type": "code",
   "execution_count": null,
   "metadata": {
    "id": "4m5XrAec2PeE"
   },
   "outputs": [],
   "source": [
    "l.insert(0, \"i\")\n",
    "l.insert(1, \"n\")\n",
    "l.insert(2, \"s\")\n",
    "l.insert(3, \"e\")\n",
    "l.insert(4, \"r\")\n",
    "l.insert(5, \"t\")\n",
    "\n",
    "print(l)"
   ]
  },
  {
   "cell_type": "markdown",
   "metadata": {
    "id": "IW852-Gf2PeE"
   },
   "source": [
    "Remove first element with specific value using 'remove'"
   ]
  },
  {
   "cell_type": "code",
   "execution_count": null,
   "metadata": {
    "id": "z8AoOp_H2PeE"
   },
   "outputs": [],
   "source": [
    "l.remove(\"A\")\n",
    "\n",
    "print(l)"
   ]
  },
  {
   "cell_type": "markdown",
   "metadata": {
    "id": "Hr2V2DI62PeE"
   },
   "source": [
    "Remove an element at a specific location using `del`:"
   ]
  },
  {
   "cell_type": "code",
   "execution_count": null,
   "metadata": {
    "id": "HE5twxQn2PeF"
   },
   "outputs": [],
   "source": [
    "del l[7]\n",
    "del l[6]\n",
    "\n",
    "print(l)"
   ]
  },
  {
   "cell_type": "markdown",
   "metadata": {
    "id": "zV-d7n4g2PeF"
   },
   "source": [
    "See `help(list)` for more details, or read the online documentation "
   ]
  },
  {
   "cell_type": "markdown",
   "metadata": {
    "id": "qAT1o3sp2PeF"
   },
   "source": [
    "### Tuples"
   ]
  },
  {
   "cell_type": "markdown",
   "metadata": {
    "id": "UEI7OZc_2PeF"
   },
   "source": [
    "Tuples are like lists, except that they cannot be modified once created, that is they are *immutable*. \n",
    "\n",
    "In Python, tuples are created using the syntax `(..., ..., ...)`, or even `..., ...`:"
   ]
  },
  {
   "cell_type": "code",
   "execution_count": null,
   "metadata": {
    "id": "CH2iSXTb2PeF"
   },
   "outputs": [],
   "source": [
    "point = (10, 20)\n",
    "\n",
    "print(point, type(point))"
   ]
  },
  {
   "cell_type": "code",
   "execution_count": null,
   "metadata": {
    "id": "nZYOvSlE2PeF"
   },
   "outputs": [],
   "source": [
    "point = 10, 20\n",
    "\n",
    "print(point, type(point))"
   ]
  },
  {
   "cell_type": "markdown",
   "metadata": {
    "id": "mQpvthUu2PeF"
   },
   "source": [
    "We can unpack a tuple by assigning it to a comma-separated list of variables:"
   ]
  },
  {
   "cell_type": "code",
   "execution_count": null,
   "metadata": {
    "id": "7L2_rdb92PeH"
   },
   "outputs": [],
   "source": [
    "x, y = point\n",
    "\n",
    "print(\"x =\", x)\n",
    "print(\"y =\", y)"
   ]
  },
  {
   "cell_type": "markdown",
   "metadata": {
    "id": "1j2vFEyJ2PeI"
   },
   "source": [
    "If we try to assign a new value to an element in a tuple we get an error:"
   ]
  },
  {
   "cell_type": "code",
   "execution_count": null,
   "metadata": {
    "id": "SnPe6_jQ2PeI"
   },
   "outputs": [],
   "source": [
    "point[0] = 20"
   ]
  },
  {
   "cell_type": "markdown",
   "metadata": {
    "id": "_7w8sJjC2PeI"
   },
   "source": [
    "### Dictionaries"
   ]
  },
  {
   "cell_type": "markdown",
   "metadata": {
    "id": "t8mf_IIb2PeI"
   },
   "source": [
    "Dictionaries are also like lists, except that each element is a key-value pair. The syntax for dictionaries is `{key1 : value1, ...}`:"
   ]
  },
  {
   "cell_type": "code",
   "execution_count": null,
   "metadata": {
    "id": "fYjpotjg2PeI"
   },
   "outputs": [],
   "source": [
    "params = {\"parameter1\" : 1.0,\n",
    "          \"parameter2\" : 2.0,\n",
    "          \"parameter3\" : 3.0,}\n",
    "\n",
    "print(type(params))\n",
    "print(params)"
   ]
  },
  {
   "cell_type": "code",
   "execution_count": null,
   "metadata": {
    "id": "txBXLpDS2PeJ"
   },
   "outputs": [],
   "source": [
    "print(\"parameter1 = \" + str(params[\"parameter1\"]))\n",
    "print(\"parameter2 = \" + str(params[\"parameter2\"]))\n",
    "print(\"parameter3 = \" + str(params[\"parameter3\"]))"
   ]
  },
  {
   "cell_type": "code",
   "execution_count": null,
   "metadata": {
    "id": "xDGM4cLp2PeJ"
   },
   "outputs": [],
   "source": [
    "params[\"parameter1\"] = \"A\"\n",
    "params[\"parameter2\"] = \"B\"\n",
    "\n",
    "# add a new entry\n",
    "params[\"parameter4\"] = \"D\"\n",
    "\n",
    "print(\"parameter1 = \" + str(params[\"parameter1\"]))\n",
    "print(\"parameter2 = \" + str(params[\"parameter2\"]))\n",
    "print(\"parameter3 = \" + str(params[\"parameter3\"]))\n",
    "print(\"parameter4 = \" + str(params[\"parameter4\"]))"
   ]
  },
  {
   "cell_type": "markdown",
   "metadata": {
    "id": "ilmd6rF82PeK"
   },
   "source": [
    "## Control Flow"
   ]
  },
  {
   "cell_type": "markdown",
   "metadata": {
    "id": "sk1XVv9y2PeK"
   },
   "source": [
    "### Conditional statements: if, elif, else"
   ]
  },
  {
   "cell_type": "markdown",
   "metadata": {
    "id": "tKVXiDI_2PeL"
   },
   "source": [
    "The Python syntax for conditional execution of code uses the keywords `if`, `elif` (else if), `else`:"
   ]
  },
  {
   "cell_type": "code",
   "execution_count": null,
   "metadata": {
    "id": "wxZiDTW12PeL"
   },
   "outputs": [],
   "source": [
    "statement1 = False\n",
    "statement2 = False\n",
    "\n",
    "if statement1:\n",
    "    print(\"statement1 is True\")\n",
    "    \n",
    "elif statement2:\n",
    "    print(\"statement2 is True\")\n",
    "    \n",
    "else:\n",
    "    print(\"statement1 and statement2 are False\")"
   ]
  },
  {
   "cell_type": "markdown",
   "metadata": {
    "id": "8ZxH0PA22PeL"
   },
   "source": [
    "For the first time, here we encounted a peculiar and unusual aspect of the Python programming language: Program blocks are defined by their indentation level. \n",
    "\n",
    "Compare to the equivalent C code:\n",
    "\n",
    "    if (statement1)\n",
    "    {\n",
    "        printf(\"statement1 is True\\n\");\n",
    "    }\n",
    "    else if (statement2)\n",
    "    {\n",
    "        printf(\"statement2 is True\\n\");\n",
    "    }\n",
    "    else\n",
    "    {\n",
    "        printf(\"statement1 and statement2 are False\\n\");\n",
    "    }\n",
    "\n",
    "In C blocks are defined by the enclosing curly brakets `{` and `}`. And the level of indentation (white space before the code statements) does not matter (completely optional). \n",
    "\n",
    "But in Python, the extent of a code block is defined by the indentation level (usually a tab or say four white spaces). This means that we have to be careful to indent our code correctly, or else we will get syntax errors. "
   ]
  },
  {
   "cell_type": "markdown",
   "metadata": {
    "id": "XeWT0oY22PeM"
   },
   "source": [
    "#### Examples:"
   ]
  },
  {
   "cell_type": "code",
   "execution_count": null,
   "metadata": {
    "id": "Mk7pA90O2PeM"
   },
   "outputs": [],
   "source": [
    "statement1 = statement2 = True\n",
    "\n",
    "if statement1:\n",
    "    if statement2:\n",
    "        print(\"both statement1 and statement2 are True\")"
   ]
  },
  {
   "cell_type": "code",
   "execution_count": null,
   "metadata": {
    "id": "yKvZMgbs2PeM"
   },
   "outputs": [],
   "source": [
    "# Bad indentation!\n",
    "if statement1:\n",
    "    if statement2:\n",
    "    print(\"both statement1 and statement2 are True\")  # this line is not properly indented"
   ]
  },
  {
   "cell_type": "code",
   "execution_count": null,
   "metadata": {
    "id": "VBHZEPIp2PeN"
   },
   "outputs": [],
   "source": [
    "statement1 = False \n",
    "\n",
    "if statement1:\n",
    "    print(\"printed if statement1 is True\")\n",
    "    \n",
    "    print(\"still inside the if block\")"
   ]
  },
  {
   "cell_type": "code",
   "execution_count": null,
   "metadata": {
    "id": "Wt9rJ-zW2PeN"
   },
   "outputs": [],
   "source": [
    "if statement1:\n",
    "    print(\"printed if statement1 is True\")\n",
    "    \n",
    "print(\"now outside the if block\")"
   ]
  },
  {
   "cell_type": "markdown",
   "metadata": {
    "id": "KZsHHlI82PeN"
   },
   "source": [
    "## Loops"
   ]
  },
  {
   "cell_type": "markdown",
   "metadata": {
    "id": "Gv85uEJs2PeO"
   },
   "source": [
    "In Python, loops can be programmed in a number of different ways. The most common is the `for` loop, which is used together with iterable objects, such as lists. The basic syntax is:"
   ]
  },
  {
   "cell_type": "markdown",
   "metadata": {
    "id": "UzH1HO6m2PeO"
   },
   "source": [
    "### **`for` loops**:"
   ]
  },
  {
   "cell_type": "code",
   "execution_count": null,
   "metadata": {
    "id": "-EZksveP2PeP"
   },
   "outputs": [],
   "source": [
    "for x in [1,2,3]:\n",
    "    print(x)"
   ]
  },
  {
   "cell_type": "markdown",
   "metadata": {
    "id": "KQ4gxr7D2PeP"
   },
   "source": [
    "The `for` loop iterates over the elements of the supplied list, and executes the containing block once for each element. Any kind of list can be used in the `for` loop. For example:"
   ]
  },
  {
   "cell_type": "code",
   "execution_count": null,
   "metadata": {
    "id": "RsX8glmg2PeP"
   },
   "outputs": [],
   "source": [
    "for x in range(4): # by default range start at 0\n",
    "    print(x)"
   ]
  },
  {
   "cell_type": "markdown",
   "metadata": {
    "id": "pFtRHHPo2PeP"
   },
   "source": [
    "Note: `range(4)` does not include 4 !"
   ]
  },
  {
   "cell_type": "code",
   "execution_count": null,
   "metadata": {
    "id": "ADi4TER72PeP"
   },
   "outputs": [],
   "source": [
    "for x in range(-3,3):\n",
    "    print(x)"
   ]
  },
  {
   "cell_type": "code",
   "execution_count": null,
   "metadata": {
    "id": "qYzPqr1u2PeP"
   },
   "outputs": [],
   "source": [
    "for word in [\"scientific\", \"computing\", \"with\", \"python\"]:\n",
    "    print(word)"
   ]
  },
  {
   "cell_type": "markdown",
   "metadata": {
    "id": "G1iwEdSR2PeP"
   },
   "source": [
    "To iterate over key-value pairs of a dictionary:"
   ]
  },
  {
   "cell_type": "code",
   "execution_count": null,
   "metadata": {
    "id": "HKsrBbBu2PeP"
   },
   "outputs": [],
   "source": [
    "for key, value in params.items():\n",
    "    print(key + \" = \" + str(value))"
   ]
  },
  {
   "cell_type": "markdown",
   "metadata": {
    "id": "qwGJiVcO2PeP"
   },
   "source": [
    "Sometimes it is useful to have access to the indices of the values when iterating over a list. We can use the `enumerate` function for this:"
   ]
  },
  {
   "cell_type": "code",
   "execution_count": null,
   "metadata": {
    "id": "Pk2-GjSA2PeP"
   },
   "outputs": [],
   "source": [
    "for idx, x in enumerate(range(-3,3)):\n",
    "    print(idx, x)"
   ]
  },
  {
   "cell_type": "markdown",
   "metadata": {
    "id": "FJ4N_zSu2PeQ"
   },
   "source": [
    "### List comprehensions: Creating lists using `for` loops:"
   ]
  },
  {
   "cell_type": "markdown",
   "metadata": {
    "id": "OJchdsYU2PeQ"
   },
   "source": [
    "A convenient and compact way to initialize lists:"
   ]
  },
  {
   "cell_type": "code",
   "execution_count": null,
   "metadata": {
    "id": "xSaahEYF2PeQ"
   },
   "outputs": [],
   "source": [
    "l1 = [x**2 for x in range(0,5)]\n",
    "\n",
    "print(l1)"
   ]
  },
  {
   "cell_type": "markdown",
   "metadata": {
    "id": "nityvzdY2PeQ"
   },
   "source": [
    "## Functions"
   ]
  },
  {
   "cell_type": "markdown",
   "metadata": {
    "id": "z_01f6FC2PeQ"
   },
   "source": [
    "A function in Python is defined using the keyword `def`, followed by a function name, a signature within parentheses `()`, and a colon `:`. The following code, with one additional level of indentation, is the function body."
   ]
  },
  {
   "cell_type": "code",
   "execution_count": null,
   "metadata": {
    "id": "TDOJI0zz2PeR"
   },
   "outputs": [],
   "source": [
    "def func0():   \n",
    "    print(\"test\")"
   ]
  },
  {
   "cell_type": "code",
   "execution_count": null,
   "metadata": {
    "id": "xeV1Od6C2PeR"
   },
   "outputs": [],
   "source": [
    "func0()"
   ]
  },
  {
   "cell_type": "markdown",
   "metadata": {
    "id": "oN8-O3k12PeR"
   },
   "source": [
    "Optionally, but highly recommended, we can define a so called \"docstring\", which is a description of the functions purpose and behaivor. The docstring should follow directly after the function definition, before the code in the function body."
   ]
  },
  {
   "cell_type": "code",
   "execution_count": null,
   "metadata": {
    "id": "-c0zzd3j2PeS"
   },
   "outputs": [],
   "source": [
    "def func1(s):\n",
    "    \"\"\"\n",
    "    Print a string 's' and tell how many characters it has    \n",
    "    \"\"\"\n",
    "    \n",
    "    print(s + \" has \" + str(len(s)) + \" characters\")"
   ]
  },
  {
   "cell_type": "code",
   "execution_count": null,
   "metadata": {
    "id": "Hh9Xao092PeS"
   },
   "outputs": [],
   "source": [
    "help(func1)"
   ]
  },
  {
   "cell_type": "code",
   "execution_count": null,
   "metadata": {
    "id": "TuAAkDEy2PeT"
   },
   "outputs": [],
   "source": [
    "func1(\"test\")"
   ]
  },
  {
   "cell_type": "markdown",
   "metadata": {
    "id": "jwdmisvs2PeT"
   },
   "source": [
    "Functions that returns a value use the `return` keyword:"
   ]
  },
  {
   "cell_type": "code",
   "execution_count": null,
   "metadata": {
    "id": "_7wSV9Lj2PeT"
   },
   "outputs": [],
   "source": [
    "def square(x):\n",
    "    \"\"\"\n",
    "    Return the square of x.\n",
    "    \"\"\"\n",
    "    return x ** 2"
   ]
  },
  {
   "cell_type": "code",
   "execution_count": null,
   "metadata": {
    "id": "XeFKE0fY2PeT"
   },
   "outputs": [],
   "source": [
    "square(4)"
   ]
  },
  {
   "cell_type": "markdown",
   "metadata": {
    "id": "z6Sp4mac2PeT"
   },
   "source": [
    "We can return multiple values from a function using tuples (see above):"
   ]
  },
  {
   "cell_type": "code",
   "execution_count": null,
   "metadata": {
    "id": "yOHN1vP12PeT"
   },
   "outputs": [],
   "source": [
    "def powers(x):\n",
    "    \"\"\"\n",
    "    Return a few powers of x.\n",
    "    \"\"\"\n",
    "    return x ** 2, x ** 3, x ** 4"
   ]
  },
  {
   "cell_type": "code",
   "execution_count": null,
   "metadata": {
    "id": "G0oyngjh2PeU"
   },
   "outputs": [],
   "source": [
    "powers(3)"
   ]
  },
  {
   "cell_type": "code",
   "execution_count": null,
   "metadata": {
    "id": "csseKneU2PeU"
   },
   "outputs": [],
   "source": [
    "x2, x3, x4 = powers(3)\n",
    "\n",
    "print(x3)"
   ]
  },
  {
   "cell_type": "markdown",
   "metadata": {
    "id": "J1AcJ9gK2PeU"
   },
   "source": [
    "### Default argument and keyword arguments"
   ]
  },
  {
   "cell_type": "markdown",
   "metadata": {
    "id": "UgxkfUrK2PeU"
   },
   "source": [
    "In a definition of a function, we can give default values to the arguments the function takes:"
   ]
  },
  {
   "cell_type": "code",
   "execution_count": null,
   "metadata": {
    "id": "gWgzRpsc2PeV"
   },
   "outputs": [],
   "source": [
    "def myfunc(x, p=2, debug=False):\n",
    "    if debug:\n",
    "        print(\"evaluating myfunc for x = \" + str(x) + \" using exponent p = \" + str(p))\n",
    "    return x**p"
   ]
  },
  {
   "cell_type": "markdown",
   "metadata": {
    "id": "kQ75MgDp2PeV"
   },
   "source": [
    "If we don't provide a value of the `debug` argument when calling the the function `myfunc` it defaults to the value provided in the function definition:"
   ]
  },
  {
   "cell_type": "code",
   "execution_count": null,
   "metadata": {
    "id": "sPRZ6rMW2PeV"
   },
   "outputs": [],
   "source": [
    "myfunc(5)"
   ]
  },
  {
   "cell_type": "code",
   "execution_count": null,
   "metadata": {
    "id": "cy4cNvLt2PeV"
   },
   "outputs": [],
   "source": [
    "myfunc(5, debug=True)"
   ]
  },
  {
   "cell_type": "markdown",
   "metadata": {
    "id": "gy1MlSpc2PeV"
   },
   "source": [
    "If we explicitly list the name of the arguments in the function calls, they do not need to come in the same order as in the function definition. This is called *keyword* arguments, and is often very useful in functions that takes a lot of optional arguments."
   ]
  },
  {
   "cell_type": "code",
   "execution_count": null,
   "metadata": {
    "id": "uaYEVbyi2PeV"
   },
   "outputs": [],
   "source": [
    "myfunc(p=3, debug=True, x=7)"
   ]
  },
  {
   "cell_type": "markdown",
   "metadata": {
    "id": "ia2mEPEK2PeV"
   },
   "source": [
    "### Unnamed functions (lambda function)"
   ]
  },
  {
   "cell_type": "markdown",
   "metadata": {
    "id": "agRS1K7o2PeV"
   },
   "source": [
    "In Python we can also create unnamed functions, using the `lambda` keyword:"
   ]
  },
  {
   "cell_type": "code",
   "execution_count": null,
   "metadata": {
    "id": "F4vqxFwV2PeV"
   },
   "outputs": [],
   "source": [
    "f1 = lambda x: x**2\n",
    "    \n",
    "# is equivalent to \n",
    "\n",
    "def f2(x):\n",
    "    return x**2"
   ]
  },
  {
   "cell_type": "code",
   "execution_count": null,
   "metadata": {
    "id": "7cgpBcIi2PeW"
   },
   "outputs": [],
   "source": [
    "f1(2), f2(2)"
   ]
  },
  {
   "cell_type": "markdown",
   "metadata": {
    "id": "JCjMDEPj2PeX"
   },
   "source": [
    "This technique is useful for example when we want to pass a simple function as an argument to another function, like this:"
   ]
  },
  {
   "cell_type": "code",
   "execution_count": null,
   "metadata": {
    "id": "SW0BDl722PeX"
   },
   "outputs": [],
   "source": [
    "# map is a built-in python function\n",
    "map(lambda x: x**2, range(-3,4))"
   ]
  },
  {
   "cell_type": "code",
   "execution_count": null,
   "metadata": {
    "id": "d8qcFK8B2PeX"
   },
   "outputs": [],
   "source": [
    "# in python 3 we can use `list(...)` to convert the iterator to an explicit list\n",
    "list(map(lambda x: x**2, range(-3,4)))"
   ]
  },
  {
   "cell_type": "markdown",
   "metadata": {
    "id": "naJnzhYv2PeX"
   },
   "source": [
    "## Classes"
   ]
  },
  {
   "cell_type": "markdown",
   "metadata": {
    "id": "AQpJMB-e2PeX"
   },
   "source": [
    "Classes are the key features of object-oriented programming. A class is a structure for representing an object and the operations that can be performed on the object. \n",
    "\n",
    "In Python a class can contain *attributes* (variables) and *methods* (functions).\n",
    "\n",
    "A class is defined almost like a function, but using the `class` keyword, and the class definition usually contains a number of class method definitions (a function in a class).\n",
    "\n",
    "* Each class method should have an argument `self` as its first argument. This object is a self-reference.\n",
    "\n",
    "* Some class method names have special meaning, for example:\n",
    "\n",
    "    * `__init__`: The name of the method that is invoked when the object is first created.\n",
    "    * `__str__` : A method that is invoked when a simple string representation of the class is needed, as for example when printed.\n",
    "    * There are many more, see http://docs.python.org/2/reference/datamodel.html#special-method-names"
   ]
  },
  {
   "cell_type": "code",
   "execution_count": null,
   "metadata": {
    "id": "ZsEj1IAb2PeX"
   },
   "outputs": [],
   "source": [
    "class Point:\n",
    "    \"\"\"\n",
    "    Simple class for representing a point in a Cartesian coordinate system.\n",
    "    \"\"\"\n",
    "    \n",
    "    def __init__(self, x, y):\n",
    "        \"\"\"\n",
    "        Create a new Point at x, y.\n",
    "        \"\"\"\n",
    "        self.x = x\n",
    "        self.y = y\n",
    "        \n",
    "    def translate(self, dx, dy):\n",
    "        \"\"\"\n",
    "        Translate the point by dx and dy in the x and y direction.\n",
    "        \"\"\"\n",
    "        self.x += dx\n",
    "        self.y += dy\n",
    "        \n",
    "    def __str__(self):\n",
    "        return(\"Point at [%f, %f]\" % (self.x, self.y))"
   ]
  },
  {
   "cell_type": "markdown",
   "metadata": {
    "id": "iqH_h4BJ2PeX"
   },
   "source": [
    "To create a new instance of a class:"
   ]
  },
  {
   "cell_type": "code",
   "execution_count": null,
   "metadata": {
    "id": "jFpRuKZq2PeX"
   },
   "outputs": [],
   "source": [
    "p1 = Point(0, 0) # this will invoke the __init__ method in the Point class\n",
    "\n",
    "print(p1)         # this will invoke the __str__ method"
   ]
  },
  {
   "cell_type": "markdown",
   "metadata": {
    "id": "iaEiPWTj2PeX"
   },
   "source": [
    "To invoke a class method in the class instance `p`:"
   ]
  },
  {
   "cell_type": "code",
   "execution_count": null,
   "metadata": {
    "id": "LuLOuVrx2PeY"
   },
   "outputs": [],
   "source": [
    "p2 = Point(1, 1)\n",
    "\n",
    "p1.translate(0.25, 1.5)\n",
    "\n",
    "print(p1)\n",
    "print(p2)"
   ]
  },
  {
   "cell_type": "markdown",
   "metadata": {
    "id": "QjtLp6762PeY"
   },
   "source": [
    "Note that calling class methods can modifiy the state of that particular class instance, but does not effect other class instances or any global variables.\n",
    "\n",
    "That is one of the nice things about object-oriented design: code such as functions and related variables are grouped in separate and independent entities. "
   ]
  },
  {
   "cell_type": "markdown",
   "metadata": {
    "id": "vB6_juVW2PeY"
   },
   "source": [
    "## Further reading"
   ]
  },
  {
   "cell_type": "markdown",
   "metadata": {
    "id": "9lLROCwx2PeY"
   },
   "source": [
    "* http://www.python.org - The official web page of the Python programming language.\n",
    "* http://www.python.org/dev/peps/pep-0008 - Style guide for Python programming. Highly recommended. \n",
    "* http://www.greenteapress.com/thinkpython/ - A free book on Python programming.\n",
    "* [Python Essential Reference](http://www.amazon.com/Python-Essential-Reference-4th-Edition/dp/0672329786) - A good reference book on Python programming."
   ]
  },
  {
   "cell_type": "markdown",
   "metadata": {
    "id": "GGGOS2HG2PeY"
   },
   "source": [
    "## Versions"
   ]
  },
  {
   "cell_type": "code",
   "execution_count": null,
   "metadata": {
    "id": "0tT5yAYZ2PeY"
   },
   "outputs": [],
   "source": [
    "%load_ext version_information\n",
    "\n",
    "%version_information"
   ]
  }
 ],
 "metadata": {
  "colab": {
   "name": "part_0_introduction_to_python_programming.ipynb",
   "provenance": []
  },
  "kernelspec": {
   "display_name": "Python 3",
   "language": "python",
   "name": "python3"
  },
  "language_info": {
   "codemirror_mode": {
    "name": "ipython",
    "version": 3
   },
   "file_extension": ".py",
   "mimetype": "text/x-python",
   "name": "python",
   "nbconvert_exporter": "python",
   "pygments_lexer": "ipython3",
   "version": "3.8.5"
  }
 },
 "nbformat": 4,
 "nbformat_minor": 1
}

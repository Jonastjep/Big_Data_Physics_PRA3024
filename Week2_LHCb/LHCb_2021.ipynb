{
  "nbformat": 4,
  "nbformat_minor": 0,
  "metadata": {
    "colab": {
      "name": "LHCb_2021.ipynb",
      "provenance": [],
      "collapsed_sections": [],
      "toc_visible": true,
      "include_colab_link": true
    },
    "kernelspec": {
      "name": "python2",
      "display_name": "Python 2"
    },
    "accelerator": "GPU"
  },
  "cells": [
    {
      "cell_type": "markdown",
      "metadata": {
        "id": "view-in-github",
        "colab_type": "text"
      },
      "source": [
        "<a href=\"https://colab.research.google.com/github/Jonastjep/Big_Data_Physics_PRA3024/blob/main/Week2_LHCb/LHCb_2021.ipynb\" target=\"_parent\"><img src=\"https://colab.research.google.com/assets/colab-badge.svg\" alt=\"Open In Colab\"/></a>"
      ]
    },
    {
      "cell_type": "markdown",
      "metadata": {
        "id": "1JafiSIrvEKW"
      },
      "source": [
        "# Introduction\n",
        "\n",
        "Welcome to Week 4!\n",
        "\n",
        "We will be focussing in Particle Physics Analysis and detecting matter/antimatter assymetries in the production of certain types of particles. ![LHCb detector](https://www1b.physik.rwth-aachen.de/~schael/LHCb_files/LHCB%20PREVIEW-white-bg.jpg)\n",
        "\n",
        "The data we are using comes from LHCb - one of the experiments at LHC. It is a highly specialised detector aimed at detecting decays involving the B-quark. Unlike the other major experiments, LHCb detects particles very close to the source and looks almost exclusively in the forward direction - this gives the detector many advantages compared to other experiments at LHC.\n",
        "\n",
        "In order to get started, we need to access the [ROOT framework](https://root.cern.ch/) and download some datafiles into this machine.\n",
        "\n",
        "If you are using Google Colab then you need to ensure that you are using Python 2:\n",
        "\n",
        "Before we start - we have to use Python2 (not Python 3), so we should choose this as an option in \"Runtime\" -> \"Change Runtime Type\" at the top or create a new notebook in Python2 by appending \"&runtime=python2\" to the URL."
      ]
    },
    {
      "cell_type": "markdown",
      "metadata": {
        "id": "j2UzbBCbyRNt"
      },
      "source": [
        "## ROOT"
      ]
    },
    {
      "cell_type": "code",
      "metadata": {
        "id": "vFclIR72w0mU",
        "colab": {
          "base_uri": "https://localhost:8080/"
        },
        "outputId": "b6e0c846-98c9-429a-90fd-9f6be6ce37e4"
      },
      "source": [
        "#Colab only\n",
        "#we are going to make a directory called APPS\n",
        "!mkdir -p APPS\n",
        "#Now we move to our directory called APPS and we download ROOT from the CERN server, this version is chosen because it runs on this machine - if you want to run this locally check the versions!\n",
        "!cd APPS && wget https://root.cern.ch/download/root_v6.13.08.Linux-ubuntu18-x86_64-gcc7.3.tar.gz \n",
        "#Now we extract our downloaded file:\n",
        "!cd APPS && tar -xf root_v6.13.08.Linux-ubuntu18-x86_64-gcc7.3.tar.gz\n"
      ],
      "execution_count": 1,
      "outputs": [
        {
          "output_type": "stream",
          "text": [
            "--2021-03-01 11:00:43--  https://root.cern.ch/download/root_v6.13.08.Linux-ubuntu18-x86_64-gcc7.3.tar.gz\n",
            "Resolving root.cern.ch (root.cern.ch)... 137.138.18.236, 2001:1458:201:ee::100:6\n",
            "Connecting to root.cern.ch (root.cern.ch)|137.138.18.236|:443... connected.\n",
            "HTTP request sent, awaiting response... 200 OK\n",
            "Length: 137415272 (131M) [application/x-gzip]\n",
            "Saving to: ‘root_v6.13.08.Linux-ubuntu18-x86_64-gcc7.3.tar.gz’\n",
            "\n",
            "root_v6.13.08.Linux 100%[===================>] 131.05M  27.9MB/s    in 5.3s    \n",
            "\n",
            "2021-03-01 11:00:49 (24.7 MB/s) - ‘root_v6.13.08.Linux-ubuntu18-x86_64-gcc7.3.tar.gz’ saved [137415272/137415272]\n",
            "\n"
          ],
          "name": "stdout"
        }
      ]
    },
    {
      "cell_type": "code",
      "metadata": {
        "id": "COPyXIvbxqht",
        "colab": {
          "base_uri": "https://localhost:8080/"
        },
        "outputId": "6626d1ec-1a9b-45fd-c58c-8a00605b01bd"
      },
      "source": [
        "#Colab only:\n",
        "#now we can extract some files from ROOT and ensure that we can access the libraries. We use some python key words to get access to the right files:\n",
        "\n",
        "import sys\n",
        "\n",
        "sys.path.append(\"/content/APPS/root/lib\")\n",
        "\n",
        "import ctypes\n",
        "\n",
        "\n",
        "ctypes.cdll.LoadLibrary('/content/APPS/root/lib/libCore.so')\n",
        "\n",
        "ctypes.cdll.LoadLibrary('/content/APPS/root/lib/libThread.so')\n",
        "\n",
        "ctypes.cdll.LoadLibrary('/content/APPS/root/lib/libImt.so')\n",
        "\n",
        "ctypes.cdll.LoadLibrary('/content/APPS/root/lib/libRIO.so')\n",
        "\n",
        "ctypes.cdll.LoadLibrary('/content/APPS/root/lib/libNet.so')\n",
        "\n",
        "ctypes.cdll.LoadLibrary('/content/APPS/root/lib/libTree.so')\n",
        "\n",
        "ctypes.cdll.LoadLibrary('/content/APPS/root/lib/libMathCore.so')\n",
        "\n",
        "ctypes.cdll.LoadLibrary('/content/APPS/root/lib/libMathMore.so')\n",
        "\n",
        "ctypes.cdll.LoadLibrary('/content/APPS/root/lib/libMatrix.so')\n",
        "\n",
        "ctypes.cdll.LoadLibrary('/content/APPS/root/lib/libHist.so')\n",
        "\n",
        "ctypes.cdll.LoadLibrary('/content/APPS/root/lib/libGraf.so')\n",
        "\n",
        "ctypes.cdll.LoadLibrary('/content/APPS/root/lib/libPyROOT.so')\n",
        "\n",
        "ctypes.cdll.LoadLibrary('/content/APPS/root/lib/libGpad.so')\n",
        "\n",
        "ctypes.cdll.LoadLibrary('/content/APPS/root/lib/libGraf3d.so')\n",
        "\n",
        "ctypes.cdll.LoadLibrary('/content/APPS/root/lib/libMultiProc.so')\n",
        "\n",
        "ctypes.cdll.LoadLibrary('/content/APPS/root/lib/libMinuit.so')\n",
        "\n",
        "ctypes.cdll.LoadLibrary('/content/APPS/root/lib/libFoam.so')\n",
        "\n",
        "import ROOT"
      ],
      "execution_count": 2,
      "outputs": [
        {
          "output_type": "stream",
          "text": [
            "Welcome to JupyROOT 6.13/08\n"
          ],
          "name": "stdout"
        }
      ]
    },
    {
      "cell_type": "code",
      "metadata": {
        "id": "QTVz7NQMyDCb",
        "colab": {
          "base_uri": "https://localhost:8080/",
          "height": 589
        },
        "outputId": "62bc2db6-d604-471d-85c2-0c4c0d2ad038"
      },
      "source": [
        "ROOT.gStyle.SetOptStat(0)\n",
        "\n",
        "h = ROOT.TH1F(\"gauss1\",\"Example histogram\",100,-4,4)\n",
        "h.FillRandom(\"gaus\")\n",
        "\n",
        "h2 = ROOT.TH1F(\"gauss2\",\"Example histogram\",100,-4,4)\n",
        "h2.FillRandom(\"gaus\")\n",
        "\n",
        "varname = \"Variable of Interest\"\n",
        "h.SetTitle(varname + \" Plot\")\n",
        "h.GetXaxis().SetTitle(varname)\n",
        "h.GetYaxis().SetTitle(\"Y value\")\n",
        "h.SetLineColor(2) # red\n",
        "h.SetLineWidth(1)\n",
        "h2.SetTitle(varname)\n",
        "h2.SetLineColor(9) # blue\n",
        "h2.SetLineWidth(1)\n",
        "\n",
        "c = ROOT.TCanvas(\"myCanvasName\",\"The Canvas Title\",800,600)\n",
        "\n",
        "h.Draw()\n",
        "h2.Draw(\"SAME\")\n",
        "\n",
        "leg = ROOT.TLegend(0.11 + 0.59, 0.77, 0.3 + 0.59, 0.89)\n",
        "leg.SetHeader(\"Legend\")\n",
        "leg.AddEntry(h, \"Gaussian 1\", \"l\")\n",
        "leg.AddEntry(h2, \"Gaussian 2\", \"l\")\n",
        "leg.Draw(\"same\")\n",
        "\n",
        "c.Draw()"
      ],
      "execution_count": 3,
      "outputs": [
        {
          "output_type": "display_data",
          "data": {
            "image/png": "[encoded data removed]",
            "text/plain": [
              "<IPython.core.display.Image object>"
            ]
          },
          "metadata": {
            "tags": []
          }
        }
      ]
    },
    {
      "cell_type": "markdown",
      "metadata": {
        "id": "VXW1M6XB0tXP"
      },
      "source": [
        "All being well - this should give no errors and we should have some kind of Gaussian distribution above.\n",
        "\n",
        "The next step is to get our data file - you can find it on Canvas here: https://maastrichtuniversity.instructure.com/courses/5826/files/553829?module_item_id=115201\n",
        "\n",
        "Then upload it either directly or to your Google Drive and then mount this to your Colab environment"
      ]
    },
    {
      "cell_type": "markdown",
      "metadata": {
        "id": "g0qr2J55xub_"
      },
      "source": [
        "## Importing the Dataset and First Steps"
      ]
    },
    {
      "cell_type": "code",
      "metadata": {
        "colab": {
          "base_uri": "https://localhost:8080/"
        },
        "id": "OlW4vnZqO7o1",
        "outputId": "cf13ca32-135f-4668-ad1b-bb51ae8d51a7"
      },
      "source": [
        "from google.colab import drive\n",
        "drive.mount('/content/drive')"
      ],
      "execution_count": 4,
      "outputs": [
        {
          "output_type": "stream",
          "text": [
            "Mounted at /content/drive\n"
          ],
          "name": "stdout"
        }
      ]
    },
    {
      "cell_type": "code",
      "metadata": {
        "id": "VJwmfTqQPoPO"
      },
      "source": [
        "data_path = \"/content/drive/MyDrive/MSP/UniData/Big_Data_Physics/B2HHH_MagnetUp.root\""
      ],
      "execution_count": 5,
      "outputs": []
    },
    {
      "cell_type": "code",
      "metadata": {
        "id": "Co476pbmBvBB",
        "colab": {
          "base_uri": "https://localhost:8080/",
          "height": 645
        },
        "outputId": "5608cf77-4887-4f18-f01a-16517b85058a"
      },
      "source": [
        "#Since we need to use ROOT, we must first import this into Python:\n",
        "import ROOT\n",
        "#Then we open the ROOT file using the TFile command. - note you need to make this file path correct for your own setup!\n",
        "f = ROOT.TFile.Open(data_path, \"READONLY\")\n",
        "#From our file, we have to extract the DecayTree \n",
        "tree=f.Get(\"data\")\n",
        "#Now we can grab some variables as a test:\n",
        "ymomentum = ROOT.RooRealVar(\"H1_PY\",\"H1 Y Momentum\",-3000,3000,\"MeV/c\")\n",
        "xmomentum = ROOT.RooRealVar(\"H1_PX\",\"H1 X Momentum\",-3000,3000,\"MeV/c\")\n",
        "zmomentum = ROOT.RooRealVar(\"H1_PZ\",\"H1 Z Momentum\",-3000,3000,\"MeV/c\")\n",
        "# We then create a dataset for us to play with\n",
        "data = ROOT.RooDataSet(\"data\",\"data set\", tree, ROOT.RooArgSet(xmomentum,ymomentum,zmomentum), \"1==1\")\n",
        "# Now we create a canvas, plot our data onto the canvas and draw it:\n",
        "c = ROOT.TCanvas(\"c\",\"c\")\n",
        "frame = xmomentum.frame()\n",
        "data.plotOn(frame)\n",
        "frame.Draw()\n",
        "c.Draw()"
      ],
      "execution_count": 6,
      "outputs": [
        {
          "output_type": "stream",
          "text": [
            "\n",
            "\u001b[1mRooFit v3.60 -- Developed by Wouter Verkerke and David Kirkby\u001b[0m \n",
            "                Copyright (C) 2000-2013 NIKHEF, University of California & Stanford University\n",
            "                All rights reserved, please read http://roofit.sourceforge.net/license.txt\n",
            "\n",
            "[#1] INFO:Eval -- RooAbsReal::attachToTree(H1_PX) TTree Float_t branch H1_PX will be converted to double precision\n",
            "[#1] INFO:Eval -- RooAbsReal::attachToTree(H1_PY) TTree Float_t branch H1_PY will be converted to double precision\n",
            "[#1] INFO:Eval -- RooAbsReal::attachToTree(H1_PZ) TTree Float_t branch H1_PZ will be converted to double precision\n",
            "[#1] INFO:Eval -- RooTreeDataStore::loadValues(data) Ignored 3305139 out of range events\n"
          ],
          "name": "stdout"
        },
        {
          "output_type": "display_data",
          "data": {
            "image/png": "[encoded data removed]",
            "text/plain": [
              "<IPython.core.display.Image object>"
            ]
          },
          "metadata": {
            "tags": []
          }
        }
      ]
    },
    {
      "cell_type": "code",
      "metadata": {
        "colab": {
          "base_uri": "https://localhost:8080/"
        },
        "id": "TK_uOk4gqEwL",
        "outputId": "daa878b1-03a1-4029-bc51-53326ff26ed7"
      },
      "source": [
        "data.get(1).getRealValue(\"H1_PY\")"
      ],
      "execution_count": 7,
      "outputs": [
        {
          "output_type": "execute_result",
          "data": {
            "text/plain": [
              "-199.95687866210938"
            ]
          },
          "metadata": {
            "tags": []
          },
          "execution_count": 7
        }
      ]
    },
    {
      "cell_type": "markdown",
      "metadata": {
        "id": "4e4n4iS3IJZi"
      },
      "source": [
        "#Why are we here?\n",
        "\n",
        "This week is about finding out something about one of the fundemental questions in physics. Why do we have \"stuff\".\n",
        "\n",
        "According to many of our models, and according to many measurements in particle physics, matter and anti-matter appear to be produced in equal quantities.\n",
        "\n",
        "However, when one looks at the Universe in general, we have more matter than anti-matter left - so there need to be some processes where anti-matter and matter are not produced equally. You can find out more about the Matter/Anti-Matter Asymmetry [here](http://press.web.cern.ch/backgrounders/matterantimatter-asymmetry)\n",
        "\n",
        "One place we look for this asymetry is in [charge-partity (CP) violation](https://www.symmetrymagazine.org/article/october-2005/explain-it-in-60-seconds) in particle physics processes. This essentially says that the processes that happen in the anti-particle version of a decay do not **exactly** match to the processes that happen in the particle version of the decay.\n",
        "\n",
        "\n",
        "\n",
        "---\n",
        "\n",
        "\n",
        "\n",
        "At LHCb, we produce both particle of the  B<sup>+</sup> meson and it's antiparticle the B<sup>-</sup> meson.\n",
        "\n",
        "We cannot detect these mesons directly. They decay into other things before we have a chance to measure them properly. So we collect data on the decay products, often called daughter particles. There are 524 [documented](http://pdg.lbl.gov/2014/listings/rpp2014-list-B-plus-minus.pdf) ways that the B<sup>+/-</sup> decays into various combinations. In order to simplify the process, we choose decay combinations that are convenient or have particular properties.\n",
        "\n",
        "In this analysis, we will take the process:-\n",
        "\n",
        "B<sup>+</sup>->K<sup>+</sup> + K<sup>+</sup>  + K<sup>-</sup>\n",
        "\n",
        "or\n",
        "\n",
        "B<sup>-</sup>->K<sup>-</sup> + K<sup>-</sup>  + K<sup>+</sup>\n",
        "\n",
        "\n",
        "To do so, we are given the following data for each event in our system:-\n",
        "\n",
        "![alt text](https://raw.githubusercontent.com/lhcb/opendata-project/80d64a3796e593fc8f9b257e85f32ae2e54f131f/Images/Variables.png)\n",
        "\n",
        "Here, H1 is the detected daughter particle (so a Kaon or a Pion), **not** the B-meson - the mother particle. Normally we would have to do some reconstruction from the decay products (the Daughters) to the Mother to be able to make some conclusions.\n",
        "\n",
        "Let's get started with working with this data:"
      ]
    },
    {
      "cell_type": "markdown",
      "metadata": {
        "id": "LOhfj7kfP-ao"
      },
      "source": [
        "For our analysis, the momentum of each of the daughter particles is split into the three cartesian components. We have combined these into a variable called H1_Ptot"
      ]
    },
    {
      "cell_type": "code",
      "metadata": {
        "colab": {
          "base_uri": "https://localhost:8080/"
        },
        "id": "bux68WpOWzhc",
        "outputId": "aa903892-4b1d-408d-d651-60ed40e65b93"
      },
      "source": [
        "f.ls()"
      ],
      "execution_count": 8,
      "outputs": [
        {
          "output_type": "stream",
          "text": [
            "TFile**\t\t/content/drive/MyDrive/MSP/UniData/Big_Data_Physics/B2HHH_MagnetUp.root\t\n",
            " TFile*\t\t/content/drive/MyDrive/MSP/UniData/Big_Data_Physics/B2HHH_MagnetUp.root\t\n",
            "  OBJ: TTree\tdata\tLHCB data : 0 at: 0x5609fa0a6680\n",
            "  OBJ: RooPlot\tframe_H1_PX_5609ffeb9ba0\tA RooPlot of \"H1 X Momentum\" : 0 at: 0x5609ffeb9ba0\n",
            "  KEY: TTree\tdata;14\tLHCB data\n",
            "  KEY: TTree\tdata;13\tLHCB data\n"
          ],
          "name": "stdout"
        }
      ]
    },
    {
      "cell_type": "markdown",
      "metadata": {
        "id": "5nJ6v373xSoF"
      },
      "source": [
        "## Finding and Inspecting ROOT Variables"
      ]
    },
    {
      "cell_type": "code",
      "metadata": {
        "colab": {
          "base_uri": "https://localhost:8080/"
        },
        "id": "_c0675URXNMj",
        "outputId": "02136c29-53a0-420f-ffdf-2b4239b445ac"
      },
      "source": [
        "tree.Show()"
      ],
      "execution_count": 9,
      "outputs": [
        {
          "output_type": "stream",
          "text": [
            "======> EVENT:3420194\n",
            " B_FlightDistance = 8.43893\n",
            " B_VertexChi2    = 7.84392\n",
            " H1_PX           = 816.635\n",
            " H1_PY           = 368.774\n",
            " H1_PZ           = 14055.8\n",
            " H1_ProbK        = 0.00679082\n",
            " H1_ProbPi       = 0.868581\n",
            " H1_Charge       = -1\n",
            " H1_IPChi2       = 910.454\n",
            " H1_isMuon       = 0\n",
            " H2_PX           = -587.363\n",
            " H2_PY           = -159.705\n",
            " H2_PZ           = 41307.4\n",
            " H2_ProbK        = 0.0221071\n",
            " H2_ProbPi       = 0.713949\n",
            " H2_Charge       = 1\n",
            " H2_IPChi2       = 1.76096\n",
            " H2_isMuon       = 0\n",
            " H3_PX           = -3647.65\n",
            " H3_PY           = -960.227\n",
            " H3_PZ           = 43878.3\n",
            " H3_ProbK        = 0.0291707\n",
            " H3_ProbPi       = 0.881665\n",
            " H3_Charge       = 1\n",
            " H3_IPChi2       = 589.565\n",
            " H3_isMuon       = 0\n",
            " H1_Ptot         = 14084.3\n",
            " H1_type         = 1\n",
            " H1_E            = 14085\n",
            " H2_Ptot         = 41311.9\n",
            " H2_type         = 1\n",
            " H2_E            = 41312.1\n",
            " H3_Ptot         = 44040.1\n",
            " H3_type         = 1\n",
            " H3_E            = 44040.3\n",
            " M_Ptot          = 99303.1\n",
            " M_E             = 99437.4\n",
            " M_m0            = 5166.19\n"
          ],
          "name": "stdout"
        }
      ]
    },
    {
      "cell_type": "code",
      "metadata": {
        "id": "Y4keyoyTPjsK",
        "colab": {
          "base_uri": "https://localhost:8080/",
          "height": 813
        },
        "outputId": "306ffa32-15a2-48ff-a5f0-1596819f321d"
      },
      "source": [
        "############################ EXAMPLE USING ROOFIT ##########################\n",
        "tot_mom = ROOT.RooRealVar(\"H1_Ptot\",\"H1 Tot Momentum - Using Roofit\",0,300000,\"MeV/c\")\n",
        "\n",
        "data = ROOT.RooDataSet(\"data\",\"data set\", tree, ROOT.RooArgSet(tot_mom), \"1==1\")\n",
        "# Now we create a canvas, plot our data onto the canvas and draw it:\n",
        "c1 = ROOT.TCanvas(\"c1\",\"c1\", 800, 400)\n",
        "frame = tot_mom.frame()\n",
        "data.plotOn(frame)\n",
        "frame.Draw()\n",
        "c1.Draw()\n",
        "\n",
        "############ USING NORMAL ROOT HISTOGRAM #################\n",
        "#Here make a plot of the Total momentum of each of the three daughters\n",
        "ROOT.gStyle.SetOptStat(0)\n",
        "\n",
        "c = ROOT.TCanvas(\"c\", \"c\", 800, 400)\n",
        "\n",
        "tree.Draw(\"H1_Ptot>>h1(250, 0, 300000)\")\n",
        "h1 = ROOT.gDirectory.Get(\"h1\")\n",
        "\n",
        "tree.Draw(\"H2_Ptot>>h2(250, 0, 300000)\")\n",
        "h2 = ROOT.gDirectory.Get(\"h2\")\n",
        "\n",
        "tree.Draw(\"H3_Ptot>>h3(250, 0, 300000)\")\n",
        "h3 = ROOT.gDirectory.Get(\"h3\")\n",
        "\n",
        "max = 0\n",
        "for h in [h1,h2,h3]:\n",
        "  if h.GetMaximum() >= max:\n",
        "    max = h.GetMaximum()\n",
        "\n",
        "varname = \"Ptot\"\n",
        "\n",
        "h1.SetMaximum(max + 1500)\n",
        "h1.SetTitle(\"Daughter \" + varname + \" Plot - Using ROOT Histogram\")\n",
        "h1.GetXaxis().SetTitle(varname)\n",
        "h1.GetYaxis().SetTitle(\"Entries\")\n",
        "h1.SetLineColor(2) # red\n",
        "h1.SetLineWidth(1)\n",
        "\n",
        "h2.SetTitle(varname)\n",
        "h2.SetLineColor(9) # blue\n",
        "h2.SetLineWidth(1)\n",
        "\n",
        "h1.Draw()\n",
        "h2.Draw(\"SAME\")\n",
        "h3.Draw(\"SAME\")\n",
        "\n",
        "leg = ROOT.TLegend(0.11 + 0.59, 0.77, 0.3 + 0.59, 0.89)\n",
        "leg.SetHeader(\"Legend\")\n",
        "leg.AddEntry(h1, \"H1_Ptot\", \"l\")\n",
        "leg.AddEntry(h2, \"H2_Ptot\", \"l\")\n",
        "leg.AddEntry(h3, \"H3_Ptot\", \"l\")\n",
        "\n",
        "leg.Draw(\"same\")\n",
        "\n",
        "c.Draw()"
      ],
      "execution_count": 10,
      "outputs": [
        {
          "output_type": "stream",
          "text": [
            "[#1] INFO:Eval -- RooAbsReal::attachToTree(H1_Ptot) TTree Float_t branch H1_Ptot will be converted to double precision\n",
            "[#1] INFO:Eval -- RooTreeDataStore::loadValues(data) Ignored 12283 out of range events\n"
          ],
          "name": "stdout"
        },
        {
          "output_type": "stream",
          "text": [
            "Warning in <TCanvas::Constructor>: Deleting canvas with same name: c\n"
          ],
          "name": "stderr"
        },
        {
          "output_type": "display_data",
          "data": {
            "image/png": "[encoded data removed]",
            "text/plain": [
              "<IPython.core.display.Image object>"
            ]
          },
          "metadata": {
            "tags": []
          }
        },
        {
          "output_type": "display_data",
          "data": {
            "image/png": "[encoded data removed]",
            "text/plain": [
              "<IPython.core.display.Image object>"
            ]
          },
          "metadata": {
            "tags": []
          }
        }
      ]
    },
    {
      "cell_type": "markdown",
      "metadata": {
        "id": "C1lXLMCoR1Gi"
      },
      "source": [
        "Now plot the total momentum for the mother (M_Ptot)"
      ]
    },
    {
      "cell_type": "code",
      "metadata": {
        "id": "6kdbiNpPR1QG",
        "colab": {
          "base_uri": "https://localhost:8080/",
          "height": 589
        },
        "outputId": "53724aa1-e7e5-414e-f1d2-b8dcaba689cf"
      },
      "source": [
        "#use the histogram plotting tools, plot the momentum of the mother\n",
        "c = ROOT.TCanvas(\"c2\", \"Ptot 1\", 800, 600)\n",
        "\n",
        "tree.Draw(\"M_Ptot>>h1(250, 0, 400000)\")\n",
        "h1 = ROOT.gDirectory.Get(\"h1\")\n",
        "\n",
        "varname = \"Ptot\"\n",
        "\n",
        "h1.SetTitle(\"Mother \" + varname + \" Plot\")\n",
        "h1.GetXaxis().SetTitle(varname)\n",
        "h1.GetYaxis().SetTitle(\"Entries\")\n",
        "h1.SetLineColor(2) # red\n",
        "h1.SetLineWidth(1)\n",
        "\n",
        "h1.Draw()\n",
        "\n",
        "leg = ROOT.TLegend(0.11 + 0.59, 0.77, 0.3 + 0.59, 0.89)\n",
        "leg.SetHeader(\"Legend\")\n",
        "leg.AddEntry(h1, \"M_Ptot\", \"l\")\n",
        "\n",
        "leg.Draw(\"same\")\n",
        "\n",
        "c.Draw()"
      ],
      "execution_count": 73,
      "outputs": [
        {
          "output_type": "display_data",
          "data": {
            "image/png": "[encoded data removed]",
            "text/plain": [
              "<IPython.core.display.Image object>"
            ]
          },
          "metadata": {
            "tags": []
          }
        }
      ]
    },
    {
      "cell_type": "markdown",
      "metadata": {
        "id": "w3sqwtNTUEJd"
      },
      "source": [
        "We have now completed the initial steps and begun to work through what we need to with the data. This is a perfect moment to take a coffee!"
      ]
    },
    {
      "cell_type": "markdown",
      "metadata": {
        "id": "6RhWWqt3a8_e"
      },
      "source": [
        "Having discovered all of the relevant information about our daughter particles, we need to combine the measurements about them into a single mother - which will be our B<sup>+</sup> or our B<sup>-</sup>\r\n",
        "\r\n",
        "Having found our momentum and energy, we can use these quantities to find our experimental mass (not the theoretical mass as we have used for the reconstruction).\r\n",
        "\r\n",
        "When we calculate this, we will get a distribution of masses. This is due to errors in the measurements made either by the detector, or in the experiment itself. We hope to have a reasonably narrow peak to work with, but, sometimes this is not possible.\r\n",
        "\r\n",
        "Additionally there will be other particles in the detector - which means our daughters might have come from two or even three different processes. Events which don't come from the same process will give a higher or lower mass than we are looking for. This is typically called the *background* while events which come from our event of interest are called the *signal*"
      ]
    },
    {
      "cell_type": "code",
      "metadata": {
        "id": "onr7-8CMbbFf",
        "colab": {
          "base_uri": "https://localhost:8080/",
          "height": 606
        },
        "outputId": "2de6afdc-c7f3-4f4f-924f-6897b5f6320e"
      },
      "source": [
        "#Now plot a histogram of the range of masses of the B meson.\r\n",
        "#Does this match what we would expect from theory?\r\n",
        "\r\n",
        "ROOT.gStyle.SetOptStat(0)\r\n",
        "\r\n",
        "c = ROOT.TCanvas(\"c2\", \"Ptot 1\", 800, 600)\r\n",
        "\r\n",
        "tree.Draw(\"sqrt(M_E*M_E - M_Ptot*M_Ptot*1**2)/1**2>>H(250, 1500, 7000)\")\r\n",
        "H = ROOT.gDirectory.Get(\"H\")\r\n",
        "\r\n",
        "tree.Draw(\"M_m0>>h1(250, 1500, 7000)\")\r\n",
        "h1 = ROOT.gDirectory.Get(\"h1\")\r\n",
        "\r\n",
        "varname = \"Ptot\"\r\n",
        "\r\n",
        "H.SetTitle(\"Daughter \" + varname + \" Plot\")\r\n",
        "H.GetXaxis().SetTitle(varname)\r\n",
        "H.GetYaxis().SetTitle(\"Entries\")\r\n",
        "H.SetLineColor(2) # red\r\n",
        "H.SetLineWidth(1)\r\n",
        "H.Draw()\r\n",
        "\r\n",
        "h1.SetLineColor(9) # red\r\n",
        "h1.SetLineWidth(1)\r\n",
        "h1.Draw()\r\n",
        "\r\n",
        "leg = ROOT.TLegend(0.11 + 0.59, 0.77, 0.3 + 0.59, 0.89)\r\n",
        "leg.SetHeader(\"Legend\")\r\n",
        "leg.AddEntry(H, \"m0 from calculation\", \"l\")\r\n",
        "leg.AddEntry(h1, \"M_m0 variable\", \"l\")\r\n",
        "\r\n",
        "\r\n",
        "leg.Draw(\"same\")\r\n",
        "\r\n",
        "c.Draw()\r\n",
        "\r\n",
        "#We can see that the pre stored mass distribution is exactly the same as the calculated one"
      ],
      "execution_count": 74,
      "outputs": [
        {
          "output_type": "stream",
          "text": [
            "Warning in <TCanvas::Constructor>: Deleting canvas with same name: c2\n"
          ],
          "name": "stderr"
        },
        {
          "output_type": "display_data",
          "data": {
            "image/png": "[encoded data removed]",
            "text/plain": [
              "<IPython.core.display.Image object>"
            ]
          },
          "metadata": {
            "tags": []
          }
        }
      ]
    },
    {
      "cell_type": "markdown",
      "metadata": {
        "id": "MWGFKFnXb0RP"
      },
      "source": [
        "We know that some of our particles are the B+ and some are the B- particle. There will also be some particles in our system that are not coming from a genuine B+/- or are a B+/- but are not constructed from Kaons.\r\n",
        "\r\n",
        "We have some tools available to help:-\r\n",
        "\r\n",
        "  *  During detection, software attributes the probability of a particle being a Kaon or a Pion (in the H1_ProbK or H1_ProbPi variable)\r\n",
        "  * The detector also knows if the particle was a Muon - since it has detectors specifically for these. So it can attribute a 0 or a 1 to this probability\r\n",
        "  * The reconstructed vertex has a some kind of quality associated with it (we call this the Vertex χ2 (this is the variable B_VertexChi2). This is the statistical measure that determines how well we found a single point to be the source of all three particles.\r\n",
        "\r\n"
      ]
    },
    {
      "cell_type": "markdown",
      "metadata": {
        "id": "fEpnSmH4b9HZ"
      },
      "source": [
        "In order to get a better result, we should select our data to have the properties we desire and make some rules (often called a selection) to cut away data we don't want to include for various reasons. e.g. we know we don't have any muons in our decay - so any time H1/H2/H3 are a muon they should be excluded. The other variables are not so clear - so we can plot them to make a decision."
      ]
    },
    {
      "cell_type": "code",
      "metadata": {
        "id": "k0vikJp0cAvv",
        "colab": {
          "base_uri": "https://localhost:8080/",
          "height": 589
        },
        "outputId": "9b4d11a3-ca02-493c-e865-47d8a1ba5bce"
      },
      "source": [
        "#Make plots of H1/H2/H3 _ProbK on one plot\r\n",
        "ROOT.gStyle.SetOptStat(0)\r\n",
        "\r\n",
        "xval = 1\r\n",
        "varname = \"ProbK\"\r\n",
        "\r\n",
        "c = ROOT.TCanvas(\"c\", \"c\", 800, 600)\r\n",
        "\r\n",
        "tree.Draw(\"H1_{0}>>h1(250, 0, {1})\".format(varname, xval))\r\n",
        "h1 = ROOT.gDirectory.Get(\"h1\")\r\n",
        "\r\n",
        "tree.Draw(\"H2_{0}>>h2(250, 0, {1})\".format(varname, xval))\r\n",
        "h2 = ROOT.gDirectory.Get(\"h2\")\r\n",
        "\r\n",
        "tree.Draw(\"H3_{0}>>h3(250, 0, {1})\".format(varname, xval))\r\n",
        "h3 = ROOT.gDirectory.Get(\"h3\")\r\n",
        "\r\n",
        "max = 0\r\n",
        "for h in [h1,h2,h3]:\r\n",
        "  if h.GetMaximum() >= max:\r\n",
        "    max = h.GetMaximum()\r\n",
        "\r\n",
        "h1.SetMaximum(max + 10000)\r\n",
        "h1.SetTitle(\"Daughter \" + varname + \" Plot\")\r\n",
        "h1.GetXaxis().SetTitle(varname)\r\n",
        "h1.GetYaxis().SetTitle(\"Entries\")\r\n",
        "h1.SetLineColor(2) # red\r\n",
        "h1.SetLineWidth(1)\r\n",
        "\r\n",
        "h2.SetTitle(varname)\r\n",
        "h2.SetLineColor(9) # blue\r\n",
        "h2.SetLineWidth(1)\r\n",
        "\r\n",
        "h1.Draw()\r\n",
        "h2.Draw(\"SAME\")\r\n",
        "h3.Draw(\"SAME\")\r\n",
        "\r\n",
        "leg = ROOT.TLegend(0.11 + 0.59, 0.77, 0.3 + 0.59, 0.89)\r\n",
        "leg.SetHeader(\"Legend\")\r\n",
        "leg.AddEntry(h1, \"H1_{}\".format(varname), \"l\")\r\n",
        "leg.AddEntry(h2, \"H2_{}\".format(varname), \"l\")\r\n",
        "leg.AddEntry(h3, \"H3_{}\".format(varname), \"l\")\r\n",
        "\r\n",
        "leg.Draw(\"same\")\r\n",
        "\r\n",
        "c.Draw()"
      ],
      "execution_count": 13,
      "outputs": [
        {
          "output_type": "display_data",
          "data": {
            "image/png": "[encoded data removed]",
            "text/plain": [
              "<IPython.core.display.Image object>"
            ]
          },
          "metadata": {
            "tags": []
          }
        }
      ]
    },
    {
      "cell_type": "code",
      "metadata": {
        "colab": {
          "base_uri": "https://localhost:8080/",
          "height": 606
        },
        "id": "9MT8I_uzEIgU",
        "outputId": "2b4ed7f6-0657-456e-e9f6-ef7ec2da7343"
      },
      "source": [
        "#Make plots of H1/H2/H3 _ProbPi on one plot\n",
        "xval = 1\n",
        "varname = \"ProbPi\"\n",
        "\n",
        "c = ROOT.TCanvas(\"c\", \"c\", 800, 600)\n",
        "\n",
        "tree.Draw(\"H1_{0}>>h1(250, 0, {1})\".format(varname, xval))\n",
        "h1 = ROOT.gDirectory.Get(\"h1\")\n",
        "\n",
        "tree.Draw(\"H2_{0}>>h2(250, 0, {1})\".format(varname, xval))\n",
        "h2 = ROOT.gDirectory.Get(\"h2\")\n",
        "\n",
        "tree.Draw(\"H3_{0}>>h3(250, 0, {1})\".format(varname, xval))\n",
        "h3 = ROOT.gDirectory.Get(\"h3\")\n",
        "\n",
        "max = 0\n",
        "for h in [h1,h2,h3]:\n",
        "  if h.GetMaximum() >= max:\n",
        "    max = h.GetMaximum()\n",
        "\n",
        "h1.SetMaximum(max + 10000)\n",
        "h1.SetTitle(\"Daughter \" + varname + \" Plot\")\n",
        "h1.GetXaxis().SetTitle(varname)\n",
        "h1.GetYaxis().SetTitle(\"Entries\")\n",
        "h1.SetLineColor(2) # red\n",
        "h1.SetLineWidth(1)\n",
        "\n",
        "h2.SetTitle(varname)\n",
        "h2.SetLineColor(9) # blue\n",
        "h2.SetLineWidth(1)\n",
        "\n",
        "h1.Draw()\n",
        "h2.Draw(\"SAME\")\n",
        "h3.Draw(\"SAME\")\n",
        "\n",
        "leg = ROOT.TLegend(0.11 + 0.59, 0.77, 0.3 + 0.59, 0.89)\n",
        "leg.SetHeader(\"Legend\")\n",
        "leg.AddEntry(h1, \"H1_{}\".format(varname), \"l\")\n",
        "leg.AddEntry(h2, \"H2_{}\".format(varname), \"l\")\n",
        "leg.AddEntry(h3, \"H3_{}\".format(varname), \"l\")\n",
        "\n",
        "leg.Draw(\"same\")\n",
        "\n",
        "c.Draw()"
      ],
      "execution_count": 14,
      "outputs": [
        {
          "output_type": "stream",
          "text": [
            "Warning in <TCanvas::Constructor>: Deleting canvas with same name: c\n"
          ],
          "name": "stderr"
        },
        {
          "output_type": "display_data",
          "data": {
            "image/png": "[encoded data removed]",
            "text/plain": [
              "<IPython.core.display.Image object>"
            ]
          },
          "metadata": {
            "tags": []
          }
        }
      ]
    },
    {
      "cell_type": "markdown",
      "metadata": {
        "id": "DWmxBkZ0cDx1"
      },
      "source": [
        "Using these plots, we can now make a preselection string. This is a text string that looks like "
      ]
    },
    {
      "cell_type": "code",
      "metadata": {
        "colab": {
          "base_uri": "https://localhost:8080/",
          "height": 589
        },
        "id": "aygD9WXSERMc",
        "outputId": "39758e51-be7e-4119-86bb-c6cb3991d645"
      },
      "source": [
        "#For all our particles, make a plot of the B_VertexChi2\n",
        "c = ROOT.TCanvas(\"c\", \"c\", 800, 600)\n",
        "\n",
        "xmax = tree.GetMaximum(\"B_VertexChi2\")\n",
        "\n",
        "tree.Draw(\"B_VertexChi2>>h1(250, 0, {})\".format(xmax))\n",
        "h1 = ROOT.gDirectory.Get(\"h1\")\n",
        "\n",
        "varname = \"Ptot\"\n",
        "\n",
        "h1.SetTitle(\"B_VertexChi2 Plot\")\n",
        "h1.GetXaxis().SetTitle(varname)\n",
        "h1.GetYaxis().SetTitle(\"Entries\")\n",
        "h1.SetLineColor(2) # red\n",
        "h1.SetLineWidth(1)\n",
        "\n",
        "h1.Draw()\n",
        "\n",
        "leg = ROOT.TLegend(0.11 + 0.59, 0.77, 0.3 + 0.59, 0.89)\n",
        "leg.SetHeader(\"Legend\")\n",
        "leg.AddEntry(h1, \"B_VertexChi2\", \"l\")\n",
        "leg.Draw(\"same\")\n",
        "\n",
        "c.Draw()"
      ],
      "execution_count": 75,
      "outputs": [
        {
          "output_type": "display_data",
          "data": {
            "image/png": "[encoded data removed]",
            "text/plain": [
              "<IPython.core.display.Image object>"
            ]
          },
          "metadata": {
            "tags": []
          }
        }
      ]
    },
    {
      "cell_type": "markdown",
      "metadata": {
        "id": "1P5ZcgZCw4wy"
      },
      "source": [
        "## Selections"
      ]
    },
    {
      "cell_type": "code",
      "metadata": {
        "id": "MxD7JMeicMu0"
      },
      "source": [
        "#To apply the selection - we can use the copytree command:\r\n",
        "selection=(\"H1_ProbK>0.3 && H2_ProbK>0.3 && H3_ProbK>0.3 && H1_ProbK>H1_ProbPi && H2_ProbK>H2_ProbPi && H3_ProbK>H3_ProbPi && !H1_isMuon && !H2_isMuon && !H2_isMuon\")\r\n",
        "CutTree=tree.CopyTree(selection)\r\n",
        "\r\n",
        "#So now we take our data in tree and apply selection to it (so only events which comply with those rules are kept) and put the new data in CutTree"
      ],
      "execution_count": 16,
      "outputs": []
    },
    {
      "cell_type": "code",
      "metadata": {
        "id": "hmmsoUwEcOir",
        "colab": {
          "base_uri": "https://localhost:8080/",
          "height": 606
        },
        "outputId": "e26d6130-fac6-4383-de98-48f274a923ab"
      },
      "source": [
        "#Now as a good check, we should see the effect of applying our cuts.\r\n",
        "#On one histogram, plot the B meson mass, from both the tree (pre-cuts) and the CutTree (post-cuts)\r\n",
        "#What do you notice about your histogram now?\r\n",
        "\r\n",
        "c = ROOT.TCanvas(\"c\", \"c\", 800, 600)\r\n",
        "\r\n",
        "\r\n",
        "tree.Draw(\"M_m0>>h1(250, 1500, 7000)\")\r\n",
        "h1 = ROOT.gDirectory.Get(\"h1\")\r\n",
        "\r\n",
        "CutTree.Draw(\"M_m0>>h2(250, 1500, 7000)\")\r\n",
        "h2 = ROOT.gDirectory.Get(\"h2\")\r\n",
        "\r\n",
        "varname = \"Ptot\"\r\n",
        "\r\n",
        "h1.SetTitle(\"Mass Distribution Plot, cuts vs. no cuts\")\r\n",
        "h1.GetXaxis().SetTitle(varname)\r\n",
        "h1.GetYaxis().SetTitle(\"Entries\")\r\n",
        "h1.SetLineColor(2) # red\r\n",
        "h1.SetLineWidth(1)\r\n",
        "\r\n",
        "h2.SetLineColor(9) # red\r\n",
        "h2.SetLineWidth(1)\r\n",
        "\r\n",
        "h1.Draw()\r\n",
        "h2.Draw(\"same\")\r\n",
        "\r\n",
        "leg = ROOT.TLegend(0.11 + 0.59, 0.77, 0.3 + 0.59, 0.89)\r\n",
        "leg.SetHeader(\"Legend\")\r\n",
        "leg.AddEntry(h1, \"M_m0 no cuts\", \"l\")\r\n",
        "leg.AddEntry(h2, \"M_m0 with cuts\", \"l\")\r\n",
        "\r\n",
        "leg.Draw(\"same\")\r\n",
        "\r\n",
        "c.Draw()"
      ],
      "execution_count": 77,
      "outputs": [
        {
          "output_type": "stream",
          "text": [
            "Warning in <TCanvas::Constructor>: Deleting canvas with same name: c\n"
          ],
          "name": "stderr"
        },
        {
          "output_type": "display_data",
          "data": {
            "image/png": "[encoded data removed]",
            "text/plain": [
              "<IPython.core.display.Image object>"
            ]
          },
          "metadata": {
            "tags": []
          }
        }
      ]
    },
    {
      "cell_type": "code",
      "metadata": {
        "colab": {
          "base_uri": "https://localhost:8080/",
          "height": 606
        },
        "id": "U8x1FQI8Pdp-",
        "outputId": "70978505-1619-4256-cf57-1e16ba829194"
      },
      "source": [
        "c = ROOT.TCanvas(\"c\", \"c\", 800, 600)\n",
        "\n",
        "CutTree.Draw(\"M_m0>>h2(250, 5100, 5500)\")\n",
        "h2 = ROOT.gDirectory.Get(\"h2\")\n",
        "\n",
        "varname = \"Ptot\"\n",
        "\n",
        "h2.SetTitle(\"Mass Distribution After Cuts (zoomed)\")\n",
        "h2.GetXaxis().SetTitle(varname)\n",
        "h2.GetYaxis().SetTitle(\"Entries\")\n",
        "h2.SetLineColor(9) # red\n",
        "h2.SetLineWidth(1)\n",
        "\n",
        "h2.Draw()\n",
        "\n",
        "leg = ROOT.TLegend(0.11 + 0.59, 0.77, 0.3 + 0.59, 0.89)\n",
        "leg.SetHeader(\"Legend\")\n",
        "leg.AddEntry(h2, \"M_m0 after cuts\", \"l\")\n",
        "\n",
        "leg.Draw(\"same\")\n",
        "\n",
        "c.Draw()"
      ],
      "execution_count": 78,
      "outputs": [
        {
          "output_type": "stream",
          "text": [
            "Warning in <TCanvas::Constructor>: Deleting canvas with same name: c\n"
          ],
          "name": "stderr"
        },
        {
          "output_type": "display_data",
          "data": {
            "image/png": "[encoded data removed]",
            "text/plain": [
              "<IPython.core.display.Image object>"
            ]
          },
          "metadata": {
            "tags": []
          }
        }
      ]
    },
    {
      "cell_type": "markdown",
      "metadata": {
        "id": "N1tResqvcMgQ"
      },
      "source": [
        "# Assymetry Analysis\r\n",
        "\r\n",
        "We now have a histogram of events that we have reconstructed as a B meson. But some of these events are caused by a co-incidence of events which would still occur if there were no B mesons actually produced. We call this the background. Background and signal are indistinguishable now as the detector cannot tell the difference and our cuts were unable to remove the events for physics reasons. We can do some statistical analysis, if we know the approximate shapes of our signal and our background. Just like a least-squares fitting we can run a fit routine to minimise the error between the fitted curve and our data. As an example, if we know our data has an exponential background and a gaussian signal:\r\n",
        "\r\n",
        "![Gaussian+Exp Background](https://twiki.cern.ch/twiki/pub/RooStats/RooStatsTutorialsJune2013/GausExpModelFit.png)\r\n",
        "\r\n",
        "Here the red line represents our signal, the blue dotted line is our background and the solid blue line is our combined curve. The graph also shows the number of signal events and the number of background events. The signal now is a tiny fraction of the total data shown in the plot.\r\n",
        "\r\n",
        "In order to do this, we need to build a fit model, around which the software can try to fit our data.\r\n",
        "\r\n",
        "We use RooFit for this, which includes:\r\n",
        "* Gaussian\r\n",
        "* Exponential\r\n",
        "* Chebychev\r\n",
        "* Crystal Ball\r\n",
        "* Breit-Wigner\r\n",
        "\r\n",
        "As well as several other choices.\r\n",
        "\r\n",
        "Typically exponential and Chebychev functions are used for background and Gaussian, Crystal Ball and Breit-Wigner are used for signal. We can also combine them (e.g. 1 crystal ball, 1 gaussian, 1 exponential) in various ways."
      ]
    },
    {
      "cell_type": "markdown",
      "metadata": {
        "id": "6Z0AnBwxd8wt"
      },
      "source": [
        "## Estimations with Gaussian fit shape\n",
        "\n"
      ]
    },
    {
      "cell_type": "markdown",
      "metadata": {
        "id": "baN0SXKy-AIR"
      },
      "source": [
        "### Mass fitting"
      ]
    },
    {
      "cell_type": "code",
      "metadata": {
        "id": "R_7q_HY1qhiS"
      },
      "source": [
        "#define physical measurment that we want to fit using RooRealVar\r\n",
        "# var = ROOT.RooRealVar =(\"Variable from Python\", \"Nickname\",Min, Max, Units)\r\n",
        "mass = ROOT.RooRealVar(\"M_m0\",\"Mass\",5150,5400,\"MeV/C^{2}\")\r\n",
        "\r\n",
        "#passing the rest of the variables into the model\r\n",
        "#For the RooRealVar the last three parameters are given, \"starting value\" and min/max values\r\n",
        "gaussMean = ROOT.RooRealVar(\"Mean\",\"Mean\",5000,5150,5400)\r\n",
        "gaussWidth = ROOT.RooRealVar(\"Width\",\"Width\",40,0,7000)\r\n",
        "\r\n",
        "#Now we have enough to make our Model for the signal:\r\n",
        "\r\n",
        "Gauss=ROOT.RooGaussian(\"Gauss\",\"Gaussian Signal\",mass,gaussMean,gaussWidth)\r\n",
        "Gauss_Norm= ROOT.RooRealVar(\"Gauss_Norm\",\"Signal Yield\", tree.GetEntries()/30, 0, tree.GetEntries() * 3)\r\n",
        "#We also need a background, so let's use a (simple) exponential:\r\n",
        "\r\n",
        "exponent=ROOT.RooRealVar(\"exponent\", \"C\", -0.02, -2, +2)\r\n",
        "exp_Norm= ROOT.RooRealVar(\"exp_Norm\",\"Background Yield\", tree.GetEntries()/30, 0, tree.GetEntries() * 2)\r\n",
        "\r\n",
        "#Define the  model for the background:\r\n",
        "\r\n",
        "Bkgnd=ROOT.RooExponential(\"Bkgnd\",\"Exponential Background\",mass,exponent)\r\n",
        "\r\n",
        "#Now we need to combine these two functions into a single PDF (probability density function)\r\n",
        "#and we need to add the normalisation factors at the end as scaling factors\r\n",
        "\r\n",
        "model=ROOT.RooAddPdf(\"Full Model\",\"model\",ROOT.RooArgList(Gauss,Bkgnd),ROOT.RooArgList(Gauss_Norm, exp_Norm) )"
      ],
      "execution_count": 19,
      "outputs": []
    },
    {
      "cell_type": "code",
      "metadata": {
        "id": "PL-qVvs-dw86",
        "colab": {
          "base_uri": "https://localhost:8080/"
        },
        "outputId": "7d5a43d1-21be-4c02-8961-702f6e8bbc04"
      },
      "source": [
        "#Put our data set into a RooDataSet structure\r\n",
        "\r\n",
        "data_to_fit=ROOT.RooDataSet(\"Data Set\",\"data_to_fit\", CutTree, ROOT.RooArgSet(mass))\r\n",
        "\r\n",
        "#Then we can do the fitting:\r\n",
        "\r\n",
        "model.fitTo(data_to_fit)\r\n",
        "\r\n",
        "#if everything went well, you will see the outputs of RooFit below"
      ],
      "execution_count": 20,
      "outputs": [
        {
          "output_type": "execute_result",
          "data": {
            "text/plain": [
              "<ROOT.RooFitResult object at 0x(nil)>"
            ]
          },
          "metadata": {
            "tags": []
          },
          "execution_count": 20
        },
        {
          "output_type": "stream",
          "text": [
            "[#1] INFO:Eval -- RooAbsReal::attachToTree(M_m0) TTree Float_t branch M_m0 will be converted to double precision\n",
            "[#1] INFO:Eval -- RooTreeDataStore::loadValues(Data Set) Ignored 5685 out of range events\n",
            "[#1] INFO:Minization -- p.d.f. provides expected number of events, including extended term in likelihood.\n",
            "[#1] INFO:Minization -- RooMinimizer::optimizeConst: activating const optimization\n",
            "[#1] INFO:Minization --  The following expressions will be evaluated in cache-and-track mode: (Gauss,Bkgnd)\n",
            " **********\n",
            " **    1 **SET PRINT           1\n",
            " **********\n",
            " **********\n",
            " **    2 **SET NOGRAD\n",
            " **********\n",
            " PARAMETER DEFINITIONS:\n",
            "    NO.   NAME         VALUE      STEP SIZE      LIMITS\n",
            "     1 Gauss_Norm   1.14006e+05  5.70030e+04    0.00000e+00  1.02606e+07\n",
            " MINUIT WARNING IN PARAM DEF\n",
            " ============== LIMITS ON PARAM1 TOO FAR APART.\n",
            " PARAMETER DEFINITIONS:\n",
            "    NO.   NAME         VALUE      STEP SIZE      LIMITS\n",
            "     2 Mean         5.15000e+03  2.50000e+01    5.15000e+03  5.40000e+03\n",
            " MINUIT WARNING IN PARAM DEF\n",
            " ============== STARTING VALUE IS AT LIMIT.\n",
            " MINUIT WARNING IN PARAMETR\n",
            " ============== VARIABLE2 IS AT ITS LOWER ALLOWED LIMIT.\n",
            " MINUIT WARNING IN PARAMETR\n",
            " ============== VARIABLE2 BROUGHT BACK INSIDE LIMITS.\n",
            "     3 Width        4.00000e+01  2.00000e+01    0.00000e+00  7.00000e+03\n",
            "     4 exp_Norm     1.14006e+05  5.70030e+04    0.00000e+00  6.84039e+06\n",
            "     5 exponent    -2.00000e-02  4.00000e-01   -2.00000e+00  2.00000e+00\n",
            " **********\n",
            " **    3 **SET ERR         0.5\n",
            " **********\n",
            " **********\n",
            " **    4 **SET PRINT           1\n",
            " **********\n",
            " **********\n",
            " **    5 **SET STR           1\n",
            " **********\n",
            " NOW USING STRATEGY  1: TRY TO BALANCE SPEED AGAINST RELIABILITY\n",
            " **********\n",
            " **    6 **MIGRAD        2500           1\n",
            " **********\n",
            " FIRST CALL TO USER FUNCTION AT NEW START POINT, WITH IFLAG=4.\n",
            " MINUIT WARNING IN MIGrad    \n",
            " ============== VARIABLE2 IS AT ITS LOWER ALLOWED LIMIT.\n",
            " START MIGRAD MINIMIZATION.  STRATEGY  1.  CONVERGENCE WHEN EDM .LT. 1.00e-03\n",
            " FCN=142879 FROM MIGRAD    STATUS=INITIATE       91 CALLS          92 TOTAL\n",
            "                     EDM= unknown      STRATEGY= 1      NO ERROR MATRIX       \n",
            "  EXT PARAMETER               CURRENT GUESS       STEP         FIRST   \n",
            "  NO.   NAME      VALUE            ERROR          SIZE      DERIVATIVE \n",
            "   1  Gauss_Norm   1.14006e+05   5.70030e+04   0.00000e+00   1.00701e+06\n",
            "   2  Mean         5.30029e+03   2.50000e+01   0.00000e+00   2.27994e+04\n",
            "   3  Width        2.06719e+01   2.00000e+01  -4.25912e-02   3.16690e+03\n",
            "   4  exp_Norm     1.14006e+05   5.70030e+04   0.00000e+00   8.41732e+05\n",
            "   5  exponent    -1.54104e-03   4.00000e-01   0.00000e+00  -1.19538e+04\n",
            "                               ERR DEF= 0.5\n",
            " MIGRAD MINIMIZATION HAS CONVERGED.\n",
            " MIGRAD WILL VERIFY CONVERGENCE AND ERROR MATRIX.\n",
            " COVARIANCE MATRIX CALCULATED SUCCESSFULLY\n",
            " FCN=-41800.9 FROM MIGRAD    STATUS=CONVERGED     212 CALLS         213 TOTAL\n",
            "                     EDM=7.19661e-06    STRATEGY= 1      ERROR MATRIX ACCURATE \n",
            "  EXT PARAMETER                                   STEP         FIRST   \n",
            "  NO.   NAME      VALUE            ERROR          SIZE      DERIVATIVE \n",
            "   1  Gauss_Norm   9.44399e+03   1.06856e+02   4.60103e-05   1.16366e+00\n",
            "   2  Mean         5.28488e+03   2.11143e-01   2.37151e-04   2.01719e-01\n",
            "   3  Width        1.80097e+01   1.89667e-01   6.92538e-05  -3.06420e+00\n",
            "   4  exp_Norm     2.24111e+03   6.49267e+01   6.66175e-05   3.19586e+00\n",
            "   5  exponent    -1.60098e-03   3.13191e-04   2.15961e-05   4.55550e-01\n",
            "                               ERR DEF= 0.5\n",
            " EXTERNAL ERROR MATRIX.    NDIM=  25    NPAR=  5    ERR DEF=0.5\n",
            "  1.142e+04  2.899e-02  4.589e+00 -1.974e+03 -3.107e-03 \n",
            "  2.899e-02  4.458e-02  3.077e-05 -2.914e-02 -8.398e-06 \n",
            "  4.589e+00  3.077e-05  3.597e-02 -4.587e+00 -7.167e-06 \n",
            " -1.974e+03 -2.914e-02 -4.587e+00  4.215e+03  3.108e-03 \n",
            " -3.107e-03 -8.398e-06 -7.167e-06  3.108e-03  9.809e-08 \n",
            " PARAMETER  CORRELATION COEFFICIENTS  \n",
            "       NO.  GLOBAL      1      2      3      4      5\n",
            "        1  0.31540   1.000  0.001  0.226 -0.284 -0.093\n",
            "        2  0.12860   0.001  1.000  0.001 -0.002 -0.127\n",
            "        3  0.39747   0.226  0.001  1.000 -0.373 -0.121\n",
            "        4  0.43605  -0.284 -0.002 -0.373  1.000  0.153\n",
            "        5  0.21432  -0.093 -0.127 -0.121  0.153  1.000\n",
            " **********\n",
            " **    7 **SET ERR         0.5\n",
            " **********\n",
            " **********\n",
            " **    8 **SET PRINT           1\n",
            " **********\n",
            " **********\n",
            " **    9 **HESSE        2500\n",
            " **********\n",
            " COVARIANCE MATRIX CALCULATED SUCCESSFULLY\n",
            " FCN=-41800.9 FROM HESSE     STATUS=OK             31 CALLS         244 TOTAL\n",
            "                     EDM=7.19979e-06    STRATEGY= 1      ERROR MATRIX ACCURATE \n",
            "  EXT PARAMETER                                INTERNAL      INTERNAL  \n",
            "  NO.   NAME      VALUE            ERROR       STEP SIZE       VALUE   \n",
            "   1  Gauss_Norm   9.44399e+03   1.06877e+02   9.20207e-06  -1.51011e+00\n",
            "   2  Mean         5.28488e+03   2.11144e-01   4.74301e-05   7.91102e-02\n",
            "   3  Width        1.80097e+01   1.89757e-01   1.38508e-05  -1.46931e+00\n",
            "   4  exp_Norm     2.24111e+03   6.49601e+01   1.33235e-05  -1.53459e+00\n",
            "   5  exponent    -1.60098e-03   3.13258e-04   8.63844e-07  -8.00491e-04\n",
            "                               ERR DEF= 0.5\n",
            " EXTERNAL ERROR MATRIX.    NDIM=  25    NPAR=  5    ERR DEF=0.5\n",
            "  1.142e+04  2.932e-02  4.604e+00 -1.979e+03 -3.132e-03 \n",
            "  2.932e-02  4.458e-02 -4.314e-08 -2.935e-02 -8.396e-06 \n",
            "  4.604e+00 -4.314e-08  3.601e-02 -4.604e+00 -7.227e-06 \n",
            " -1.979e+03 -2.935e-02 -4.604e+00  4.220e+03  3.132e-03 \n",
            " -3.132e-03 -8.396e-06 -7.227e-06  3.132e-03  9.813e-08 \n",
            " PARAMETER  CORRELATION COEFFICIENTS  \n",
            "       NO.  GLOBAL      1      2      3      4      5\n",
            "        1  0.31596   1.000  0.001  0.227 -0.285 -0.094\n",
            "        2  0.12861   0.001  1.000 -0.000 -0.002 -0.127\n",
            "        3  0.39846   0.227 -0.000  1.000 -0.373 -0.122\n",
            "        4  0.43700  -0.285 -0.002 -0.373  1.000  0.154\n",
            "        5  0.21527  -0.094 -0.127 -0.122  0.154  1.000\n",
            "[#1] INFO:Minization -- RooMinimizer::optimizeConst: deactivating const optimization\n"
          ],
          "name": "stdout"
        }
      ]
    },
    {
      "cell_type": "code",
      "metadata": {
        "id": "bUhgxlRGd4XO",
        "colab": {
          "base_uri": "https://localhost:8080/",
          "height": 576
        },
        "outputId": "3080f333-8768-4772-eeac-d6abda42d3f0"
      },
      "source": [
        "#Now to plot it all\r\n",
        "c1=ROOT.TCanvas(\"c1\",\"c1\")\r\n",
        "frame=mass.frame()\r\n",
        "data_to_fit.plotOn(frame)\r\n",
        "model.plotOn(frame)\r\n",
        "model.plotOn(frame, ROOT.RooFit.Components(\"Gauss\"),ROOT.RooFit.LineColor(8),ROOT.RooFit.LineStyle(2))\r\n",
        "model.plotOn(frame, ROOT.RooFit.Components(\"Bkgnd\"),ROOT.RooFit.LineColor(46),ROOT.RooFit.LineStyle(2))\r\n",
        "frame.Draw()\r\n",
        "c1.Update()\r\n",
        "c1.Draw()"
      ],
      "execution_count": 21,
      "outputs": [
        {
          "output_type": "stream",
          "text": [
            "[#1] INFO:Plotting -- RooAbsPdf::plotOn(Full Model) directly selected PDF components: (Gauss)\n",
            "[#1] INFO:Plotting -- RooAbsPdf::plotOn(Full Model) indirectly selected PDF components: ()\n",
            "[#1] INFO:Plotting -- RooAbsPdf::plotOn(Full Model) directly selected PDF components: (Bkgnd)\n",
            "[#1] INFO:Plotting -- RooAbsPdf::plotOn(Full Model) indirectly selected PDF components: ()\n"
          ],
          "name": "stdout"
        },
        {
          "output_type": "stream",
          "text": [
            "Warning in <TCanvas::Constructor>: Deleting canvas with same name: c1\n"
          ],
          "name": "stderr"
        },
        {
          "output_type": "display_data",
          "data": {
            "image/png": "[encoded data removed]",
            "text/plain": [
              "<IPython.core.display.Image object>"
            ]
          },
          "metadata": {
            "tags": []
          }
        }
      ]
    },
    {
      "cell_type": "markdown",
      "metadata": {
        "id": "60b4bs1od4M_"
      },
      "source": [
        "Using this structure, you can in theory build whatever models you like!\r\n",
        "\r\n",
        "Some recommendations (but not necessary to do all):-\r\n",
        "\r\n",
        "\r\n",
        "\r\n",
        "*   Gauss+Exponential (as above)\r\n",
        "*   Crystal Ball + Exponential\r\n",
        "*   Gauss+Crystal Ball+Exponential (now you need to weigh the two signal peaks and then the total signal against total background)\r\n",
        "*   Gauss+Chebychev\r\n",
        "*   Two Crystal Balls + Exponential"
      ]
    },
    {
      "cell_type": "markdown",
      "metadata": {
        "id": "vHivSaH1dwy7"
      },
      "source": [
        "So how good was the fit, and how many events do you have?\r\n",
        "\r\n",
        "We can use the .getValV() function on our signal and background *normalisation* components, e.g. Gauss_Norm=Gauss.getValV()\r\n",
        "\r\n",
        "To find the error (on this number) we can use .getError()\r\n",
        "\r\n",
        "Neither of these measures would tell us if this was a good fit or not. Normally we use a χ2 test to do so - this is built into the image we made (so we can do frame.chiSquare() to get this data)\r\n",
        "\r\n",
        "For each model you made, print the signal and background yields (with errors) and report the χ2"
      ]
    },
    {
      "cell_type": "code",
      "metadata": {
        "colab": {
          "base_uri": "https://localhost:8080/"
        },
        "id": "T1ndz1Olcvt8",
        "outputId": "ec1c5678-df4f-47bb-d2a1-0ebe259ebb8b"
      },
      "source": [
        "full_signal_yield = Gauss_Norm.getValV()\n",
        "full_signal_error = Gauss_Norm.getError()\n",
        "full_chi2ndf = frame.chiSquare()\n",
        "\n",
        "print(full_signal_yield, full_signal_error, full_chi2ndf)"
      ],
      "execution_count": 22,
      "outputs": [
        {
          "output_type": "stream",
          "text": [
            "(9443.985479056862, 106.87654230651879, 91.93313218553881)\n"
          ],
          "name": "stdout"
        }
      ]
    },
    {
      "cell_type": "markdown",
      "metadata": {
        "id": "ob2HARgWoTGe"
      },
      "source": [
        "### Counting\r\n",
        "\r\n",
        "So we have now loaded our data; we have reconstructed information about the mother B meson and we have cut away any data which looks like it might not be what we are looking for. We have then plotted histograms of the mass of the B meson and used this to fit a model, a function to describe the events there. We now have to identify which of our events belong to the B<sup>+</sup> and how many of them belong to B<sup>-</sup>.\r\n",
        "\r\n",
        "To do this, should split out data into two groups (and throw away data which doesn't comply with either decay)\r\n",
        "\r\n",
        "We will be looking for the events which are\r\n",
        "\r\n",
        "\r\n",
        "B<sup>+</sup>->K<sup>+</sup> + K<sup>+</sup>  + K<sup>-</sup>\r\n",
        "\r\n",
        "or\r\n",
        "\r\n",
        "B<sup>-</sup>->K<sup>-</sup> + K<sup>-</sup>  + K<sup>+</sup>\r\n",
        "\r\n",
        "We can look for the number of positive and negative charges in H1, H2 and H3 (using the variable ```H1_Charge``` etc.). If we have 0 or 3 positive charges, we should throw the event away and if we have 1 it should be assigned be a B<sup>-</sup>, with 2 it should be a B<sup>+</sup>"
      ]
    },
    {
      "cell_type": "code",
      "metadata": {
        "id": "B4cHffPzl3xu"
      },
      "source": [
        "Bplus_cuts = (\"H1_Charge+H2_Charge+H3_Charge == 1\")\n",
        "Bminus_cuts = (\"H1_Charge+H2_Charge+H3_Charge == -1\")\n",
        "\n",
        "bplusTree = CutTree.CopyTree(Bplus_cuts)\n",
        "bminusTree = CutTree.CopyTree(Bminus_cuts)"
      ],
      "execution_count": 23,
      "outputs": []
    },
    {
      "cell_type": "code",
      "metadata": {
        "id": "UPYPNYGNpoQa",
        "colab": {
          "base_uri": "https://localhost:8080/",
          "height": 606
        },
        "outputId": "d2462739-2ed8-4464-ba74-7b0abaaba6b7"
      },
      "source": [
        "c = ROOT.TCanvas(\"c\", \"c\", 800, 600)\n",
        "\n",
        "bplusTree.Draw(\"M_m0>>h1(250, 5100, 5500)\")\n",
        "h1 = ROOT.gDirectory.Get(\"h1\")\n",
        "\n",
        "bminusTree.Draw(\"M_m0>>h2(250, 5100, 5500)\")\n",
        "h2 = ROOT.gDirectory.Get(\"h2\")\n",
        "\n",
        "varname = \"Ptot\"\n",
        "\n",
        "h2.SetTitle(\"M_m0 Plot\")\n",
        "h2.GetXaxis().SetTitle(varname)\n",
        "h2.GetYaxis().SetTitle(\"Entries\")\n",
        "h2.SetLineColor(9) # red\n",
        "h2.SetLineWidth(1)\n",
        "\n",
        "h1.SetLineColor(2) # red\n",
        "h1.SetLineWidth(1)\n",
        "\n",
        "\n",
        "h2.Draw()\n",
        "h1.Draw(\"same\")\n",
        "\n",
        "leg = ROOT.TLegend(0.11 + 0.59, 0.77, 0.3 + 0.59, 0.89)\n",
        "leg.SetHeader(\"Legend\")\n",
        "leg.AddEntry(h2, \"bminus\", \"l\")\n",
        "leg.AddEntry(h1, \"bplus\", \"l\")\n",
        "\n",
        "leg.Draw(\"same\")\n",
        "\n",
        "c.Draw()"
      ],
      "execution_count": 81,
      "outputs": [
        {
          "output_type": "stream",
          "text": [
            "Warning in <TCanvas::Constructor>: Deleting canvas with same name: c\n"
          ],
          "name": "stderr"
        },
        {
          "output_type": "display_data",
          "data": {
            "image/png": "[encoded data removed]",
            "text/plain": [
              "<IPython.core.display.Image object>"
            ]
          },
          "metadata": {
            "tags": []
          }
        }
      ]
    },
    {
      "cell_type": "markdown",
      "metadata": {
        "id": "BX_9CMctzjH8"
      },
      "source": [
        "#### $B+$ calculations"
      ]
    },
    {
      "cell_type": "code",
      "metadata": {
        "id": "tpyc4mUXs6Pv",
        "colab": {
          "base_uri": "https://localhost:8080/"
        },
        "outputId": "de53bfb1-cc9d-4ebf-c790-4442ad4d7f6a"
      },
      "source": [
        "mass = ROOT.RooRealVar(\"M_m0\",\"Mass\",5150,5400,\"MeV/C^{2}\")\n",
        "\n",
        "gaussMean = ROOT.RooRealVar(\"Mean\",\"Mean\",5000,5150,5400)\n",
        "gaussWidth = ROOT.RooRealVar(\"Width\",\"Width\",40,0,7000)\n",
        "\n",
        "Gauss=ROOT.RooGaussian(\"Gauss\",\"Gaussian Signal\",mass,gaussMean,gaussWidth)\n",
        "Gauss_Norm= ROOT.RooRealVar(\"Gauss_Norm\",\"Signal Yield\", tree.GetEntries()/30, 0, tree.GetEntries() * 3)\n",
        "\n",
        "exponent=ROOT.RooRealVar(\"exponent\", \"C\", -0.02, -2, +2)\n",
        "exp_Norm= ROOT.RooRealVar(\"exp_Norm\",\"Background Yield\", tree.GetEntries()/30, 0, tree.GetEntries() * 2)\n",
        "\n",
        "Bkgnd=ROOT.RooExponential(\"Bkgnd\",\"Exponential Background\",mass,exponent)\n",
        "\n",
        "model=ROOT.RooAddPdf(\"Full Model\",\"model\",ROOT.RooArgList(Gauss,Bkgnd),ROOT.RooArgList(Gauss_Norm, exp_Norm) )\n",
        "\n",
        "data_to_fit=ROOT.RooDataSet(\"Data Set\",\"data_to_fit\", bplusTree, ROOT.RooArgSet(mass))\n",
        "\n",
        "model.fitTo(data_to_fit)"
      ],
      "execution_count": 25,
      "outputs": [
        {
          "output_type": "execute_result",
          "data": {
            "text/plain": [
              "<ROOT.RooFitResult object at 0x(nil)>"
            ]
          },
          "metadata": {
            "tags": []
          },
          "execution_count": 25
        },
        {
          "output_type": "stream",
          "text": [
            "[#1] INFO:Eval -- RooAbsReal::attachToTree(M_m0) TTree Float_t branch M_m0 will be converted to double precision\n",
            "[#1] INFO:Eval -- RooTreeDataStore::loadValues(Data Set) Ignored 2846 out of range events\n",
            "[#1] INFO:Minization -- p.d.f. provides expected number of events, including extended term in likelihood.\n",
            "[#1] INFO:Minization -- RooMinimizer::optimizeConst: activating const optimization\n",
            "[#1] INFO:Minization --  The following expressions will be evaluated in cache-and-track mode: (Gauss,Bkgnd)\n",
            " **********\n",
            " **   10 **SET PRINT           1\n",
            " **********\n",
            " **********\n",
            " **   11 **SET NOGRAD\n",
            " **********\n",
            " PARAMETER DEFINITIONS:\n",
            "    NO.   NAME         VALUE      STEP SIZE      LIMITS\n",
            "     1 Gauss_Norm   1.14006e+05  5.70030e+04    0.00000e+00  1.02606e+07\n",
            " MINUIT WARNING IN PARAM DEF\n",
            " ============== LIMITS ON PARAM1 TOO FAR APART.\n",
            " PARAMETER DEFINITIONS:\n",
            "    NO.   NAME         VALUE      STEP SIZE      LIMITS\n",
            "     2 Mean         5.15000e+03  2.50000e+01    5.15000e+03  5.40000e+03\n",
            " MINUIT WARNING IN PARAM DEF\n",
            " ============== STARTING VALUE IS AT LIMIT.\n",
            " MINUIT WARNING IN PARAMETR\n",
            " ============== VARIABLE2 IS AT ITS LOWER ALLOWED LIMIT.\n",
            " MINUIT WARNING IN PARAMETR\n",
            " ============== VARIABLE2 BROUGHT BACK INSIDE LIMITS.\n",
            "     3 Width        4.00000e+01  2.00000e+01    0.00000e+00  7.00000e+03\n",
            "     4 exp_Norm     1.14006e+05  5.70030e+04    0.00000e+00  6.84039e+06\n",
            "     5 exponent    -2.00000e-02  4.00000e-01   -2.00000e+00  2.00000e+00\n",
            " **********\n",
            " **   12 **SET ERR         0.5\n",
            " **********\n",
            " **********\n",
            " **   13 **SET PRINT           1\n",
            " **********\n",
            " **********\n",
            " **   14 **SET STR           1\n",
            " **********\n",
            " NOW USING STRATEGY  1: TRY TO BALANCE SPEED AGAINST RELIABILITY\n",
            " **********\n",
            " **   15 **MIGRAD        2500           1\n",
            " **********\n",
            " FIRST CALL TO USER FUNCTION AT NEW START POINT, WITH IFLAG=4.\n",
            " MINUIT WARNING IN MIGrad    \n",
            " ============== VARIABLE2 IS AT ITS LOWER ALLOWED LIMIT.\n",
            " START MIGRAD MINIMIZATION.  STRATEGY  1.  CONVERGENCE WHEN EDM .LT. 1.00e-03\n",
            " FCN=185614 FROM MIGRAD    STATUS=INITIATE       65 CALLS          66 TOTAL\n",
            "                     EDM= unknown      STRATEGY= 1      NO ERROR MATRIX       \n",
            "  EXT PARAMETER               CURRENT GUESS       STEP         FIRST   \n",
            "  NO.   NAME      VALUE            ERROR          SIZE      DERIVATIVE \n",
            "   1  Gauss_Norm   1.14006e+05   5.70030e+04   0.00000e+00   1.04419e+06\n",
            "   2  Mean         5.24479e+03   2.50000e+01   0.00000e+00  -7.50915e+03\n",
            "   3  Width        4.00000e+01   2.00000e+01   0.00000e+00  -6.02272e+03\n",
            "   4  exp_Norm     1.14006e+05   5.70030e+04   0.00000e+00   8.54467e+05\n",
            "   5  exponent     3.21414e-03   4.00000e-01   1.16072e-02   1.05105e+04\n",
            "                               ERR DEF= 0.5\n",
            " MIGRAD MINIMIZATION HAS CONVERGED.\n",
            " MIGRAD WILL VERIFY CONVERGENCE AND ERROR MATRIX.\n",
            " COVARIANCE MATRIX CALCULATED SUCCESSFULLY\n",
            " FCN=-17843.8 FROM MIGRAD    STATUS=CONVERGED     243 CALLS         244 TOTAL\n",
            "                     EDM=0.000101667    STRATEGY= 1      ERROR MATRIX ACCURATE \n",
            "  EXT PARAMETER                                   STEP         FIRST   \n",
            "  NO.   NAME      VALUE            ERROR          SIZE      DERIVATIVE \n",
            "   1  Gauss_Norm   4.93686e+03   7.72566e+01   3.00381e-05  -5.82619e+00\n",
            "   2  Mean         5.28556e+03   2.91565e-01   2.14086e-04   2.71831e+00\n",
            "   3  Width        1.79823e+01   2.63389e-01   6.27086e-05   7.89504e+00\n",
            "   4  exp_Norm     1.14903e+03   4.67007e+01   4.35852e-05   1.62452e+00\n",
            "   5  exponent    -1.62884e-03   4.37997e-04   1.97316e-05  -2.07852e+01\n",
            "                               ERR DEF= 0.5\n",
            " EXTERNAL ERROR MATRIX.    NDIM=  25    NPAR=  5    ERR DEF=0.5\n",
            "  5.969e+03 -1.286e-01  4.670e+00 -1.032e+03 -3.181e-03 \n",
            " -1.286e-01  8.501e-02 -1.377e-03  1.283e-01 -1.583e-05 \n",
            "  4.670e+00 -1.377e-03  6.937e-02 -4.669e+00 -1.369e-05 \n",
            " -1.032e+03  1.283e-01 -4.669e+00  2.181e+03  3.183e-03 \n",
            " -3.181e-03 -1.583e-05 -1.369e-05  3.183e-03  1.918e-07 \n",
            " PARAMETER  CORRELATION COEFFICIENTS  \n",
            "       NO.  GLOBAL      1      2      3      4      5\n",
            "        1  0.31723   1.000 -0.006  0.230 -0.286 -0.094\n",
            "        2  0.12969  -0.006  1.000 -0.018  0.009 -0.124\n",
            "        3  0.40416   0.230 -0.018  1.000 -0.380 -0.119\n",
            "        4  0.44218  -0.286  0.009 -0.380  1.000  0.156\n",
            "        5  0.21502  -0.094 -0.124 -0.119  0.156  1.000\n",
            " **********\n",
            " **   16 **SET ERR         0.5\n",
            " **********\n",
            " **********\n",
            " **   17 **SET PRINT           1\n",
            " **********\n",
            " **********\n",
            " **   18 **HESSE        2500\n",
            " **********\n",
            " COVARIANCE MATRIX CALCULATED SUCCESSFULLY\n",
            " FCN=-17843.8 FROM HESSE     STATUS=OK             31 CALLS         275 TOTAL\n",
            "                     EDM=0.000101676    STRATEGY= 1      ERROR MATRIX ACCURATE \n",
            "  EXT PARAMETER                                INTERNAL      INTERNAL  \n",
            "  NO.   NAME      VALUE            ERROR       STEP SIZE       VALUE   \n",
            "   1  Gauss_Norm   4.93686e+03   7.72702e+01   6.00762e-06  -1.52692e+00\n",
            "   2  Mean         5.28556e+03   2.91569e-01   4.28173e-05   8.45722e-02\n",
            "   3  Width        1.79823e+01   2.63507e-01   1.25417e-05  -1.46938e+00\n",
            "   4  exp_Norm     1.14903e+03   4.67225e+01   8.71704e-06  -1.54487e+00\n",
            "   5  exponent    -1.62884e-03   4.38071e-04   3.94632e-06  -8.14423e-04\n",
            "                               ERR DEF= 0.5\n",
            " EXTERNAL ERROR MATRIX.    NDIM=  25    NPAR=  5    ERR DEF=0.5\n",
            "  5.971e+03 -1.290e-01  4.684e+00 -1.034e+03 -3.202e-03 \n",
            " -1.290e-01  8.501e-02 -1.434e-03  1.290e-01 -1.582e-05 \n",
            "  4.684e+00 -1.434e-03  6.944e-02 -4.684e+00 -1.378e-05 \n",
            " -1.034e+03  1.290e-01 -4.684e+00  2.183e+03  3.202e-03 \n",
            " -3.202e-03 -1.582e-05 -1.378e-05  3.202e-03  1.919e-07 \n",
            " PARAMETER  CORRELATION COEFFICIENTS  \n",
            "       NO.  GLOBAL      1      2      3      4      5\n",
            "        1  0.31773   1.000 -0.006  0.230 -0.286 -0.095\n",
            "        2  0.12980  -0.006  1.000 -0.019  0.009 -0.124\n",
            "        3  0.40508   0.230 -0.019  1.000 -0.380 -0.119\n",
            "        4  0.44302  -0.286  0.009 -0.380  1.000  0.156\n",
            "        5  0.21577  -0.095 -0.124 -0.119  0.156  1.000\n",
            "[#1] INFO:Minization -- RooMinimizer::optimizeConst: deactivating const optimization\n"
          ],
          "name": "stdout"
        }
      ]
    },
    {
      "cell_type": "code",
      "metadata": {
        "id": "KpIaLjmuwBBh",
        "colab": {
          "base_uri": "https://localhost:8080/",
          "height": 576
        },
        "outputId": "c300da09-d41f-4fd1-d264-14ec226124f6"
      },
      "source": [
        "c1=ROOT.TCanvas(\"c1\",\"c1\")\n",
        "frame=mass.frame()\n",
        "data_to_fit.plotOn(frame)\n",
        "model.plotOn(frame)\n",
        "model.plotOn(frame, ROOT.RooFit.Components(\"Gauss\"),ROOT.RooFit.LineColor(8),ROOT.RooFit.LineStyle(2))\n",
        "model.plotOn(frame, ROOT.RooFit.Components(\"Bkgnd\"),ROOT.RooFit.LineColor(46),ROOT.RooFit.LineStyle(2))\n",
        "frame.Draw()\n",
        "c1.Update()\n",
        "c1.Draw()"
      ],
      "execution_count": 26,
      "outputs": [
        {
          "output_type": "stream",
          "text": [
            "[#1] INFO:Plotting -- RooAbsPdf::plotOn(Full Model) directly selected PDF components: (Gauss)\n",
            "[#1] INFO:Plotting -- RooAbsPdf::plotOn(Full Model) indirectly selected PDF components: ()\n",
            "[#1] INFO:Plotting -- RooAbsPdf::plotOn(Full Model) directly selected PDF components: (Bkgnd)\n",
            "[#1] INFO:Plotting -- RooAbsPdf::plotOn(Full Model) indirectly selected PDF components: ()\n"
          ],
          "name": "stdout"
        },
        {
          "output_type": "stream",
          "text": [
            "Warning in <TCanvas::Constructor>: Deleting canvas with same name: c1\n"
          ],
          "name": "stderr"
        },
        {
          "output_type": "display_data",
          "data": {
            "image/png": "[encoded data removed]",
            "text/plain": [
              "<IPython.core.display.Image object>"
            ]
          },
          "metadata": {
            "tags": []
          }
        }
      ]
    },
    {
      "cell_type": "code",
      "metadata": {
        "id": "Cdn5szl2wWjf",
        "colab": {
          "base_uri": "https://localhost:8080/"
        },
        "outputId": "045ee2f7-d0d4-4409-bba9-3eb2085baa21"
      },
      "source": [
        "Bplus_signal_yield = Gauss_Norm.getValV()\n",
        "Bplus_signal_error = Gauss_Norm.getError()\n",
        "Bplus_chi2ndf = frame.chiSquare()\n",
        "\n",
        "print(Bplus_signal_yield, Bplus_signal_error, Bplus_chi2ndf)"
      ],
      "execution_count": 27,
      "outputs": [
        {
          "output_type": "stream",
          "text": [
            "(4936.863765310058, 77.27021313019668, 48.87435285189418)\n"
          ],
          "name": "stdout"
        }
      ]
    },
    {
      "cell_type": "markdown",
      "metadata": {
        "id": "NtPgiZHVzqEW"
      },
      "source": [
        "#### $B-$ calculations"
      ]
    },
    {
      "cell_type": "code",
      "metadata": {
        "id": "8hyr6qMmwWPr",
        "colab": {
          "base_uri": "https://localhost:8080/"
        },
        "outputId": "ff189226-c48d-4505-9d87-24cd0c41ae15"
      },
      "source": [
        "mass = ROOT.RooRealVar(\"M_m0\",\"Mass\",5150,5400,\"MeV/C^{2}\")\n",
        "\n",
        "gaussMean = ROOT.RooRealVar(\"Mean\",\"Mean\",5000,5150,5400)\n",
        "gaussWidth = ROOT.RooRealVar(\"Width\",\"Width\",40,0,7000)\n",
        "\n",
        "Gauss=ROOT.RooGaussian(\"Gauss\",\"Gaussian Signal\",mass,gaussMean,gaussWidth)\n",
        "Gauss_Norm= ROOT.RooRealVar(\"Gauss_Norm\",\"Signal Yield\", tree.GetEntries()/30, 0, tree.GetEntries() * 3)\n",
        "\n",
        "exponent=ROOT.RooRealVar(\"exponent\", \"C\", -0.02, -2, +2)\n",
        "exp_Norm= ROOT.RooRealVar(\"exp_Norm\",\"Background Yield\", tree.GetEntries()/30, 0, tree.GetEntries() * 2)\n",
        "\n",
        "Bkgnd=ROOT.RooExponential(\"Bkgnd\",\"Exponential Background\",mass,exponent)\n",
        "\n",
        "model=ROOT.RooAddPdf(\"Full Model\",\"model\",ROOT.RooArgList(Gauss,Bkgnd),ROOT.RooArgList(Gauss_Norm, exp_Norm) )\n",
        "\n",
        "data_to_fit=ROOT.RooDataSet(\"Data Set\",\"data_to_fit\", bminusTree, ROOT.RooArgSet(mass))\n",
        "\n",
        "model.fitTo(data_to_fit)"
      ],
      "execution_count": 28,
      "outputs": [
        {
          "output_type": "execute_result",
          "data": {
            "text/plain": [
              "<ROOT.RooFitResult object at 0x(nil)>"
            ]
          },
          "metadata": {
            "tags": []
          },
          "execution_count": 28
        },
        {
          "output_type": "stream",
          "text": [
            "[#1] INFO:Eval -- RooAbsReal::attachToTree(M_m0) TTree Float_t branch M_m0 will be converted to double precision\n",
            "[#1] INFO:Eval -- RooTreeDataStore::loadValues(Data Set) Ignored 2839 out of range events\n",
            "[#1] INFO:Minization -- p.d.f. provides expected number of events, including extended term in likelihood.\n",
            "[#1] INFO:Minization -- RooMinimizer::optimizeConst: activating const optimization\n",
            "[#1] INFO:Minization --  The following expressions will be evaluated in cache-and-track mode: (Gauss,Bkgnd)\n",
            " **********\n",
            " **   19 **SET PRINT           1\n",
            " **********\n",
            " **********\n",
            " **   20 **SET NOGRAD\n",
            " **********\n",
            " PARAMETER DEFINITIONS:\n",
            "    NO.   NAME         VALUE      STEP SIZE      LIMITS\n",
            "     1 Gauss_Norm   1.14006e+05  5.70030e+04    0.00000e+00  1.02606e+07\n",
            " MINUIT WARNING IN PARAM DEF\n",
            " ============== LIMITS ON PARAM1 TOO FAR APART.\n",
            " PARAMETER DEFINITIONS:\n",
            "    NO.   NAME         VALUE      STEP SIZE      LIMITS\n",
            "     2 Mean         5.15000e+03  2.50000e+01    5.15000e+03  5.40000e+03\n",
            " MINUIT WARNING IN PARAM DEF\n",
            " ============== STARTING VALUE IS AT LIMIT.\n",
            " MINUIT WARNING IN PARAMETR\n",
            " ============== VARIABLE2 IS AT ITS LOWER ALLOWED LIMIT.\n",
            " MINUIT WARNING IN PARAMETR\n",
            " ============== VARIABLE2 BROUGHT BACK INSIDE LIMITS.\n",
            "     3 Width        4.00000e+01  2.00000e+01    0.00000e+00  7.00000e+03\n",
            "     4 exp_Norm     1.14006e+05  5.70030e+04    0.00000e+00  6.84039e+06\n",
            "     5 exponent    -2.00000e-02  4.00000e-01   -2.00000e+00  2.00000e+00\n",
            " **********\n",
            " **   21 **SET ERR         0.5\n",
            " **********\n",
            " **********\n",
            " **   22 **SET PRINT           1\n",
            " **********\n",
            " **********\n",
            " **   23 **SET STR           1\n",
            " **********\n",
            " NOW USING STRATEGY  1: TRY TO BALANCE SPEED AGAINST RELIABILITY\n",
            " **********\n",
            " **   24 **MIGRAD        2500           1\n",
            " **********\n",
            " FIRST CALL TO USER FUNCTION AT NEW START POINT, WITH IFLAG=4.\n",
            " MINUIT WARNING IN MIGrad    \n",
            " ============== VARIABLE2 IS AT ITS LOWER ALLOWED LIMIT.\n",
            " START MIGRAD MINIMIZATION.  STRATEGY  1.  CONVERGENCE WHEN EDM .LT. 1.00e-03\n",
            " FCN=188900 FROM MIGRAD    STATUS=INITIATE       67 CALLS          68 TOTAL\n",
            "                     EDM= unknown      STRATEGY= 1      NO ERROR MATRIX       \n",
            "  EXT PARAMETER               CURRENT GUESS       STEP         FIRST   \n",
            "  NO.   NAME      VALUE            ERROR          SIZE      DERIVATIVE \n",
            "   1  Gauss_Norm   1.14006e+05   5.70030e+04   0.00000e+00   1.04626e+06\n",
            "   2  Mean         5.24576e+03   2.50000e+01   0.00000e+00  -6.64919e+03\n",
            "   3  Width        4.00000e+01   2.00000e+01   0.00000e+00  -2.57177e+03\n",
            "   4  exp_Norm     1.14006e+05   5.70030e+04   0.00000e+00   8.56527e+05\n",
            "   5  exponent     2.82892e-03   4.00000e-01   1.14146e-02   7.68621e+03\n",
            "                               ERR DEF= 0.5\n",
            " MIGRAD MINIMIZATION HAS CONVERGED.\n",
            " MIGRAD WILL VERIFY CONVERGENCE AND ERROR MATRIX.\n",
            " COVARIANCE MATRIX CALCULATED SUCCESSFULLY\n",
            " FCN=-15873.8 FROM MIGRAD    STATUS=CONVERGED     248 CALLS         249 TOTAL\n",
            "                     EDM=2.76992e-07    STRATEGY= 1      ERROR MATRIX ACCURATE \n",
            "  EXT PARAMETER                                   STEP         FIRST   \n",
            "  NO.   NAME      VALUE            ERROR          SIZE      DERIVATIVE \n",
            "   1  Gauss_Norm   4.50426e+03   7.37839e+01   2.83684e-05   4.49091e-01\n",
            "   2  Mean         5.28414e+03   3.05422e-01   2.11374e-04   1.29726e-01\n",
            "   3  Width        1.79863e+01   2.72689e-01   6.16531e-05   2.79119e-02\n",
            "   4  exp_Norm     1.09474e+03   4.51067e+01   4.09795e-05  -1.19696e-01\n",
            "   5  exponent    -1.56743e-03   4.47132e-04   1.90064e-05  -1.39125e+00\n",
            "                               ERR DEF= 0.5\n",
            " EXTERNAL ERROR MATRIX.    NDIM=  25    NPAR=  5    ERR DEF=0.5\n",
            "  5.444e+03  1.824e-01  4.482e+00 -9.396e+02 -2.999e-03 \n",
            "  1.824e-01  9.328e-02  1.575e-03 -1.824e-01 -1.764e-05 \n",
            "  4.482e+00  1.575e-03  7.436e-02 -4.480e+00 -1.482e-05 \n",
            " -9.396e+02 -1.824e-01 -4.480e+00  2.035e+03  3.000e-03 \n",
            " -2.999e-03 -1.764e-05 -1.482e-05  3.000e-03  1.999e-07 \n",
            " PARAMETER  CORRELATION COEFFICIENTS  \n",
            "       NO.  GLOBAL      1      2      3      4      5\n",
            "        1  0.31290   1.000  0.008  0.223 -0.282 -0.091\n",
            "        2  0.12949   0.008  1.000  0.019 -0.013 -0.129\n",
            "        3  0.39007   0.223  0.019  1.000 -0.364 -0.122\n",
            "        4  0.42867  -0.282 -0.013 -0.364  1.000  0.149\n",
            "        5  0.21209  -0.091 -0.129 -0.122  0.149  1.000\n",
            " **********\n",
            " **   25 **SET ERR         0.5\n",
            " **********\n",
            " **********\n",
            " **   26 **SET PRINT           1\n",
            " **********\n",
            " **********\n",
            " **   27 **HESSE        2500\n",
            " **********\n",
            " COVARIANCE MATRIX CALCULATED SUCCESSFULLY\n",
            " FCN=-15873.8 FROM HESSE     STATUS=OK             31 CALLS         280 TOTAL\n",
            "                     EDM=2.77768e-07    STRATEGY= 1      ERROR MATRIX ACCURATE \n",
            "  EXT PARAMETER                                INTERNAL      INTERNAL  \n",
            "  NO.   NAME      VALUE            ERROR       STEP SIZE       VALUE   \n",
            "   1  Gauss_Norm   4.50426e+03   7.37966e+01   5.67368e-06  -1.52889e+00\n",
            "   2  Mean         5.28414e+03   3.05420e-01   4.22749e-05   7.31622e-02\n",
            "   3  Width        1.79863e+01   2.72804e-01   2.46612e-06  -1.46937e+00\n",
            "   4  exp_Norm     1.09474e+03   4.51275e+01   1.63918e-06  -1.54549e+00\n",
            "   5  exponent    -1.56743e-03   4.47202e-04   3.80127e-06  -7.83713e-04\n",
            "                               ERR DEF= 0.5\n",
            " EXTERNAL ERROR MATRIX.    NDIM=  25    NPAR=  5    ERR DEF=0.5\n",
            "  5.446e+03  1.829e-01  4.495e+00 -9.417e+02 -3.018e-03 \n",
            "  1.829e-01  9.328e-02  1.518e-03 -1.829e-01 -1.764e-05 \n",
            "  4.495e+00  1.518e-03  7.442e-02 -4.496e+00 -1.491e-05 \n",
            " -9.417e+02 -1.829e-01 -4.496e+00  2.036e+03  3.018e-03 \n",
            " -3.018e-03 -1.764e-05 -1.491e-05  3.018e-03  2.000e-07 \n",
            " PARAMETER  CORRELATION COEFFICIENTS  \n",
            "       NO.  GLOBAL      1      2      3      4      5\n",
            "        1  0.31339   1.000  0.008  0.223 -0.283 -0.091\n",
            "        2  0.12943   0.008  1.000  0.018 -0.013 -0.129\n",
            "        3  0.39100   0.223  0.018  1.000 -0.365 -0.122\n",
            "        4  0.42954  -0.283 -0.013 -0.365  1.000  0.150\n",
            "        5  0.21280  -0.091 -0.129 -0.122  0.150  1.000\n",
            "[#1] INFO:Minization -- RooMinimizer::optimizeConst: deactivating const optimization\n"
          ],
          "name": "stdout"
        }
      ]
    },
    {
      "cell_type": "code",
      "metadata": {
        "id": "ghNrWy1bwWB2",
        "colab": {
          "base_uri": "https://localhost:8080/",
          "height": 576
        },
        "outputId": "dd621b7f-3211-45f6-d162-31a9392e8026"
      },
      "source": [
        "c1=ROOT.TCanvas(\"c1\",\"c1\")\n",
        "frame=mass.frame()\n",
        "data_to_fit.plotOn(frame)\n",
        "model.plotOn(frame)\n",
        "model.plotOn(frame, ROOT.RooFit.Components(\"Gauss\"),ROOT.RooFit.LineColor(8),ROOT.RooFit.LineStyle(2))\n",
        "model.plotOn(frame, ROOT.RooFit.Components(\"Bkgnd\"),ROOT.RooFit.LineColor(46),ROOT.RooFit.LineStyle(2))\n",
        "frame.Draw()\n",
        "c1.Update()\n",
        "c1.Draw()"
      ],
      "execution_count": 29,
      "outputs": [
        {
          "output_type": "stream",
          "text": [
            "[#1] INFO:Plotting -- RooAbsPdf::plotOn(Full Model) directly selected PDF components: (Gauss)\n",
            "[#1] INFO:Plotting -- RooAbsPdf::plotOn(Full Model) indirectly selected PDF components: ()\n",
            "[#1] INFO:Plotting -- RooAbsPdf::plotOn(Full Model) directly selected PDF components: (Bkgnd)\n",
            "[#1] INFO:Plotting -- RooAbsPdf::plotOn(Full Model) indirectly selected PDF components: ()\n"
          ],
          "name": "stdout"
        },
        {
          "output_type": "stream",
          "text": [
            "Warning in <TCanvas::Constructor>: Deleting canvas with same name: c1\n"
          ],
          "name": "stderr"
        },
        {
          "output_type": "display_data",
          "data": {
            "image/png": "[encoded data removed]",
            "text/plain": [
              "<IPython.core.display.Image object>"
            ]
          },
          "metadata": {
            "tags": []
          }
        }
      ]
    },
    {
      "cell_type": "code",
      "metadata": {
        "id": "HixQfdDg0CoP",
        "colab": {
          "base_uri": "https://localhost:8080/"
        },
        "outputId": "34d68e28-a6c4-4ac1-da86-3da9992e67d6"
      },
      "source": [
        "Bminus_signal_yield = Gauss_Norm.getValV()\n",
        "Bminus_signal_error = Gauss_Norm.getError()\n",
        "Bminus_chi2ndf = frame.chiSquare()\n",
        "\n",
        "print(Bminus_signal_yield, Bminus_signal_error, Bminus_chi2ndf)"
      ],
      "execution_count": 30,
      "outputs": [
        {
          "output_type": "stream",
          "text": [
            "(4504.262982459212, 73.79660296845077, 44.53104560931307)\n"
          ],
          "name": "stdout"
        }
      ]
    },
    {
      "cell_type": "markdown",
      "metadata": {
        "id": "lBeogORnwzFn"
      },
      "source": [
        "#### Assymetry Calculations"
      ]
    },
    {
      "cell_type": "markdown",
      "metadata": {
        "id": "r8VB5uN1obc4"
      },
      "source": [
        "Once we have defined if it's a B<sup>+</sup> or a B <sup>-</sup>, we should go ahead and ensure the pre-selection is applied and then plot our B mass, and fit the model to find the yield.\r\n",
        "\r\n",
        "We can then calculate the assymetry from this equation:\r\n",
        "\r\n",
        "$A=\\frac{(N^{B-}-N^{B+})}{(N^{B-}+N^{B+})}$\r\n",
        "\r\n",
        "Where N<sup>B+/- </sup> is the number of events found from the fitted yield of the signal from each data set.\r\n",
        "\r\n",
        "The uncertainty on this result is given by:\r\n",
        "\r\n",
        "$\\sigma_A=\\sqrt\\frac{1-A^2}{N^{B-}+N^{B+}}$\r\n",
        "\r\n",
        "Calculate these two values for your data and print them below:"
      ]
    },
    {
      "cell_type": "code",
      "metadata": {
        "id": "UiPNe2iuobSK",
        "colab": {
          "base_uri": "https://localhost:8080/"
        },
        "outputId": "a68ba3f9-3ad7-4622-860b-46c3a336a545"
      },
      "source": [
        "#Here do your calculation of the final result\n",
        "import math\n",
        "Assym = (Bminus_signal_yield - Bplus_signal_yield)/(Bminus_signal_yield + Bplus_signal_yield)\n",
        "Assym_err = math.sqrt((1-Assym**2)/(Bminus_signal_yield + Bplus_signal_yield))\n",
        "\n",
        "print(\"A = \" + str(Assym) + \" +- \" + str(Assym_err))"
      ],
      "execution_count": 31,
      "outputs": [
        {
          "output_type": "stream",
          "text": [
            "A = -0.0458208849863 +- 0.0102809132457\n"
          ],
          "name": "stdout"
        }
      ]
    },
    {
      "cell_type": "markdown",
      "metadata": {
        "id": "o1Msl-1S-lBU"
      },
      "source": [
        "## Estimation with GaussCB\n",
        "\n",
        "Instead of using simply a gaussian shape, we use here a combination of a CrystalBall (CB) shape, combined with a Gaussian. This is simply called a GaussCB fit shape. We simply repete the above steps but with the new shape."
      ]
    },
    {
      "cell_type": "markdown",
      "metadata": {
        "id": "bkVEKVrZyor0"
      },
      "source": [
        "### Mass fitting"
      ]
    },
    {
      "cell_type": "code",
      "metadata": {
        "id": "dYFpLHmMoBVk",
        "outputId": "71d9e98c-ceed-4f8d-baee-ed8cf0dedf78",
        "colab": {
          "base_uri": "https://localhost:8080/"
        }
      },
      "source": [
        "cb_width_range = [6, 1, 25]\n",
        "cb_alpha_range = [24,0.0,25.0]\n",
        "cb_n_range = [9.0,0.0,10.0]\n",
        "\n",
        "mass = ROOT.RooRealVar(\"M_m0\",\"Mass\",5150,5400,\"MeV/C^{2}\")\n",
        "\n",
        "gauss_mean  = ROOT.RooRealVar(\"gauss_mean\",\"Mean\",5275,5150,5400)\n",
        "gauss_width = ROOT.RooRealVar(\"gauss_width\",\"Width\",40,0,7000)\n",
        "myGauss     = ROOT.RooGaussian(\"myGauss\",\"Gaussian\", mass, gauss_mean, gauss_width)\n",
        "\n",
        "cb_width    = ROOT.RooRealVar(\"cb_width\",\"CB Width\",cb_width_range[0], cb_width_range[1], cb_width_range[2])\n",
        "cb_alpha    = ROOT.RooRealVar(\"cb_alpha\",\"Exp.const\",cb_alpha_range[0], cb_alpha_range[1], cb_alpha_range[2])\n",
        "cb_n        = ROOT.RooRealVar(\"cb_n\",\"Exp.crossover\",cb_n_range[0], cb_n_range[1], cb_n_range[2])\n",
        "myCB        = ROOT.RooCBShape(\"myCB\",\"Crystal Ball\", mass, gauss_mean, cb_width, cb_alpha, cb_n)\n",
        "\n",
        "exponential = ROOT.RooRealVar(\"exponential\",\"C\",  -0.02, -2, +2)\n",
        "exponential_Norm  = ROOT.RooRealVar(\"exponential_Norm\",\"Exponential Yield\", tree.GetEntries()/30, 0, tree.GetEntries() * 2)\n",
        "myexponential = ROOT.RooExponential(\"myexponential\",\"Exponential\", mass, exponential)\n",
        "\n",
        "combined_Norm = ROOT.RooRealVar(\"combined_Norm\",\"Normalization for gaussCB\", 0.5,0,1)\n",
        "\n",
        "Actual_signalshape = ROOT.RooAddPdf (\"Actual_signalshape\", \"Shape of the interesting events\", myGauss, myCB, combined_Norm)\n",
        "\n",
        "Actual_signalshape_Norm = ROOT.RooRealVar(\"Actual_signalshape_Norm\",\"Signal Yield\", tree.GetEntries()/30, 0, tree.GetEntries() * 2)\n",
        "\n",
        "fullshape = ROOT.RooAddPdf(\"fullshape\",\"Signal shape\", ROOT.RooArgList(Actual_signalshape, myexponential), ROOT.RooArgList(Actual_signalshape_Norm, exponential_Norm) )\n",
        "\n",
        "masshist_RooFit = ROOT.RooDataSet(\"masshist_RooFit\",\"masshist RooFit\", CutTree , ROOT.RooArgSet(mass))\n",
        "\n",
        "\n",
        "fullshape.fitTo(masshist_RooFit)\n",
        "frame = mass.frame()\n",
        "masshist_RooFit.plotOn(frame)\n",
        "fullshape.plotOn(frame)\n",
        "\n",
        "fullshape.plotOn(frame, ROOT.RooFit.Components(\"Actual_signalshape\"),ROOT.RooFit.LineColor(2), ROOT.RooFit.LineStyle(2))\n",
        "fullshape.plotOn(frame, ROOT.RooFit.Components(\"myexponential\"), ROOT.RooFit.LineColor(46), ROOT.RooFit.LineStyle(2))\n",
        "\n",
        "fullshape.plotOn(frame, ROOT.RooFit.Components(\"myGauss\"),ROOT.RooFit.LineColor(7), ROOT.RooFit.LineStyle(2),ROOT.RooFit.LineWidth(1))\n",
        "fullshape.plotOn(frame, ROOT.RooFit.Components(\"myCB\"),ROOT.RooFit.LineColor(40), ROOT.RooFit.LineStyle(2),ROOT.RooFit.LineWidth(1))"
      ],
      "execution_count": 48,
      "outputs": [
        {
          "output_type": "execute_result",
          "data": {
            "text/plain": [
              "<ROOT.RooPlot object (\"frame_M_m0_560a15f58be0\") at 0x560a15f58be0>"
            ]
          },
          "metadata": {
            "tags": []
          },
          "execution_count": 48
        },
        {
          "output_type": "stream",
          "text": [
            "[#1] INFO:Eval -- RooAbsReal::attachToTree(M_m0) TTree Float_t branch M_m0 will be converted to double precision\n",
            "[#1] INFO:Eval -- RooTreeDataStore::loadValues(masshist_RooFit) Ignored 5685 out of range events\n",
            "[#1] INFO:Minization -- p.d.f. provides expected number of events, including extended term in likelihood.\n",
            "[#1] INFO:Minization -- RooMinimizer::optimizeConst: activating const optimization\n",
            "[#1] INFO:Minization --  The following expressions will be evaluated in cache-and-track mode: (myGauss,myCB,myexponential)\n",
            " **********\n",
            " **   10 **SET PRINT           1\n",
            " **********\n",
            " **********\n",
            " **   11 **SET NOGRAD\n",
            " **********\n",
            " PARAMETER DEFINITIONS:\n",
            "    NO.   NAME         VALUE      STEP SIZE      LIMITS\n",
            "     1 Actual_signalshape_Norm   1.14006e+05  5.70030e+04    0.00000e+00  6.84039e+06\n",
            "     2 cb_alpha     2.40000e+01  5.00000e-01    0.00000e+00  2.50000e+01\n",
            "     3 cb_n         9.00000e+00  5.00000e-01    0.00000e+00  1.00000e+01\n",
            "     4 cb_width     6.00000e+00  2.40000e+00    1.00000e+00  2.50000e+01\n",
            "     5 combined_Norm   5.00000e-01  1.00000e-01    0.00000e+00  1.00000e+00\n",
            "     6 exponential  -2.00000e-02  4.00000e-01   -2.00000e+00  2.00000e+00\n",
            "     7 exponential_Norm   1.14006e+05  5.70030e+04    0.00000e+00  6.84039e+06\n",
            "     8 gauss_mean   5.27500e+03  2.50000e+01    5.15000e+03  5.40000e+03\n",
            "     9 gauss_width   4.00000e+01  2.00000e+01    0.00000e+00  7.00000e+03\n",
            " **********\n",
            " **   12 **SET ERR         0.5\n",
            " **********\n",
            " **********\n",
            " **   13 **SET PRINT           1\n",
            " **********\n",
            " **********\n",
            " **   14 **SET STR           1\n",
            " **********\n",
            " NOW USING STRATEGY  1: TRY TO BALANCE SPEED AGAINST RELIABILITY\n",
            " **********\n",
            " **   15 **MIGRAD        4500           1\n",
            " **********\n",
            " FIRST CALL TO USER FUNCTION AT NEW START POINT, WITH IFLAG=4.\n",
            " START MIGRAD MINIMIZATION.  STRATEGY  1.  CONVERGENCE WHEN EDM .LT. 1.00e-03\n",
            " FCN=143348 FROM MIGRAD    STATUS=INITIATE      530 CALLS         531 TOTAL\n",
            "                     EDM= unknown      STRATEGY= 1      NO ERROR MATRIX       \n",
            "  EXT PARAMETER               CURRENT GUESS       STEP         FIRST   \n",
            "  NO.   NAME      VALUE            ERROR          SIZE      DERIVATIVE \n",
            "   1  Actual_signalshape_Norm   1.14006e+05   5.70030e+04   0.00000e+00   8.22160e+05\n",
            "   2  cb_alpha     2.40000e+01   5.00000e-01   0.00000e+00   0.00000e+00\n",
            "   3  cb_n         9.00000e+00   5.00000e-01   0.00000e+00   0.00000e+00\n",
            "   4  cb_width     6.00000e+00   2.40000e+00   0.00000e+00  -2.64166e+03\n",
            "   5  combined_Norm   5.00000e-01   1.00000e-01   0.00000e+00  -6.60940e+02\n",
            "   6  exponential   1.05448e-03   4.00000e-01   0.00000e+00  -1.16883e+04\n",
            "   7  exponential_Norm   1.14006e+05   5.70030e+04   0.00000e+00   8.39483e+05\n",
            "   8  gauss_mean   5.27500e+03   2.50000e+01   0.00000e+00  -2.17553e+04\n",
            "   9  gauss_width   4.00000e+01   2.00000e+01   0.00000e+00   2.44602e+04\n",
            "                               ERR DEF= 0.5\n",
            " MIGRAD MINIMIZATION HAS CONVERGED.\n",
            " FCN=-41800.9 FROM MIGRAD    STATUS=CONVERGED     717 CALLS         718 TOTAL\n",
            "                     EDM=1.21259e-05    STRATEGY= 1  ERROR MATRIX UNCERTAINTY   0.5 per cent\n",
            "  EXT PARAMETER                                   STEP         FIRST   \n",
            "  NO.   NAME      VALUE            ERROR          SIZE      DERIVATIVE \n",
            "   1  Actual_signalshape_Norm   9.46440e+03   1.02470e+02  -3.33065e-06   4.29239e-01\n",
            "   2  cb_alpha     2.40000e+01   5.28652e+00  -0.00000e+00   0.00000e+00\n",
            "   3  cb_n         9.00000e+00   2.52441e+00  -0.00000e+00   0.00000e+00\n",
            "   4  cb_width     1.80101e+01   1.49625e-01   9.00277e-05  -6.72220e-02\n",
            "   5  combined_Norm   2.14365e-03   1.12850e-03  -1.06836e-04   2.06766e-01\n",
            "   6  exponential  -1.61529e-03   2.96379e-04   4.27316e-07   5.15802e-01\n",
            "   7  exponential_Norm   2.22060e+03   6.17633e+01  -3.02389e-06  -1.07662e+00\n",
            "   8  gauss_mean   5.28488e+03   2.10604e-01  -4.10124e-06   7.69351e-02\n",
            "   9  gauss_width   4.23192e+03   2.72317e+03  -1.53961e-03   2.60725e-04\n",
            "                               ERR DEF= 0.5\n",
            " EXTERNAL ERROR MATRIX.    NDIM=  25    NPAR=  9    ERR DEF=0.5\n",
            "  1.050e+04  0.000e+00  0.000e+00  8.112e-02  9.319e-03 -6.865e-04 -1.615e+03 -1.504e-01  3.409e+04 \n",
            "  0.000e+00  2.400e+01  0.000e+00  0.000e+00  0.000e+00  0.000e+00  0.000e+00  0.000e+00  0.000e+00 \n",
            "  0.000e+00  0.000e+00  9.000e+00  0.000e+00  0.000e+00  0.000e+00  0.000e+00  0.000e+00  0.000e+00 \n",
            "  8.112e-02  0.000e+00  0.000e+00  2.239e-02 -8.618e-05  2.697e-06 -2.674e+00 -9.536e-04  1.529e+00 \n",
            "  9.319e-03  0.000e+00  0.000e+00 -8.618e-05  1.274e-06 -1.272e-08  8.203e-03  9.058e-06  1.260e-01 \n",
            " -6.865e-04  0.000e+00  0.000e+00  2.697e-06 -1.272e-08  8.784e-08  1.972e-03 -6.964e-06 -2.050e-01 \n",
            " -1.615e+03  0.000e+00  0.000e+00 -2.674e+00  8.203e-03  1.972e-03  3.815e+03  2.448e-02 -3.294e+03 \n",
            " -1.504e-01  0.000e+00  0.000e+00 -9.536e-04  9.058e-06 -6.964e-06  2.448e-02  4.435e-02  2.112e+01 \n",
            "  3.409e+04  0.000e+00  0.000e+00  1.529e+00  1.260e-01 -2.050e-01 -3.294e+03  2.112e+01  9.916e+06 \n",
            " PARAMETER  CORRELATION COEFFICIENTS  \n",
            "       NO.  GLOBAL      1      2      3      4      5      6      7      8      9\n",
            "        1  0.29785   1.000  0.000  0.000  0.005  0.081 -0.023 -0.255 -0.007  0.106\n",
            "        2  0.00000   0.000  1.000  0.000  0.000  0.000  0.000  0.000  0.000  0.000\n",
            "        3  0.00000   0.000  0.000  1.000  0.000  0.000  0.000  0.000  0.000  0.000\n",
            "        4  0.56549   0.005  0.000  0.000  1.000 -0.510  0.061 -0.289 -0.030  0.003\n",
            "        5  0.51844   0.081  0.000  0.000 -0.510  1.000 -0.038  0.118  0.038  0.035\n",
            "        6  0.28252  -0.023  0.000  0.000  0.061 -0.038  1.000  0.108 -0.112 -0.220\n",
            "        7  0.40497  -0.255  0.000  0.000 -0.289  0.118  0.108  1.000  0.002 -0.017\n",
            "        8  0.11781  -0.007  0.000  0.000 -0.030  0.038 -0.112  0.002  1.000  0.032\n",
            "        9  0.24773   0.106  0.000  0.000  0.003  0.035 -0.220 -0.017  0.032  1.000\n",
            " **********\n",
            " **   16 **SET ERR         0.5\n",
            " **********\n",
            " **********\n",
            " **   17 **SET PRINT           1\n",
            " **********\n",
            " **********\n",
            " **   18 **HESSE        4500\n",
            " **********\n",
            " MINUIT WARNING IN HESSE\n",
            " ============== Second derivative enters zero, param 2\n",
            " MINUIT WARNING IN HESSE\n",
            " ============== Second derivative zero for parameter2\n",
            "  MNHESS FAILS AND WILL RETURN DIAGONAL MATRIX. \n",
            " FCN=-41800.9 FROM HESSE     STATUS=FAILED          5 CALLS         723 TOTAL\n",
            "                     EDM=1.21259e-05    STRATEGY= 1  ERROR MATRIX UNCERTAINTY 100.0 per cent\n",
            "  EXT PARAMETER                APPROXIMATE     INTERNAL      INTERNAL  \n",
            "  NO.   NAME      VALUE            ERROR       STEP SIZE       VALUE   \n",
            "   1  Actual_signalshape_Norm   9.46440e+03   1.01535e+02   5.63796e-05  -1.49639e+00\n",
            "   2  cb_alpha     2.02435e+01   1.85618e+01  -0.00000e+00   1.16808e+00\n",
            "   3  cb_n         9.00000e+00   2.52441e+00  -0.00000e+00   9.27295e-01\n",
            "   4  cb_width     1.80101e+01   1.74036e-01   9.00277e-05   4.30697e-01\n",
            "   5  combined_Norm   2.14365e-03   5.86730e-03  -1.06836e-04  -1.47816e+00\n",
            "   6  exponential  -1.61529e-03   3.08726e-04   4.27316e-07  -8.07647e-04\n",
            "   7  exponential_Norm   2.22060e+03   5.84191e+01  -3.02389e-06  -1.53476e+00\n",
            "   8  gauss_mean   5.28488e+03   2.09391e-01  -4.10124e-06   7.91092e-02\n",
            "   9  gauss_width   4.23192e+03   2.88003e+03  -1.53961e-03  -1.88493e+04\n",
            "                               ERR DEF= 0.5\n",
            " EXTERNAL ERROR MATRIX.    NDIM=  25    NPAR=  9    ERR DEF=0.5\n",
            "  1.031e+04  0.000e+00  0.000e+00  0.000e+00  0.000e+00  0.000e+00  0.000e+00  0.000e+00  0.000e+00 \n",
            "  0.000e+00  5.589e+01  0.000e+00  0.000e+00  0.000e+00  0.000e+00  0.000e+00  0.000e+00  0.000e+00 \n",
            "  0.000e+00  0.000e+00  9.000e+00  0.000e+00  0.000e+00  0.000e+00  0.000e+00  0.000e+00  0.000e+00 \n",
            "  0.000e+00  0.000e+00  0.000e+00  3.029e-02  0.000e+00  0.000e+00  0.000e+00  0.000e+00  0.000e+00 \n",
            "  0.000e+00  0.000e+00  0.000e+00  0.000e+00  3.461e-05  0.000e+00  0.000e+00  0.000e+00  0.000e+00 \n",
            "  0.000e+00  0.000e+00  0.000e+00  0.000e+00  0.000e+00  9.531e-08  0.000e+00  0.000e+00  0.000e+00 \n",
            "  0.000e+00  0.000e+00  0.000e+00  0.000e+00  0.000e+00  0.000e+00  3.413e+03  0.000e+00  0.000e+00 \n",
            "  0.000e+00  0.000e+00  0.000e+00  0.000e+00  0.000e+00  0.000e+00  0.000e+00  4.384e-02  0.000e+00 \n",
            "  0.000e+00  0.000e+00  0.000e+00  0.000e+00  0.000e+00  0.000e+00  0.000e+00  0.000e+00  1.171e+07 \n",
            "ERR MATRIX APPROXIMATE\n",
            " PARAMETER  CORRELATION COEFFICIENTS  \n",
            "       NO.  GLOBAL      1      2      3      4      5      6      7      8      9\n",
            "        1  0.00000   1.000  0.000  0.000  0.000  0.000  0.000  0.000  0.000  0.000\n",
            "        2  0.00000   0.000  1.000  0.000  0.000  0.000  0.000  0.000  0.000  0.000\n",
            "        3  0.00000   0.000  0.000  1.000  0.000  0.000  0.000  0.000  0.000  0.000\n",
            "        4  0.00000   0.000  0.000  0.000  1.000  0.000  0.000  0.000  0.000  0.000\n",
            "        5  0.00000   0.000  0.000  0.000  0.000  1.000  0.000  0.000  0.000  0.000\n",
            "        6  0.00000   0.000  0.000  0.000  0.000  0.000  1.000  0.000  0.000  0.000\n",
            "        7  0.00000   0.000  0.000  0.000  0.000  0.000  0.000  1.000  0.000  0.000\n",
            "        8  0.00000   0.000  0.000  0.000  0.000  0.000  0.000  0.000  1.000  0.000\n",
            "        9  0.00000   0.000  0.000  0.000  0.000  0.000  0.000  0.000  0.000  1.000\n",
            " ERR MATRIX APPROXIMATE\n",
            "[#1] INFO:Minization -- RooMinimizer::optimizeConst: deactivating const optimization\n",
            "[#1] INFO:Plotting -- RooAbsPdf::plotOn(fullshape) directly selected PDF components: (Actual_signalshape)\n",
            "[#1] INFO:Plotting -- RooAbsPdf::plotOn(fullshape) indirectly selected PDF components: (myGauss,myCB)\n",
            "[#1] INFO:Plotting -- RooAbsPdf::plotOn(fullshape) directly selected PDF components: (myexponential)\n",
            "[#1] INFO:Plotting -- RooAbsPdf::plotOn(fullshape) indirectly selected PDF components: ()\n",
            "[#1] INFO:Plotting -- RooAbsPdf::plotOn(fullshape) directly selected PDF components: (myGauss)\n",
            "[#1] INFO:Plotting -- RooAbsPdf::plotOn(fullshape) indirectly selected PDF components: (Actual_signalshape)\n",
            "[#1] INFO:Plotting -- RooAbsPdf::plotOn(fullshape) directly selected PDF components: (myCB)\n",
            "[#1] INFO:Plotting -- RooAbsPdf::plotOn(fullshape) indirectly selected PDF components: (Actual_signalshape)\n"
          ],
          "name": "stdout"
        }
      ]
    },
    {
      "cell_type": "code",
      "metadata": {
        "id": "eK4_u3l7to4J",
        "outputId": "c33dd440-4973-4341-b37e-b964bff716d1",
        "colab": {
          "base_uri": "https://localhost:8080/",
          "height": 506
        }
      },
      "source": [
        "c1=ROOT.TCanvas(\"c1\",\"c1\")\n",
        "frame.Draw()\n",
        "c1.Update()\n",
        "c1.Draw()"
      ],
      "execution_count": 49,
      "outputs": [
        {
          "output_type": "stream",
          "text": [
            "Warning in <TCanvas::Constructor>: Deleting canvas with same name: c1\n"
          ],
          "name": "stderr"
        },
        {
          "output_type": "display_data",
          "data": {
            "image/png": "[encoded data removed]",
            "text/plain": [
              "<IPython.core.display.Image object>"
            ]
          },
          "metadata": {
            "tags": []
          }
        }
      ]
    },
    {
      "cell_type": "code",
      "metadata": {
        "id": "qmIq6Rv_vUMG",
        "outputId": "725f0d6e-5231-4e33-aeac-f08b71d96faf",
        "colab": {
          "base_uri": "https://localhost:8080/"
        }
      },
      "source": [
        "signal_yield = Actual_signalshape_Norm.getValV()\n",
        "signal_error = Actual_signalshape_Norm.getError()\n",
        "chi2ndf = frame.chiSquare()\n",
        "\n",
        "print(signal_yield, signal_error, chi2ndf)"
      ],
      "execution_count": 51,
      "outputs": [
        {
          "output_type": "stream",
          "text": [
            "(9464.395426772358, 101.53519528188917, 15.513417275941043)\n"
          ],
          "name": "stdout"
        }
      ]
    },
    {
      "cell_type": "markdown",
      "metadata": {
        "id": "hTfFBxHTyuK6"
      },
      "source": [
        "### Counting"
      ]
    },
    {
      "cell_type": "markdown",
      "metadata": {
        "id": "SHBU3M98yyHr"
      },
      "source": [
        "#### $B^+$ calculationss"
      ]
    },
    {
      "cell_type": "code",
      "metadata": {
        "id": "rJGNiIapv0I-",
        "outputId": "2233cf1c-e905-4e6d-9714-6123671891d9",
        "colab": {
          "base_uri": "https://localhost:8080/"
        }
      },
      "source": [
        "cb_width_range = [6, 1, 25]\n",
        "cb_alpha_range = [24,0.0,25.0]\n",
        "cb_n_range = [9.0,0.0,10.0]\n",
        "\n",
        "mass = ROOT.RooRealVar(\"M_m0\",\"Mass\",5150,5400,\"MeV/C^{2}\")\n",
        "\n",
        "gauss_mean  = ROOT.RooRealVar(\"gauss_mean\",\"Mean\",5275,5150,5400)\n",
        "gauss_width = ROOT.RooRealVar(\"gauss_width\",\"Width\",40,0,7000)\n",
        "myGauss     = ROOT.RooGaussian(\"myGauss\",\"Gaussian\", mass, gauss_mean, gauss_width)\n",
        "\n",
        "cb_width    = ROOT.RooRealVar(\"cb_width\",\"CB Width\",cb_width_range[0], cb_width_range[1], cb_width_range[2])\n",
        "cb_alpha    = ROOT.RooRealVar(\"cb_alpha\",\"Exp.const\",cb_alpha_range[0], cb_alpha_range[1], cb_alpha_range[2])\n",
        "cb_n        = ROOT.RooRealVar(\"cb_n\",\"Exp.crossover\",cb_n_range[0], cb_n_range[1], cb_n_range[2])\n",
        "myCB        = ROOT.RooCBShape(\"myCB\",\"Crystal Ball\", mass, gauss_mean, cb_width, cb_alpha, cb_n)\n",
        "\n",
        "exponential = ROOT.RooRealVar(\"exponential\",\"C\",  -0.02, -2, +2)\n",
        "exponential_Norm  = ROOT.RooRealVar(\"exponential_Norm\",\"Exponential Yield\", tree.GetEntries()/30, 0, tree.GetEntries() * 2)\n",
        "myexponential = ROOT.RooExponential(\"myexponential\",\"Exponential\", mass, exponential)\n",
        "\n",
        "combined_Norm = ROOT.RooRealVar(\"combined_Norm\",\"Normalization for gaussCB\", 0.5,0,1)\n",
        "\n",
        "Actual_signalshape = ROOT.RooAddPdf (\"Actual_signalshape\", \"Shape of the interesting events\", myGauss, myCB, combined_Norm)\n",
        "\n",
        "Actual_signalshape_Norm = ROOT.RooRealVar(\"Actual_signalshape_Norm\",\"Signal Yield\", tree.GetEntries()/30, 0, tree.GetEntries() * 2)\n",
        "\n",
        "fullshape = ROOT.RooAddPdf(\"fullshape\",\"Signal shape\", ROOT.RooArgList(Actual_signalshape, myexponential), ROOT.RooArgList(Actual_signalshape_Norm, exponential_Norm) )\n",
        "\n",
        "masshist_RooFit = ROOT.RooDataSet(\"masshist_RooFit\",\"masshist RooFit\", bplusTree , ROOT.RooArgSet(mass))\n",
        "\n",
        "\n",
        "fullshape.fitTo(masshist_RooFit)\n",
        "frame = mass.frame()\n",
        "masshist_RooFit.plotOn(frame)\n",
        "fullshape.plotOn(frame)\n",
        "\n",
        "fullshape.plotOn(frame, ROOT.RooFit.Components(\"Actual_signalshape\"),ROOT.RooFit.LineColor(2), ROOT.RooFit.LineStyle(2))\n",
        "fullshape.plotOn(frame, ROOT.RooFit.Components(\"myexponential\"), ROOT.RooFit.LineColor(46), ROOT.RooFit.LineStyle(2))\n",
        "\n",
        "fullshape.plotOn(frame, ROOT.RooFit.Components(\"myGauss\"),ROOT.RooFit.LineColor(7), ROOT.RooFit.LineStyle(2),ROOT.RooFit.LineWidth(1))\n",
        "fullshape.plotOn(frame, ROOT.RooFit.Components(\"myCB\"),ROOT.RooFit.LineColor(40), ROOT.RooFit.LineStyle(2),ROOT.RooFit.LineWidth(1))"
      ],
      "execution_count": 61,
      "outputs": [
        {
          "output_type": "execute_result",
          "data": {
            "text/plain": [
              "<ROOT.RooPlot object (\"frame_M_m0_5609ffeb8520\") at 0x5609ffeb8520>"
            ]
          },
          "metadata": {
            "tags": []
          },
          "execution_count": 61
        },
        {
          "output_type": "stream",
          "text": [
            "[#1] INFO:Eval -- RooAbsReal::attachToTree(M_m0) TTree Float_t branch M_m0 will be converted to double precision\n",
            "[#1] INFO:Eval -- RooTreeDataStore::loadValues(masshist_RooFit) Ignored 2846 out of range events\n",
            "[#1] INFO:Minization -- p.d.f. provides expected number of events, including extended term in likelihood.\n",
            "[#1] INFO:Minization -- RooMinimizer::optimizeConst: activating const optimization\n",
            "[#1] INFO:Minization --  The following expressions will be evaluated in cache-and-track mode: (myGauss,myCB,myexponential)\n",
            " **********\n",
            " **   46 **SET PRINT           1\n",
            " **********\n",
            " **********\n",
            " **   47 **SET NOGRAD\n",
            " **********\n",
            " PARAMETER DEFINITIONS:\n",
            "    NO.   NAME         VALUE      STEP SIZE      LIMITS\n",
            "     1 Actual_signalshape_Norm   1.14006e+05  5.70030e+04    0.00000e+00  6.84039e+06\n",
            "     2 cb_alpha     2.40000e+01  5.00000e-01    0.00000e+00  2.50000e+01\n",
            "     3 cb_n         9.00000e+00  5.00000e-01    0.00000e+00  1.00000e+01\n",
            "     4 cb_width     6.00000e+00  2.40000e+00    1.00000e+00  2.50000e+01\n",
            "     5 combined_Norm   5.00000e-01  1.00000e-01    0.00000e+00  1.00000e+00\n",
            "     6 exponential  -2.00000e-02  4.00000e-01   -2.00000e+00  2.00000e+00\n",
            "     7 exponential_Norm   1.14006e+05  5.70030e+04    0.00000e+00  6.84039e+06\n",
            "     8 gauss_mean   5.27500e+03  2.50000e+01    5.15000e+03  5.40000e+03\n",
            "     9 gauss_width   4.00000e+01  2.00000e+01    0.00000e+00  7.00000e+03\n",
            " **********\n",
            " **   48 **SET ERR         0.5\n",
            " **********\n",
            " **********\n",
            " **   49 **SET PRINT           1\n",
            " **********\n",
            " **********\n",
            " **   50 **SET STR           1\n",
            " **********\n",
            " NOW USING STRATEGY  1: TRY TO BALANCE SPEED AGAINST RELIABILITY\n",
            " **********\n",
            " **   51 **MIGRAD        4500           1\n",
            " **********\n",
            " FIRST CALL TO USER FUNCTION AT NEW START POINT, WITH IFLAG=4.\n",
            " START MIGRAD MINIMIZATION.  STRATEGY  1.  CONVERGENCE WHEN EDM .LT. 1.00e-03\n",
            " FCN=183968 FROM MIGRAD    STATUS=INITIATE      530 CALLS         531 TOTAL\n",
            "                     EDM= unknown      STRATEGY= 1      NO ERROR MATRIX       \n",
            "  EXT PARAMETER               CURRENT GUESS       STEP         FIRST   \n",
            "  NO.   NAME      VALUE            ERROR          SIZE      DERIVATIVE \n",
            "   1  Actual_signalshape_Norm   1.14006e+05   5.70030e+04   0.00000e+00   8.47926e+05\n",
            "   2  cb_alpha     2.40000e+01   5.00000e-01   0.00000e+00   0.00000e+00\n",
            "   3  cb_n         9.00000e+00   5.00000e-01   0.00000e+00   0.00000e+00\n",
            "   4  cb_width     6.00000e+00   2.40000e+00   0.00000e+00  -1.40114e+03\n",
            "   5  combined_Norm   5.00000e-01   1.00000e-01   0.00000e+00  -3.87862e+02\n",
            "   6  exponential   1.52995e-03   4.00000e-01   0.00000e+00   1.31910e+03\n",
            "   7  exponential_Norm   1.14006e+05   5.70030e+04   0.00000e+00   8.56724e+05\n",
            "   8  gauss_mean   5.27500e+03   2.50000e+01   0.00000e+00  -1.20577e+04\n",
            "   9  gauss_width   4.00000e+01   2.00000e+01   0.00000e+00   1.28076e+04\n",
            "                               ERR DEF= 0.5\n",
            " MIGRAD MINIMIZATION HAS CONVERGED.\n",
            " FCN=-17843.7 FROM MIGRAD    STATUS=CONVERGED     703 CALLS         704 TOTAL\n",
            "                     EDM=2.16166e-05    STRATEGY= 1  ERROR MATRIX UNCERTAINTY   0.4 per cent\n",
            "  EXT PARAMETER                                   STEP         FIRST   \n",
            "  NO.   NAME      VALUE            ERROR          SIZE      DERIVATIVE \n",
            "   1  Actual_signalshape_Norm   5.03499e+03   7.42490e+01  -6.39599e-08   4.27903e+00\n",
            "   2  cb_alpha     2.40000e+01   5.28652e+00  -0.00000e+00   0.00000e+00\n",
            "   3  cb_n         9.00000e+00   2.52441e+00  -0.00000e+00   0.00000e+00\n",
            "   4  cb_width     1.79834e+01   2.08289e-01   1.41757e-04   1.25007e-01\n",
            "   5  combined_Norm   1.93620e-02   4.23529e-03  -6.10605e-04   1.58698e-01\n",
            "   6  exponential  -1.77305e-03   4.73383e-04  -2.75832e-06  -1.27967e-01\n",
            "   7  exponential_Norm   1.05106e+03   4.01830e+01  -1.58865e-05  -5.58326e+00\n",
            "   8  gauss_mean   5.28556e+03   2.91206e-01   3.87147e-05   2.87692e-02\n",
            "   9  gauss_width   4.42444e+03   2.26458e+03  -2.08517e-04  -9.81026e-04\n",
            "                               ERR DEF= 0.5\n",
            " EXTERNAL ERROR MATRIX.    NDIM=  25    NPAR=  9    ERR DEF=0.5\n",
            "  5.513e+03  0.000e+00  0.000e+00  6.153e-01  1.755e-02 -1.102e-03 -5.876e+02 -9.416e-02  9.299e+03 \n",
            "  0.000e+00  2.400e+01  0.000e+00  0.000e+00  0.000e+00  0.000e+00  0.000e+00  0.000e+00  0.000e+00 \n",
            "  0.000e+00  0.000e+00  9.000e+00  0.000e+00  0.000e+00  0.000e+00  0.000e+00  0.000e+00  0.000e+00 \n",
            "  6.153e-01  0.000e+00  0.000e+00  4.339e-02 -1.745e-04 -1.015e-05 -2.466e+00  1.032e-03  3.638e+01 \n",
            "  1.755e-02  0.000e+00  0.000e+00 -1.745e-04  1.794e-05  2.999e-07  6.025e-03 -4.910e-05  6.077e-02 \n",
            " -1.102e-03  0.000e+00  0.000e+00 -1.015e-05  2.999e-07  2.241e-07  1.391e-03 -1.718e-05 -1.977e-02 \n",
            " -5.876e+02  0.000e+00  0.000e+00 -2.466e+00  6.025e-03  1.391e-03  1.615e+03  2.446e-01 -1.328e+03 \n",
            " -9.416e-02  0.000e+00  0.000e+00  1.032e-03 -4.910e-05 -1.718e-05  2.446e-01  8.480e-02  3.130e+00 \n",
            "  9.299e+03  0.000e+00  0.000e+00  3.638e+01  6.077e-02 -1.977e-02 -1.328e+03  3.130e+00  6.162e+06 \n",
            " PARAMETER  CORRELATION COEFFICIENTS  \n",
            "       NO.  GLOBAL      1      2      3      4      5      6      7      8      9\n",
            "        1  0.21398   1.000  0.000  0.000  0.040  0.056 -0.031 -0.197 -0.004  0.050\n",
            "        2  0.00000   0.000  1.000  0.000  0.000  0.000  0.000  0.000  0.000  0.000\n",
            "        3  0.00000   0.000  0.000  1.000  0.000  0.000  0.000  0.000  0.000  0.000\n",
            "        4  0.35992   0.040  0.000  0.000  1.000 -0.198 -0.103 -0.295  0.017  0.070\n",
            "        5  0.24799   0.056  0.000  0.000 -0.198  1.000  0.150  0.035 -0.040  0.006\n",
            "        6  0.21300  -0.031  0.000  0.000 -0.103  0.150  1.000  0.073 -0.125 -0.017\n",
            "        7  0.35217  -0.197  0.000  0.000 -0.295  0.035  0.073  1.000  0.021 -0.013\n",
            "        8  0.13047  -0.004  0.000  0.000  0.017 -0.040 -0.125  0.021  1.000  0.004\n",
            "        9  0.08922   0.050  0.000  0.000  0.070  0.006 -0.017 -0.013  0.004  1.000\n",
            " **********\n",
            " **   52 **SET ERR         0.5\n",
            " **********\n",
            " **********\n",
            " **   53 **SET PRINT           1\n",
            " **********\n",
            " **********\n",
            " **   54 **HESSE        4500\n",
            " **********\n",
            " MINUIT WARNING IN HESSE\n",
            " ============== Second derivative enters zero, param 2\n",
            " MINUIT WARNING IN HESSE\n",
            " ============== Second derivative zero for parameter2\n",
            "  MNHESS FAILS AND WILL RETURN DIAGONAL MATRIX. \n",
            " FCN=-17843.7 FROM HESSE     STATUS=FAILED          5 CALLS         709 TOTAL\n",
            "                     EDM=2.16166e-05    STRATEGY= 1  ERROR MATRIX UNCERTAINTY 100.0 per cent\n",
            "  EXT PARAMETER                APPROXIMATE     INTERNAL      INTERNAL  \n",
            "  NO.   NAME      VALUE            ERROR       STEP SIZE       VALUE   \n",
            "   1  Actual_signalshape_Norm   5.03499e+03   7.41126e+01   3.68534e-05  -1.51653e+00\n",
            "   2  cb_alpha     2.02435e+01   1.85618e+01  -0.00000e+00   1.16808e+00\n",
            "   3  cb_n         9.00000e+00   2.52441e+00  -0.00000e+00   9.27295e-01\n",
            "   4  cb_width     1.79834e+01   2.40893e-01   1.41757e-04   4.28253e-01\n",
            "   5  combined_Norm   1.93620e-02   8.03497e-03  -6.10605e-04  -1.29160e+00\n",
            "   6  exponential  -1.77305e-03   4.67693e-04  -2.75832e-06  -8.86524e-04\n",
            "   7  exponential_Norm   1.05106e+03   4.18222e+01  -1.58865e-05  -1.54600e+00\n",
            "   8  gauss_mean   5.28556e+03   2.89095e-01   3.87147e-05   8.45493e-02\n",
            "   9  gauss_width   4.42444e+03   2.84056e+03  -2.08517e-04  -1.00942e+04\n",
            "                               ERR DEF= 0.5\n",
            " EXTERNAL ERROR MATRIX.    NDIM=  25    NPAR=  9    ERR DEF=0.5\n",
            "  5.493e+03  0.000e+00  0.000e+00  0.000e+00  0.000e+00  0.000e+00  0.000e+00  0.000e+00  0.000e+00 \n",
            "  0.000e+00  5.589e+01  0.000e+00  0.000e+00  0.000e+00  0.000e+00  0.000e+00  0.000e+00  0.000e+00 \n",
            "  0.000e+00  0.000e+00  9.000e+00  0.000e+00  0.000e+00  0.000e+00  0.000e+00  0.000e+00  0.000e+00 \n",
            "  0.000e+00  0.000e+00  0.000e+00  5.804e-02  0.000e+00  0.000e+00  0.000e+00  0.000e+00  0.000e+00 \n",
            "  0.000e+00  0.000e+00  0.000e+00  0.000e+00  6.463e-05  0.000e+00  0.000e+00  0.000e+00  0.000e+00 \n",
            "  0.000e+00  0.000e+00  0.000e+00  0.000e+00  0.000e+00  2.187e-07  0.000e+00  0.000e+00  0.000e+00 \n",
            "  0.000e+00  0.000e+00  0.000e+00  0.000e+00  0.000e+00  0.000e+00  1.749e+03  0.000e+00  0.000e+00 \n",
            "  0.000e+00  0.000e+00  0.000e+00  0.000e+00  0.000e+00  0.000e+00  0.000e+00  8.358e-02  0.000e+00 \n",
            "  0.000e+00  0.000e+00  0.000e+00  0.000e+00  0.000e+00  0.000e+00  0.000e+00  0.000e+00  1.140e+07 \n",
            "ERR MATRIX APPROXIMATE\n",
            " PARAMETER  CORRELATION COEFFICIENTS  \n",
            "       NO.  GLOBAL      1      2      3      4      5      6      7      8      9\n",
            "        1  0.00000   1.000  0.000  0.000  0.000  0.000  0.000  0.000  0.000  0.000\n",
            "        2  0.00000   0.000  1.000  0.000  0.000  0.000  0.000  0.000  0.000  0.000\n",
            "        3  0.00000   0.000  0.000  1.000  0.000  0.000  0.000  0.000  0.000  0.000\n",
            "        4  0.00000   0.000  0.000  0.000  1.000  0.000  0.000  0.000  0.000  0.000\n",
            "        5  0.00000   0.000  0.000  0.000  0.000  1.000  0.000  0.000  0.000  0.000\n",
            "        6  0.00000   0.000  0.000  0.000  0.000  0.000  1.000  0.000  0.000  0.000\n",
            "        7  0.00000   0.000  0.000  0.000  0.000  0.000  0.000  1.000  0.000  0.000\n",
            "        8  0.00000   0.000  0.000  0.000  0.000  0.000  0.000  0.000  1.000  0.000\n",
            "        9  0.00000   0.000  0.000  0.000  0.000  0.000  0.000  0.000  0.000  1.000\n",
            " ERR MATRIX APPROXIMATE\n",
            "[#1] INFO:Minization -- RooMinimizer::optimizeConst: deactivating const optimization\n",
            "[#1] INFO:Plotting -- RooAbsPdf::plotOn(fullshape) directly selected PDF components: (Actual_signalshape)\n",
            "[#1] INFO:Plotting -- RooAbsPdf::plotOn(fullshape) indirectly selected PDF components: (myGauss,myCB)\n",
            "[#1] INFO:Plotting -- RooAbsPdf::plotOn(fullshape) directly selected PDF components: (myexponential)\n",
            "[#1] INFO:Plotting -- RooAbsPdf::plotOn(fullshape) indirectly selected PDF components: ()\n",
            "[#1] INFO:Plotting -- RooAbsPdf::plotOn(fullshape) directly selected PDF components: (myGauss)\n",
            "[#1] INFO:Plotting -- RooAbsPdf::plotOn(fullshape) indirectly selected PDF components: (Actual_signalshape)\n",
            "[#1] INFO:Plotting -- RooAbsPdf::plotOn(fullshape) directly selected PDF components: (myCB)\n",
            "[#1] INFO:Plotting -- RooAbsPdf::plotOn(fullshape) indirectly selected PDF components: (Actual_signalshape)\n"
          ],
          "name": "stdout"
        }
      ]
    },
    {
      "cell_type": "code",
      "metadata": {
        "id": "-t-QafogwAQ_",
        "outputId": "1b8c7cab-b264-43fb-d203-d43c17f72cef",
        "colab": {
          "base_uri": "https://localhost:8080/",
          "height": 506
        }
      },
      "source": [
        "c1=ROOT.TCanvas(\"c1\",\"c1\")\n",
        "frame.Draw()\n",
        "c1.Update()\n",
        "c1.Draw()"
      ],
      "execution_count": 62,
      "outputs": [
        {
          "output_type": "stream",
          "text": [
            "Warning in <TCanvas::Constructor>: Deleting canvas with same name: c1\n"
          ],
          "name": "stderr"
        },
        {
          "output_type": "display_data",
          "data": {
            "image/png": "[encoded data removed]",
            "text/plain": [
              "<IPython.core.display.Image object>"
            ]
          },
          "metadata": {
            "tags": []
          }
        }
      ]
    },
    {
      "cell_type": "code",
      "metadata": {
        "id": "joik5TbewE76",
        "outputId": "00b33214-f39c-4187-d0f3-479a36c23e36",
        "colab": {
          "base_uri": "https://localhost:8080/"
        }
      },
      "source": [
        "Bplus_signal_yield = Actual_signalshape_Norm.getValV()\n",
        "Bplus_signal_error = Actual_signalshape_Norm.getError()\n",
        "Bplus_chi2ndf = frame.chiSquare()\n",
        "\n",
        "print(Bplus_signal_yield, Bplus_signal_error, Bplus_chi2ndf)"
      ],
      "execution_count": 63,
      "outputs": [
        {
          "output_type": "stream",
          "text": [
            "(5034.98539741589, 74.1126052195682, 8.195396802399502)\n"
          ],
          "name": "stdout"
        }
      ]
    },
    {
      "cell_type": "markdown",
      "metadata": {
        "id": "SrV3uGZ8y_f-"
      },
      "source": [
        "#### $B^-$ calculationss"
      ]
    },
    {
      "cell_type": "code",
      "metadata": {
        "id": "OsNjb_p2wJg_",
        "outputId": "ff84dfcf-6396-4be6-9d76-91b638ddd8f0",
        "colab": {
          "base_uri": "https://localhost:8080/"
        }
      },
      "source": [
        "cb_width_range = [6, 1, 25]\n",
        "cb_alpha_range = [24,0.0,25.0]\n",
        "cb_n_range = [9.0,0.0,10.0]\n",
        "\n",
        "mass = ROOT.RooRealVar(\"M_m0\",\"Mass\",5150,5400,\"MeV/C^{2}\")\n",
        "\n",
        "gauss_mean  = ROOT.RooRealVar(\"gauss_mean\",\"Mean\",5275,5150,5400)\n",
        "gauss_width = ROOT.RooRealVar(\"gauss_width\",\"Width\",40,0,7000)\n",
        "myGauss     = ROOT.RooGaussian(\"myGauss\",\"Gaussian\", mass, gauss_mean, gauss_width)\n",
        "\n",
        "cb_width    = ROOT.RooRealVar(\"cb_width\",\"CB Width\",cb_width_range[0], cb_width_range[1], cb_width_range[2])\n",
        "cb_alpha    = ROOT.RooRealVar(\"cb_alpha\",\"Exp.const\",cb_alpha_range[0], cb_alpha_range[1], cb_alpha_range[2])\n",
        "cb_n        = ROOT.RooRealVar(\"cb_n\",\"Exp.crossover\",cb_n_range[0], cb_n_range[1], cb_n_range[2])\n",
        "myCB        = ROOT.RooCBShape(\"myCB\",\"Crystal Ball\", mass, gauss_mean, cb_width, cb_alpha, cb_n)\n",
        "\n",
        "exponential = ROOT.RooRealVar(\"exponential\",\"C\",  -0.02, -2, +2)\n",
        "exponential_Norm  = ROOT.RooRealVar(\"exponential_Norm\",\"Exponential Yield\", tree.GetEntries()/30, 0, tree.GetEntries() * 2)\n",
        "myexponential = ROOT.RooExponential(\"myexponential\",\"Exponential\", mass, exponential)\n",
        "\n",
        "combined_Norm = ROOT.RooRealVar(\"combined_Norm\",\"Normalization for gaussCB\", 0.5,0,1)\n",
        "\n",
        "Actual_signalshape = ROOT.RooAddPdf (\"Actual_signalshape\", \"Shape of the interesting events\", myGauss, myCB, combined_Norm)\n",
        "\n",
        "Actual_signalshape_Norm = ROOT.RooRealVar(\"Actual_signalshape_Norm\",\"Signal Yield\", tree.GetEntries()/30, 0, tree.GetEntries() * 2)\n",
        "\n",
        "fullshape = ROOT.RooAddPdf(\"fullshape\",\"Signal shape\", ROOT.RooArgList(Actual_signalshape, myexponential), ROOT.RooArgList(Actual_signalshape_Norm, exponential_Norm) )\n",
        "\n",
        "masshist_RooFit = ROOT.RooDataSet(\"masshist_RooFit\",\"masshist RooFit\", bminusTree , ROOT.RooArgSet(mass))\n",
        "\n",
        "\n",
        "fullshape.fitTo(masshist_RooFit)\n",
        "frame = mass.frame()\n",
        "masshist_RooFit.plotOn(frame)\n",
        "fullshape.plotOn(frame)\n",
        "\n",
        "fullshape.plotOn(frame, ROOT.RooFit.Components(\"Actual_signalshape\"),ROOT.RooFit.LineColor(2), ROOT.RooFit.LineStyle(2))\n",
        "fullshape.plotOn(frame, ROOT.RooFit.Components(\"myexponential\"), ROOT.RooFit.LineColor(46), ROOT.RooFit.LineStyle(2))\n",
        "\n",
        "fullshape.plotOn(frame, ROOT.RooFit.Components(\"myGauss\"),ROOT.RooFit.LineColor(7), ROOT.RooFit.LineStyle(2),ROOT.RooFit.LineWidth(1))\n",
        "fullshape.plotOn(frame, ROOT.RooFit.Components(\"myCB\"),ROOT.RooFit.LineColor(40), ROOT.RooFit.LineStyle(2),ROOT.RooFit.LineWidth(1))"
      ],
      "execution_count": 64,
      "outputs": [
        {
          "output_type": "execute_result",
          "data": {
            "text/plain": [
              "<ROOT.RooPlot object (\"frame_M_m0_5609fa0021c0\") at 0x5609fa0021c0>"
            ]
          },
          "metadata": {
            "tags": []
          },
          "execution_count": 64
        },
        {
          "output_type": "stream",
          "text": [
            "[#1] INFO:Eval -- RooAbsReal::attachToTree(M_m0) TTree Float_t branch M_m0 will be converted to double precision\n",
            "[#1] INFO:Eval -- RooTreeDataStore::loadValues(masshist_RooFit) Ignored 2839 out of range events\n",
            "[#1] INFO:Minization -- p.d.f. provides expected number of events, including extended term in likelihood.\n",
            "[#1] INFO:Minization -- RooMinimizer::optimizeConst: activating const optimization\n",
            "[#1] INFO:Minization --  The following expressions will be evaluated in cache-and-track mode: (myGauss,myCB,myexponential)\n",
            " **********\n",
            " **   55 **SET PRINT           1\n",
            " **********\n",
            " **********\n",
            " **   56 **SET NOGRAD\n",
            " **********\n",
            " PARAMETER DEFINITIONS:\n",
            "    NO.   NAME         VALUE      STEP SIZE      LIMITS\n",
            "     1 Actual_signalshape_Norm   1.14006e+05  5.70030e+04    0.00000e+00  6.84039e+06\n",
            "     2 cb_alpha     2.40000e+01  5.00000e-01    0.00000e+00  2.50000e+01\n",
            "     3 cb_n         9.00000e+00  5.00000e-01    0.00000e+00  1.00000e+01\n",
            "     4 cb_width     6.00000e+00  2.40000e+00    1.00000e+00  2.50000e+01\n",
            "     5 combined_Norm   5.00000e-01  1.00000e-01    0.00000e+00  1.00000e+00\n",
            "     6 exponential  -2.00000e-02  4.00000e-01   -2.00000e+00  2.00000e+00\n",
            "     7 exponential_Norm   1.14006e+05  5.70030e+04    0.00000e+00  6.84039e+06\n",
            "     8 gauss_mean   5.27500e+03  2.50000e+01    5.15000e+03  5.40000e+03\n",
            "     9 gauss_width   4.00000e+01  2.00000e+01    0.00000e+00  7.00000e+03\n",
            " **********\n",
            " **   57 **SET ERR         0.5\n",
            " **********\n",
            " **********\n",
            " **   58 **SET PRINT           1\n",
            " **********\n",
            " **********\n",
            " **   59 **SET STR           1\n",
            " **********\n",
            " NOW USING STRATEGY  1: TRY TO BALANCE SPEED AGAINST RELIABILITY\n",
            " **********\n",
            " **   60 **MIGRAD        4500           1\n",
            " **********\n",
            " FIRST CALL TO USER FUNCTION AT NEW START POINT, WITH IFLAG=4.\n",
            " START MIGRAD MINIMIZATION.  STRATEGY  1.  CONVERGENCE WHEN EDM .LT. 1.00e-03\n",
            " FCN=187391 FROM MIGRAD    STATUS=INITIATE      532 CALLS         533 TOTAL\n",
            "                     EDM= unknown      STRATEGY= 1      NO ERROR MATRIX       \n",
            "  EXT PARAMETER               CURRENT GUESS       STEP         FIRST   \n",
            "  NO.   NAME      VALUE            ERROR          SIZE      DERIVATIVE \n",
            "   1  Actual_signalshape_Norm   1.14006e+05   5.70030e+04   0.00000e+00   8.49946e+05\n",
            "   2  cb_alpha     2.40000e+01   5.00000e-01   0.00000e+00   0.00000e+00\n",
            "   3  cb_n         9.00000e+00   5.00000e-01   0.00000e+00   0.00000e+00\n",
            "   4  cb_width     6.00000e+00   2.40000e+00   0.00000e+00  -1.24046e+03\n",
            "   5  combined_Norm   5.00000e-01   1.00000e-01   0.00000e+00  -2.70395e+02\n",
            "   6  exponential   1.05846e-03   4.00000e-01   0.00000e+00  -1.61603e+03\n",
            "   7  exponential_Norm   1.14006e+05   5.70030e+04   0.00000e+00   8.58445e+05\n",
            "   8  gauss_mean   5.27500e+03   2.50000e+01   0.00000e+00  -9.63192e+03\n",
            "   9  gauss_width   4.00000e+01   2.00000e+01   0.00000e+00   1.16144e+04\n",
            "                               ERR DEF= 0.5\n",
            " MIGRAD MINIMIZATION HAS CONVERGED.\n",
            " FCN=-15873.8 FROM MIGRAD    STATUS=CONVERGED     704 CALLS         705 TOTAL\n",
            "                     EDM=1.54814e-05    STRATEGY= 1  ERROR MATRIX UNCERTAINTY   0.4 per cent\n",
            "  EXT PARAMETER                                   STEP         FIRST   \n",
            "  NO.   NAME      VALUE            ERROR          SIZE      DERIVATIVE \n",
            "   1  Actual_signalshape_Norm   4.52415e+03   7.18590e+01  -1.57809e-06   4.81952e+00\n",
            "   2  cb_alpha     2.40000e+01   5.28652e+00  -0.00000e+00   0.00000e+00\n",
            "   3  cb_n         9.00000e+00   2.52441e+00  -0.00000e+00   0.00000e+00\n",
            "   4  cb_width     1.79870e+01   2.71838e-01  -2.25997e-04   8.81106e-02\n",
            "   5  combined_Norm   4.35763e-03   2.03287e-03   2.37761e-05   1.14086e-01\n",
            "   6  exponential  -1.59590e-03   4.53054e-04   4.59066e-07  -6.84772e+00\n",
            "   7  exponential_Norm   1.07504e+03   4.46598e+01   1.70769e-06   5.52039e+00\n",
            "   8  gauss_mean   5.28414e+03   3.04341e-01   2.78724e-05   1.02664e+00\n",
            "   9  gauss_width   5.07576e+03   2.45345e+03  -1.16607e-04   1.36177e-04\n",
            "                               ERR DEF= 0.5\n",
            " EXTERNAL ERROR MATRIX.    NDIM=  25    NPAR=  9    ERR DEF=0.5\n",
            "  5.164e+03  0.000e+00  0.000e+00  3.957e+00 -1.783e-02 -2.510e-03 -8.243e+02 -3.172e-01 -3.369e+02 \n",
            "  0.000e+00  2.400e+01  0.000e+00  0.000e+00  0.000e+00  0.000e+00  0.000e+00  0.000e+00  0.000e+00 \n",
            "  0.000e+00  0.000e+00  9.000e+00  0.000e+00  0.000e+00  0.000e+00  0.000e+00  0.000e+00  0.000e+00 \n",
            "  3.957e+00  0.000e+00  0.000e+00  7.391e-02 -1.090e-04 -1.407e-05 -4.053e+00  8.875e-04  6.259e+00 \n",
            " -1.783e-02  0.000e+00  0.000e+00 -1.090e-04  4.134e-06  1.177e-07 -3.478e-03 -8.836e-05  2.882e-02 \n",
            " -2.510e-03  0.000e+00  0.000e+00 -1.407e-05  1.177e-07  2.053e-07  2.507e-03 -1.682e-05  1.348e-03 \n",
            " -8.243e+02  0.000e+00  0.000e+00 -4.053e+00 -3.478e-03  2.507e-03  1.994e+03  1.965e-01 -8.472e+02 \n",
            " -3.172e-01  0.000e+00  0.000e+00  8.875e-04 -8.836e-05 -1.682e-05  1.965e-01  9.262e-02 -5.004e+00 \n",
            " -3.369e+02  0.000e+00  0.000e+00  6.259e+00  2.882e-02  1.348e-03 -8.472e+02 -5.004e+00  7.960e+06 \n",
            " PARAMETER  CORRELATION COEFFICIENTS  \n",
            "       NO.  GLOBAL      1      2      3      4      5      6      7      8      9\n",
            "        1  0.30710   1.000  0.000  0.000  0.203 -0.122 -0.077 -0.257 -0.015 -0.002\n",
            "        2  0.00000   0.000  1.000  0.000  0.000  0.000  0.000  0.000  0.000  0.000\n",
            "        3  0.00000   0.000  0.000  1.000  0.000  0.000  0.000  0.000  0.000  0.000\n",
            "        4  0.40793   0.203  0.000  0.000  1.000 -0.197 -0.114 -0.334  0.011  0.008\n",
            "        5  0.30289  -0.122  0.000  0.000 -0.197  1.000  0.128 -0.038 -0.143  0.005\n",
            "        6  0.21794  -0.077  0.000  0.000 -0.114  0.128  1.000  0.124 -0.122  0.001\n",
            "        7  0.41465  -0.257  0.000  0.000 -0.334 -0.038  0.124  1.000  0.014 -0.007\n",
            "        8  0.18260  -0.015  0.000  0.000  0.011 -0.143 -0.122  0.014  1.000 -0.006\n",
            "        9  0.01285  -0.002  0.000  0.000  0.008  0.005  0.001 -0.007 -0.006  1.000\n",
            " **********\n",
            " **   61 **SET ERR         0.5\n",
            " **********\n",
            " **********\n",
            " **   62 **SET PRINT           1\n",
            " **********\n",
            " **********\n",
            " **   63 **HESSE        4500\n",
            " **********\n",
            " MINUIT WARNING IN HESSE\n",
            " ============== Second derivative enters zero, param 2\n",
            " MINUIT WARNING IN HESSE\n",
            " ============== Second derivative zero for parameter2\n",
            "  MNHESS FAILS AND WILL RETURN DIAGONAL MATRIX. \n",
            " FCN=-15873.8 FROM HESSE     STATUS=FAILED          5 CALLS         710 TOTAL\n",
            "                     EDM=1.54814e-05    STRATEGY= 1  ERROR MATRIX UNCERTAINTY 100.0 per cent\n",
            "  EXT PARAMETER                APPROXIMATE     INTERNAL      INTERNAL  \n",
            "  NO.   NAME      VALUE            ERROR       STEP SIZE       VALUE   \n",
            "   1  Actual_signalshape_Norm   4.52415e+03   7.02686e+01   3.47639e-05  -1.51936e+00\n",
            "   2  cb_alpha     2.02435e+01   1.85618e+01  -0.00000e+00   1.16808e+00\n",
            "   3  cb_n         9.00000e+00   2.52441e+00  -0.00000e+00   9.27295e-01\n",
            "   4  cb_width     1.79870e+01   2.51082e-01  -2.25997e-04   4.28586e-01\n",
            "   5  combined_Norm   4.35763e-03   8.60405e-03   2.37761e-05  -1.43868e+00\n",
            "   6  exponential  -1.59590e-03   4.44981e-04   4.59066e-07  -7.97948e-04\n",
            "   7  exponential_Norm   1.07504e+03   4.07441e+01   1.70769e-06  -1.54572e+00\n",
            "   8  gauss_mean   5.28414e+03   3.02857e-01   2.78724e-05   7.31669e-02\n",
            "   9  gauss_width   5.07576e+03   2.62978e+03  -1.16607e-04  -9.46201e+03\n",
            "                               ERR DEF= 0.5\n",
            " EXTERNAL ERROR MATRIX.    NDIM=  25    NPAR=  9    ERR DEF=0.5\n",
            "  4.938e+03  0.000e+00  0.000e+00  0.000e+00  0.000e+00  0.000e+00  0.000e+00  0.000e+00  0.000e+00 \n",
            "  0.000e+00  5.589e+01  0.000e+00  0.000e+00  0.000e+00  0.000e+00  0.000e+00  0.000e+00  0.000e+00 \n",
            "  0.000e+00  0.000e+00  9.000e+00  0.000e+00  0.000e+00  0.000e+00  0.000e+00  0.000e+00  0.000e+00 \n",
            "  0.000e+00  0.000e+00  0.000e+00  6.305e-02  0.000e+00  0.000e+00  0.000e+00  0.000e+00  0.000e+00 \n",
            "  0.000e+00  0.000e+00  0.000e+00  0.000e+00  7.445e-05  0.000e+00  0.000e+00  0.000e+00  0.000e+00 \n",
            "  0.000e+00  0.000e+00  0.000e+00  0.000e+00  0.000e+00  1.980e-07  0.000e+00  0.000e+00  0.000e+00 \n",
            "  0.000e+00  0.000e+00  0.000e+00  0.000e+00  0.000e+00  0.000e+00  1.660e+03  0.000e+00  0.000e+00 \n",
            "  0.000e+00  0.000e+00  0.000e+00  0.000e+00  0.000e+00  0.000e+00  0.000e+00  9.172e-02  0.000e+00 \n",
            "  0.000e+00  0.000e+00  0.000e+00  0.000e+00  0.000e+00  0.000e+00  0.000e+00  0.000e+00  9.767e+06 \n",
            "ERR MATRIX APPROXIMATE\n",
            " PARAMETER  CORRELATION COEFFICIENTS  \n",
            "       NO.  GLOBAL      1      2      3      4      5      6      7      8      9\n",
            "        1  0.00000   1.000  0.000  0.000  0.000  0.000  0.000  0.000  0.000  0.000\n",
            "        2  0.00000   0.000  1.000  0.000  0.000  0.000  0.000  0.000  0.000  0.000\n",
            "        3  0.00000   0.000  0.000  1.000  0.000  0.000  0.000  0.000  0.000  0.000\n",
            "        4  0.00000   0.000  0.000  0.000  1.000  0.000  0.000  0.000  0.000  0.000\n",
            "        5  0.00000   0.000  0.000  0.000  0.000  1.000  0.000  0.000  0.000  0.000\n",
            "        6  0.00000   0.000  0.000  0.000  0.000  0.000  1.000  0.000  0.000  0.000\n",
            "        7  0.00000   0.000  0.000  0.000  0.000  0.000  0.000  1.000  0.000  0.000\n",
            "        8  0.00000   0.000  0.000  0.000  0.000  0.000  0.000  0.000  1.000  0.000\n",
            "        9  0.00000   0.000  0.000  0.000  0.000  0.000  0.000  0.000  0.000  1.000\n",
            " ERR MATRIX APPROXIMATE\n",
            "[#1] INFO:Minization -- RooMinimizer::optimizeConst: deactivating const optimization\n",
            "[#1] INFO:Plotting -- RooAbsPdf::plotOn(fullshape) directly selected PDF components: (Actual_signalshape)\n",
            "[#1] INFO:Plotting -- RooAbsPdf::plotOn(fullshape) indirectly selected PDF components: (myGauss,myCB)\n",
            "[#1] INFO:Plotting -- RooAbsPdf::plotOn(fullshape) directly selected PDF components: (myexponential)\n",
            "[#1] INFO:Plotting -- RooAbsPdf::plotOn(fullshape) indirectly selected PDF components: ()\n",
            "[#1] INFO:Plotting -- RooAbsPdf::plotOn(fullshape) directly selected PDF components: (myGauss)\n",
            "[#1] INFO:Plotting -- RooAbsPdf::plotOn(fullshape) indirectly selected PDF components: (Actual_signalshape)\n",
            "[#1] INFO:Plotting -- RooAbsPdf::plotOn(fullshape) directly selected PDF components: (myCB)\n",
            "[#1] INFO:Plotting -- RooAbsPdf::plotOn(fullshape) indirectly selected PDF components: (Actual_signalshape)\n"
          ],
          "name": "stdout"
        }
      ]
    },
    {
      "cell_type": "code",
      "metadata": {
        "id": "tJ-Ayz55wU8C",
        "outputId": "bbb0d4e9-8b56-4b35-b74a-6ca1f11bd4f9",
        "colab": {
          "base_uri": "https://localhost:8080/",
          "height": 506
        }
      },
      "source": [
        "c1=ROOT.TCanvas(\"c1\",\"c1\")\n",
        "frame.Draw()\n",
        "c1.Update()\n",
        "c1.Draw()"
      ],
      "execution_count": 65,
      "outputs": [
        {
          "output_type": "stream",
          "text": [
            "Warning in <TCanvas::Constructor>: Deleting canvas with same name: c1\n"
          ],
          "name": "stderr"
        },
        {
          "output_type": "display_data",
          "data": {
            "image/png": "[encoded data removed]",
            "text/plain": [
              "<IPython.core.display.Image object>"
            ]
          },
          "metadata": {
            "tags": []
          }
        }
      ]
    },
    {
      "cell_type": "code",
      "metadata": {
        "id": "_5KVNIpwwVPv",
        "outputId": "40f0cd34-a8b4-413a-9e3e-0d03cf520a91",
        "colab": {
          "base_uri": "https://localhost:8080/"
        }
      },
      "source": [
        "Bminus_signal_yield = Actual_signalshape_Norm.getValV()\n",
        "Bminus_signal_error = Actual_signalshape_Norm.getError()\n",
        "Bminus_chi2ndf = frame.chiSquare()\n",
        "\n",
        "print(Bminus_signal_yield, Bminus_signal_error, Bminus_chi2ndf)"
      ],
      "execution_count": 66,
      "outputs": [
        {
          "output_type": "stream",
          "text": [
            "(4524.153413400203, 70.26858101983225, 7.724727769471338)\n"
          ],
          "name": "stdout"
        }
      ]
    },
    {
      "cell_type": "markdown",
      "metadata": {
        "id": "wHp-qdRhxAD4"
      },
      "source": [
        "#### Assymetry Results"
      ]
    },
    {
      "cell_type": "code",
      "metadata": {
        "id": "xWhCczk-xFUM",
        "outputId": "1abb6635-f100-4766-ea64-0c0722eccc49",
        "colab": {
          "base_uri": "https://localhost:8080/"
        }
      },
      "source": [
        "import math\n",
        "Assym = (Bminus_signal_yield - Bplus_signal_yield)/(Bminus_signal_yield + Bplus_signal_yield)\n",
        "Assym_err = math.sqrt((1-Assym**2)/(Bminus_signal_yield + Bplus_signal_yield))\n",
        "\n",
        "print(\"A = \" + str(Assym) + \" +- \" + str(Assym_err))"
      ],
      "execution_count": 67,
      "outputs": [
        {
          "output_type": "stream",
          "text": [
            "A = -0.0534391218838 +- 0.0102133828731\n"
          ],
          "name": "stdout"
        }
      ]
    },
    {
      "cell_type": "markdown",
      "metadata": {
        "id": "r5B--_33okz1"
      },
      "source": [
        "#Congratulations!\r\n",
        "\r\n",
        "You just made your first LHCb physics analysis. Does this seem like a reasonable result? Did we explain why we have an excess of mass in the Universe?"
      ]
    },
    {
      "cell_type": "markdown",
      "metadata": {
        "id": "dzybWZylomGu"
      },
      "source": [
        "## **Bonus content only below here:**"
      ]
    },
    {
      "cell_type": "markdown",
      "metadata": {
        "id": "odpbRqdoou5M"
      },
      "source": [
        "To make a further anaysis, we can look into the intermediate processes.\r\n",
        "\r\n",
        "We have so far considered only that the B meson ultimately decays into three kaons. It may be that on the way, the B meson first decays into a Kaon and another particle, and then from that particle to two Kaons.\r\n",
        "\r\n",
        "We would expect this to be one of three possible modes (for B<sup>+</sup>):\r\n",
        "\r\n",
        "$R^{++} \\rightarrow K_1^+ +K_2^+$\r\n",
        "\r\n",
        "(we don't expect this to happen because of the like charges in the Kaons)\r\n",
        "\r\n",
        "$R^0 \\rightarrow K_1^+ +K_3^-$\r\n",
        "\r\n",
        "$R^0 \\rightarrow K_2^+ +K_3^-$\r\n",
        "\r\n",
        "(Expect symmetric arrangements for B<sup>-</sup>)\r\n",
        "\r\n",
        "To analyse the intermediate states we can measure the invarient masses of the intermediate states and then plot them on what is called a Dalitz plot (this is a 2D plot with two different two body decays (from the three body decay) on each axis)\r\n",
        "\r\n",
        "![Dalitz Plot](https://slideplayer.com/slide/15960097/88/images/15/Dalitz+plot%3A+%CE%9B+c+%2B+%E2%86%92%F0%9D%91%9D+%F0%9D%90%BE+%E2%88%92+%F0%9D%9C%8B+%2B.jpg)\r\n"
      ]
    },
    {
      "cell_type": "code",
      "metadata": {
        "id": "SqJxvZSKo1cW"
      },
      "source": [
        "#Define a function to find the invarient mass of two given Kaons\n",
        "# we return a string that can be used as an imput in a ROOT histogram.\n",
        "# The formula for the invariant mass of short lived intermediate particle \n",
        "# from the decay products is used, as well as the one used in the introduction\n",
        "# to calculate the mass distribution.\n",
        "\n",
        "def inv_m(kaon1, kaon2):\n",
        "  m1 = \"(sqrt({0}_E*{0}_E - {0}_Ptot*{0}_Ptot))\".format(kaon1)\n",
        "  m2 = \"(sqrt({0}_E*{0}_E - {0}_Ptot*{0}_Ptot))\".format(kaon2)\n",
        "  \n",
        "  E1 = \"{0}_E\".format(kaon1)\n",
        "  E2 = \"{0}_E\".format(kaon2)\n",
        "\n",
        "  p1 = {\"tot\":\"{0}_Ptot\".format(kaon1),\"x\":\"{0}_PX\".format(kaon1),\"y\":\"{0}_PY\".format(kaon1),\"z\":\"{0}_PZ\".format(kaon1)}\n",
        "  p2 = {\"tot\":\"{0}_Ptot\".format(kaon2),\"x\":\"{0}_PX\".format(kaon2),\"y\":\"{0}_PY\".format(kaon2),\"z\":\"{0}_PZ\".format(kaon2)}\n",
        "\n",
        "  dotProd_p = \"({0}*{1} + {2}*{3} + {4}*{5})\".format(p1[\"x\"],p2[\"x\"],p1[\"y\"],p2[\"y\"],p1[\"z\"],p2[\"z\"])\n",
        "\n",
        "  m_inv = \"({0}**2 + {1}**2 + 2*{2}*{3} - 2*{4})\".format(m1,m2,E1,E2,dotProd_p)\n",
        "\n",
        "  return m_inv"
      ],
      "execution_count": 32,
      "outputs": []
    },
    {
      "cell_type": "code",
      "metadata": {
        "colab": {
          "base_uri": "https://localhost:8080/",
          "height": 35
        },
        "id": "iXor43xa-92g",
        "outputId": "249dd857-fd02-4d78-c408-0035ba3bc9a3"
      },
      "source": [
        "#testing the function\n",
        "inv_m(\"H1\", \"H2\")"
      ],
      "execution_count": 33,
      "outputs": [
        {
          "output_type": "execute_result",
          "data": {
            "application/vnd.google.colaboratory.intrinsic+json": {
              "type": "string"
            },
            "text/plain": [
              "'((sqrt(H1_E*H1_E - H1_Ptot*H1_Ptot))**2 + (sqrt(H2_E*H2_E - H2_Ptot*H2_Ptot))**2 + 2*H1_E*H2_E - 2*(H1_PX*H2_PX + H1_PY*H2_PY + H1_PZ*H2_PZ))'"
            ]
          },
          "metadata": {
            "tags": []
          },
          "execution_count": 33
        }
      ]
    },
    {
      "cell_type": "markdown",
      "metadata": {
        "id": "g1afA78U3YeR"
      },
      "source": [
        "The method above uses the following formula as a function to find the mass of the intermediate particle:\n",
        "$$m^2_Xc^2 = m^2_ac^2+m^2_bc^2+2\\frac{E_aE_b}{c^2}−2~p_a·p_b$$\n",
        "with $m_a$ and $m_b$ the masses of the decay products, $E_{a,b}$ the energy and $p_{a,b}$ the momentum (see [this presentation](https://www.lehman.edu/faculty/anchordoqui/300_5.pdf) for more information). It also uses the well known energy relation to find the daugther mass that is not part of the variables:\n",
        "$$m = \\sqrt{\\frac{E^2 - p_{tot}^2c^2}{c^2}}$$\n",
        "In all of these we use the natural units.\n"
      ]
    },
    {
      "cell_type": "code",
      "metadata": {
        "id": "YPVqECfPo3Wc",
        "colab": {
          "base_uri": "https://localhost:8080/",
          "height": 506
        },
        "outputId": "d875578b-0c5d-4bac-b56b-fb86e26310d7"
      },
      "source": [
        "#Then, ensuring you're still taking the data after the selection, make a Dalitz plot. This is a 2-D scatter plot (use e.g. TH2F to make the plot where we used TH1F before)\r\n",
        "#Choose an appropriate binning in your scatter \r\n",
        "m_KpKm = inv_m(\"H1\", \"H2\")\r\n",
        "m_KK = inv_m(\"H2\", \"H3\")\r\n",
        "\r\n",
        "c1 = ROOT.TCanvas(\"c1\",\"c1\")\r\n",
        "\r\n",
        "CutTree.Draw(\"{0}:{1}>>dalitz(35,300e3,2*14000e3,35,1800e3,5800e3)\".format(m_KpKm,m_KK))\r\n",
        "\r\n",
        "dalitzHist = ROOT.gDirectory.Get(\"dalitz\")\r\n",
        "dalitzHist.SetTitle(\"Dalitz plot of B to KKK\")\r\n",
        "dalitzHist.GetYaxis().SetTitle(\"m^{2}_{K+K-} [MeV^{2}/c^{4}]\")\r\n",
        "dalitzHist.GetXaxis().SetTitle(\"m^{2}_{KK} [MeV^{2}/c^{4}]\")\r\n",
        "\r\n",
        "dalitzHist.Draw(\"colz\")\r\n",
        "c1.Draw()"
      ],
      "execution_count": 83,
      "outputs": [
        {
          "output_type": "stream",
          "text": [
            "Warning in <TCanvas::Constructor>: Deleting canvas with same name: c1\n"
          ],
          "name": "stderr"
        },
        {
          "output_type": "display_data",
          "data": {
            "image/png": "[encoded data removed]",
            "text/plain": [
              "<IPython.core.display.Image object>"
            ]
          },
          "metadata": {
            "tags": []
          }
        }
      ]
    },
    {
      "cell_type": "code",
      "metadata": {
        "id": "zNvR83ereWMh",
        "outputId": "5ffa4b3d-6d30-4b15-f633-861af9d33132",
        "colab": {
          "base_uri": "https://localhost:8080/",
          "height": 506
        }
      },
      "source": [
        "c1 = ROOT.TCanvas(\"c1\",\"c1\")\n",
        "\n",
        "CutTree.Draw(\"{0}:{1}>>dalitz(20,300e3,20000e3,20,100e3,5800e3)\".format(m_KpKm,m_KK))\n",
        "dalitzHist = ROOT.gDirectory.Get(\"dalitz\")\n",
        "dalitzHist.SetTitle(\"Dalitz plot of B to KKK (enlarged)\")\n",
        "dalitzHist.GetYaxis().SetTitle(\"m^{2}_{K+K-} [MeV^{2}/c^{4}]\")\n",
        "dalitzHist.GetXaxis().SetTitle(\"m^{2}_{KK} [MeV^{2}/c^{4}]\")\n",
        "\n",
        "dalitzHist.Draw(\"colz\")\n",
        "c1.Draw()"
      ],
      "execution_count": 84,
      "outputs": [
        {
          "output_type": "stream",
          "text": [
            "Warning in <TCanvas::Constructor>: Deleting canvas with same name: c1\n"
          ],
          "name": "stderr"
        },
        {
          "output_type": "display_data",
          "data": {
            "image/png": "[encoded data removed]",
            "text/plain": [
              "<IPython.core.display.Image object>"
            ]
          },
          "metadata": {
            "tags": []
          }
        }
      ]
    },
    {
      "cell_type": "markdown",
      "metadata": {
        "id": "qPoPLt4Uo6QB"
      },
      "source": [
        "We can further improve our plot, since two sets of particles on each axis are exactly the same (one positive Kaon, one negative Kaon). So we can plot the maximum of the two values on one axis and the minimum on the other. We can use a quick numpy check and then plot those values."
      ]
    },
    {
      "cell_type": "code",
      "metadata": {
        "id": "KJ_fe2R3o8Aq"
      },
      "source": [
        "#Make the revised Dalitz plot here for B+ mesons"
      ],
      "execution_count": null,
      "outputs": []
    },
    {
      "cell_type": "code",
      "metadata": {
        "id": "t46slV8Yo-Ed"
      },
      "source": [
        "#Make the revised Dalitz plot here for B- mesons"
      ],
      "execution_count": null,
      "outputs": []
    },
    {
      "cell_type": "code",
      "metadata": {
        "id": "RfTDh69qo9_q"
      },
      "source": [
        "#Where we have a higher density of points (or a bigger value in the bin) this is indication of an intermediate resonance\r\n",
        "#Check out the possible resonances you have found in the PDG (http://pdg.lbl.gov/2020/tables/contents_tables.html)"
      ],
      "execution_count": null,
      "outputs": []
    }
  ]
}
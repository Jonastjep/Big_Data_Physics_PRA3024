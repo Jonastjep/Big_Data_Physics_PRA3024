{
  "nbformat": 4,
  "nbformat_minor": 0,
  "metadata": {
    "colab": {
      "name": "LHCb_2021.ipynb",
      "provenance": [],
      "collapsed_sections": [],
      "toc_visible": true
    },
    "kernelspec": {
      "name": "python2",
      "display_name": "Python 2"
    },
    "accelerator": "GPU"
  },
  "cells": [
    {
      "cell_type": "markdown",
      "metadata": {
        "id": "1JafiSIrvEKW"
      },
      "source": [
        "Welcome to Week 4!\n",
        "\n",
        "We will be focussing in Particle Physics Analysis and detecting matter/antimatter assymetries in the production of certain types of particles. ![LHCb detector](https://www1b.physik.rwth-aachen.de/~schael/LHCb_files/LHCB%20PREVIEW-white-bg.jpg)\n",
        "\n",
        "The data we are using comes from LHCb - one of the experiments at LHC. It is a highly specialised detector aimed at detecting decays involving the B-quark. Unlike the other major experiments, LHCb detects particles very close to the source and looks almost exclusively in the forward direction - this gives the detector many advantages compared to other experiments at LHC.\n",
        "\n",
        "In order to get started, we need to access the [ROOT framework](https://root.cern.ch/) and download some datafiles into this machine.\n",
        "\n",
        "If you are using Google Colab then you need to ensure that you are using Python 2:\n",
        "\n",
        "Before we start - we have to use Python2 (not Python 3), so we should choose this as an option in \"Runtime\" -> \"Change Runtime Type\" at the top or create a new notebook in Python2 by appending \"&runtime=python2\" to the URL."
      ]
    },
    {
      "cell_type": "code",
      "metadata": {
        "id": "vFclIR72w0mU",
        "colab": {
          "base_uri": "https://localhost:8080/"
        },
        "outputId": "ef7c72db-2e95-4642-ce7b-3b43f1a42290"
      },
      "source": [
        "#Colab only\n",
        "#we are going to make a directory called APPS\n",
        "!mkdir -p APPS\n",
        "#Now we move to our directory called APPS and we download ROOT from the CERN server, this version is chosen because it runs on this machine - if you want to run this locally check the versions!\n",
        "!cd APPS && wget https://root.cern.ch/download/root_v6.13.08.Linux-ubuntu18-x86_64-gcc7.3.tar.gz \n",
        "#Now we extract our downloaded file:\n",
        "!cd APPS && tar -xf root_v6.13.08.Linux-ubuntu18-x86_64-gcc7.3.tar.gz\n"
      ],
      "execution_count": 1,
      "outputs": [
        {
          "output_type": "stream",
          "text": [
            "--2021-02-23 09:22:30--  https://root.cern.ch/download/root_v6.13.08.Linux-ubuntu18-x86_64-gcc7.3.tar.gz\n",
            "Resolving root.cern.ch (root.cern.ch)... 137.138.18.236, 2001:1458:201:ee::100:6\n",
            "Connecting to root.cern.ch (root.cern.ch)|137.138.18.236|:443... connected.\n",
            "HTTP request sent, awaiting response... 200 OK\n",
            "Length: 137415272 (131M) [application/x-gzip]\n",
            "Saving to: ‘root_v6.13.08.Linux-ubuntu18-x86_64-gcc7.3.tar.gz’\n",
            "\n",
            "root_v6.13.08.Linux 100%[===================>] 131.05M  29.5MB/s    in 5.1s    \n",
            "\n",
            "2021-02-23 09:22:35 (25.5 MB/s) - ‘root_v6.13.08.Linux-ubuntu18-x86_64-gcc7.3.tar.gz’ saved [137415272/137415272]\n",
            "\n"
          ],
          "name": "stdout"
        }
      ]
    },
    {
      "cell_type": "code",
      "metadata": {
        "id": "COPyXIvbxqht",
        "colab": {
          "base_uri": "https://localhost:8080/"
        },
        "outputId": "830f6176-c245-4d3d-9bcf-455bfe8813df"
      },
      "source": [
        "#Colab only:\n",
        "#now we can extract some files from ROOT and ensure that we can access the libraries. We use some python key words to get access to the right files:\n",
        "\n",
        "import sys\n",
        "\n",
        "sys.path.append(\"/content/APPS/root/lib\")\n",
        "\n",
        "import ctypes\n",
        "\n",
        "\n",
        "ctypes.cdll.LoadLibrary('/content/APPS/root/lib/libCore.so')\n",
        "\n",
        "ctypes.cdll.LoadLibrary('/content/APPS/root/lib/libThread.so')\n",
        "\n",
        "ctypes.cdll.LoadLibrary('/content/APPS/root/lib/libImt.so')\n",
        "\n",
        "ctypes.cdll.LoadLibrary('/content/APPS/root/lib/libRIO.so')\n",
        "\n",
        "ctypes.cdll.LoadLibrary('/content/APPS/root/lib/libNet.so')\n",
        "\n",
        "ctypes.cdll.LoadLibrary('/content/APPS/root/lib/libTree.so')\n",
        "\n",
        "ctypes.cdll.LoadLibrary('/content/APPS/root/lib/libMathCore.so')\n",
        "\n",
        "ctypes.cdll.LoadLibrary('/content/APPS/root/lib/libMathMore.so')\n",
        "\n",
        "ctypes.cdll.LoadLibrary('/content/APPS/root/lib/libMatrix.so')\n",
        "\n",
        "ctypes.cdll.LoadLibrary('/content/APPS/root/lib/libHist.so')\n",
        "\n",
        "ctypes.cdll.LoadLibrary('/content/APPS/root/lib/libGraf.so')\n",
        "\n",
        "ctypes.cdll.LoadLibrary('/content/APPS/root/lib/libPyROOT.so')\n",
        "\n",
        "ctypes.cdll.LoadLibrary('/content/APPS/root/lib/libGpad.so')\n",
        "\n",
        "ctypes.cdll.LoadLibrary('/content/APPS/root/lib/libGraf3d.so')\n",
        "\n",
        "ctypes.cdll.LoadLibrary('/content/APPS/root/lib/libMultiProc.so')\n",
        "\n",
        "ctypes.cdll.LoadLibrary('/content/APPS/root/lib/libMinuit.so')\n",
        "\n",
        "ctypes.cdll.LoadLibrary('/content/APPS/root/lib/libFoam.so')"
      ],
      "execution_count": 2,
      "outputs": [
        {
          "output_type": "execute_result",
          "data": {
            "text/plain": [
              "<CDLL '/content/APPS/root/lib/libFoam.so', handle 560f7a8ce800 at 7f19822fc210>"
            ]
          },
          "metadata": {
            "tags": []
          },
          "execution_count": 2
        }
      ]
    },
    {
      "cell_type": "code",
      "metadata": {
        "id": "QTVz7NQMyDCb",
        "colab": {
          "base_uri": "https://localhost:8080/",
          "height": 641
        },
        "outputId": "5d54d613-2ded-4c19-9c02-da7889bfa991"
      },
      "source": [
        "ROOT.gStyle.SetOptStat(0)\n",
        "\n",
        "h = ROOT.TH1F(\"gauss1\",\"Example histogram\",100,-4,4)\n",
        "h.FillRandom(\"gaus\")\n",
        "\n",
        "h2 = ROOT.TH1F(\"gauss2\",\"Example histogram\",100,-4,4)\n",
        "h2.FillRandom(\"gaus\")\n",
        "\n",
        "varname = \"Variable of Interest\"\n",
        "h.SetTitle(varname + \" Plot\")\n",
        "h.GetXaxis().SetTitle(varname)\n",
        "h.GetYaxis().SetTitle(\"Y value\")\n",
        "h.SetLineColor(2) # red\n",
        "h.SetLineWidth(1)\n",
        "h2.SetTitle(varname)\n",
        "h2.SetLineColor(9) # blue\n",
        "h2.SetLineWidth(1)\n",
        "\n",
        "c = ROOT.TCanvas(\"myCanvasName\",\"The Canvas Title\",800,600)\n",
        "\n",
        "h.Draw()\n",
        "h2.Draw(\"SAME\")\n",
        "\n",
        "leg = ROOT.TLegend(0.11 + 0.59, 0.77, 0.3 + 0.59, 0.89)\n",
        "leg.SetHeader(\"Legend\")\n",
        "leg.AddEntry(h, \"Gaussian 1\", \"l\")\n",
        "leg.AddEntry(h2, \"Gaussian 2\", \"l\")\n",
        "leg.Draw(\"same\")\n",
        "\n",
        "c.Draw()"
      ],
      "execution_count": 106,
      "outputs": [
        {
          "output_type": "stream",
          "text": [
            "Warning in <TFile::Append>: Replacing existing TH1: gauss1 (Potential memory leak).\n",
            "Warning in <TFile::Append>: Replacing existing TH1: gauss2 (Potential memory leak).\n",
            "Warning in <TCanvas::Constructor>: Deleting canvas with same name: myCanvasName\n"
          ],
          "name": "stderr"
        },
        {
          "output_type": "display_data",
          "data": {
            "image/png": "[encoded data removed]",
            "text/plain": [
              "<IPython.core.display.Image object>"
            ]
          },
          "metadata": {
            "tags": []
          }
        }
      ]
    },
    {
      "cell_type": "markdown",
      "metadata": {
        "id": "VXW1M6XB0tXP"
      },
      "source": [
        "All being well - this should give no errors and we should have some kind of Gaussian distribution above.\n",
        "\n",
        "The next step is to get our data file - you can find it on Canvas here: https://maastrichtuniversity.instructure.com/courses/5826/files/553829?module_item_id=115201\n",
        "\n",
        "Then upload it either directly or to your Google Drive and then mount this to your Colab environment"
      ]
    },
    {
      "cell_type": "code",
      "metadata": {
        "id": "OlW4vnZqO7o1",
        "outputId": "e4a36d71-32e6-40d8-965f-a4d1996822ac",
        "colab": {
          "base_uri": "https://localhost:8080/"
        }
      },
      "source": [
        "from google.colab import drive\n",
        "drive.mount('/content/drive')"
      ],
      "execution_count": 4,
      "outputs": [
        {
          "output_type": "stream",
          "text": [
            "Mounted at /content/drive\n"
          ],
          "name": "stdout"
        }
      ]
    },
    {
      "cell_type": "code",
      "metadata": {
        "id": "VJwmfTqQPoPO"
      },
      "source": [
        "data_path = \"/content/drive/MyDrive/MSP/UniData/Big_Data_Physics/B2HHH_MagnetUp.root\""
      ],
      "execution_count": 5,
      "outputs": []
    },
    {
      "cell_type": "code",
      "metadata": {
        "id": "Co476pbmBvBB",
        "colab": {
          "base_uri": "https://localhost:8080/",
          "height": 558
        },
        "outputId": "98b00952-ef5e-4986-e73c-148730290fcb"
      },
      "source": [
        "#Since we need to use ROOT, we must first import this into Python:\n",
        "import ROOT\n",
        "#Then we open the ROOT file using the TFile command. - note you need to make this file path correct for your own setup!\n",
        "f = ROOT.TFile.Open(data_path, \"READONLY\")\n",
        "#From our file, we have to extract the DecayTree \n",
        "tree=f.Get(\"data\")\n",
        "#Now we can grab some variables as a test:\n",
        "ymomentum = ROOT.RooRealVar(\"H1_PY\",\"H1 Y Momentum\",-3000,3000,\"MeV/c\")\n",
        "xmomentum = ROOT.RooRealVar(\"H1_PX\",\"H1 X Momentum\",-3000,3000,\"MeV/c\")\n",
        "zmomentum = ROOT.RooRealVar(\"H1_PZ\",\"H1 Z Momentum\",-3000,3000,\"MeV/c\")\n",
        "# We then create a dataset for us to play with\n",
        "data = ROOT.RooDataSet(\"data\",\"data set\", tree, ROOT.RooArgSet(xmomentum,ymomentum,zmomentum), \"1==1\")\n",
        "# Now we create a canvas, plot our data onto the canvas and draw it:\n",
        "c = ROOT.TCanvas(\"c\",\"c\")\n",
        "frame = xmomentum.frame()\n",
        "data.plotOn(frame)\n",
        "frame.Draw()\n",
        "c.Draw()"
      ],
      "execution_count": 61,
      "outputs": [
        {
          "output_type": "stream",
          "text": [
            "[#1] INFO:Eval -- RooAbsReal::attachToTree(H1_PX) TTree Float_t branch H1_PX will be converted to double precision\n",
            "[#1] INFO:Eval -- RooAbsReal::attachToTree(H1_PY) TTree Float_t branch H1_PY will be converted to double precision\n",
            "[#1] INFO:Eval -- RooAbsReal::attachToTree(H1_PZ) TTree Float_t branch H1_PZ will be converted to double precision\n",
            "[#1] INFO:Eval -- RooTreeDataStore::loadValues(data) Ignored 3305139 out of range events\n"
          ],
          "name": "stdout"
        },
        {
          "output_type": "display_data",
          "data": {
            "image/png": "[encoded data removed]",
            "text/plain": [
              "<IPython.core.display.Image object>"
            ]
          },
          "metadata": {
            "tags": []
          }
        }
      ]
    },
    {
      "cell_type": "code",
      "metadata": {
        "id": "TK_uOk4gqEwL",
        "outputId": "0d571bce-f20d-4421-b430-d498dfcb0b94",
        "colab": {
          "base_uri": "https://localhost:8080/"
        }
      },
      "source": [
        "data.get(1).getRealValue(\"H1_PY\")"
      ],
      "execution_count": 74,
      "outputs": [
        {
          "output_type": "execute_result",
          "data": {
            "text/plain": [
              "-199.95687866210938"
            ]
          },
          "metadata": {
            "tags": []
          },
          "execution_count": 74
        }
      ]
    },
    {
      "cell_type": "markdown",
      "metadata": {
        "id": "4e4n4iS3IJZi"
      },
      "source": [
        "#Why are we here?\n",
        "\n",
        "This week is about finding out something about one of the fundemental questions in physics. Why do we have \"stuff\".\n",
        "\n",
        "According to many of our models, and according to many measurements in particle physics, matter and anti-matter appear to be produced in equal quantities.\n",
        "\n",
        "However, when one looks at the Universe in general, we have more matter than anti-matter left - so there need to be some processes where anti-matter and matter are not produced equally. You can find out more about the Matter/Anti-Matter Asymmetry [here](http://press.web.cern.ch/backgrounders/matterantimatter-asymmetry)\n",
        "\n",
        "One place we look for this asymetry is in [charge-partity (CP) violation](https://www.symmetrymagazine.org/article/october-2005/explain-it-in-60-seconds) in particle physics processes. This essentially says that the processes that happen in the anti-particle version of a decay do not **exactly** match to the processes that happen in the particle version of the decay.\n",
        "\n",
        "\n",
        "\n",
        "---\n",
        "\n",
        "\n",
        "\n",
        "At LHCb, we produce both particle of the  B<sup>+</sup> meson and it's antiparticle the B<sup>-</sup> meson.\n",
        "\n",
        "We cannot detect these mesons directly. They decay into other things before we have a chance to measure them properly. So we collect data on the decay products, often called daughter particles. There are 524 [documented](http://pdg.lbl.gov/2014/listings/rpp2014-list-B-plus-minus.pdf) ways that the B<sup>+/-</sup> decays into various combinations. In order to simplify the process, we choose decay combinations that are convenient or have particular properties.\n",
        "\n",
        "In this analysis, we will take the process:-\n",
        "\n",
        "B<sup>+</sup>->K<sup>+</sup> + K<sup>+</sup>  + K<sup>-</sup>\n",
        "\n",
        "or\n",
        "\n",
        "B<sup>-</sup>->K<sup>-</sup> + K<sup>-</sup>  + K<sup>+</sup>\n",
        "\n",
        "\n",
        "To do so, we are given the following data for each event in our system:-\n",
        "\n",
        "![alt text](https://raw.githubusercontent.com/lhcb/opendata-project/80d64a3796e593fc8f9b257e85f32ae2e54f131f/Images/Variables.png)\n",
        "\n",
        "Here, H1 is the detected daughter particle (so a Kaon or a Pion), **not** the B-meson - the mother particle. Normally we would have to do some reconstruction from the decay products (the Daughters) to the Mother to be able to make some conclusions.\n",
        "\n",
        "Let's get started with working with this data:"
      ]
    },
    {
      "cell_type": "markdown",
      "metadata": {
        "id": "LOhfj7kfP-ao"
      },
      "source": [
        "For our analysis, the momentum of each of the daughter particles is split into the three cartesian components. We have combined these into a variable called H1_Ptot"
      ]
    },
    {
      "cell_type": "code",
      "metadata": {
        "id": "bux68WpOWzhc",
        "outputId": "9f41d4a1-5eb7-4529-bd7e-baa54bc76336",
        "colab": {
          "base_uri": "https://localhost:8080/"
        }
      },
      "source": [
        "f.ls()"
      ],
      "execution_count": 10,
      "outputs": [
        {
          "output_type": "stream",
          "text": [
            "TFile**\t\t/content/drive/MyDrive/MSP/UniData/Big_Data_Physics/B2HHH_MagnetUp.root\t\n",
            " TFile*\t\t/content/drive/MyDrive/MSP/UniData/Big_Data_Physics/B2HHH_MagnetUp.root\t\n",
            "  OBJ: TTree\tdata\tLHCB data : 0 at: 0x560f7a8c0ec0\n",
            "  OBJ: RooPlot\tframe_H1_PX_560f8075da80\tA RooPlot of \"H1 X Momentum\" : 0 at: 0x560f8075da80\n",
            "  OBJ: RooPlot\tframe_H1_PX_560f7fb7e360\tA RooPlot of \"H1 X Momentum\" : 0 at: 0x560f7fb7e360\n",
            "  OBJ: RooPlot\tframe_H1_PX_560f8075afc0\tA RooPlot of \"H1 X Momentum\" : 0 at: 0x560f8075afc0\n",
            "  OBJ: TH1F\tdata_plot__H1_PX\tHistogram of data_plot__H1_PX : 0 at: 0x560f808e0000\n",
            "  KEY: TTree\tdata;14\tLHCB data\n",
            "  KEY: TTree\tdata;13\tLHCB data\n"
          ],
          "name": "stdout"
        }
      ]
    },
    {
      "cell_type": "code",
      "metadata": {
        "id": "_c0675URXNMj",
        "outputId": "6c27f732-d7f9-4f9d-d632-3f1850f765f2",
        "colab": {
          "base_uri": "https://localhost:8080/"
        }
      },
      "source": [
        "tree.Show()"
      ],
      "execution_count": 11,
      "outputs": [
        {
          "output_type": "stream",
          "text": [
            "======> EVENT:3420194\n",
            " B_FlightDistance = 8.43893\n",
            " B_VertexChi2    = 7.84392\n",
            " H1_PX           = 816.635\n",
            " H1_PY           = 368.774\n",
            " H1_PZ           = 14055.8\n",
            " H1_ProbK        = 0.00679082\n",
            " H1_ProbPi       = 0.868581\n",
            " H1_Charge       = -1\n",
            " H1_IPChi2       = 910.454\n",
            " H1_isMuon       = 0\n",
            " H2_PX           = -587.363\n",
            " H2_PY           = -159.705\n",
            " H2_PZ           = 41307.4\n",
            " H2_ProbK        = 0.0221071\n",
            " H2_ProbPi       = 0.713949\n",
            " H2_Charge       = 1\n",
            " H2_IPChi2       = 1.76096\n",
            " H2_isMuon       = 0\n",
            " H3_PX           = -3647.65\n",
            " H3_PY           = -960.227\n",
            " H3_PZ           = 43878.3\n",
            " H3_ProbK        = 0.0291707\n",
            " H3_ProbPi       = 0.881665\n",
            " H3_Charge       = 1\n",
            " H3_IPChi2       = 589.565\n",
            " H3_isMuon       = 0\n",
            " H1_Ptot         = 14084.3\n",
            " H1_type         = 1\n",
            " H1_E            = 14085\n",
            " H2_Ptot         = 41311.9\n",
            " H2_type         = 1\n",
            " H2_E            = 41312.1\n",
            " H3_Ptot         = 44040.1\n",
            " H3_type         = 1\n",
            " H3_E            = 44040.3\n",
            " M_Ptot          = 99303.1\n",
            " M_E             = 99437.4\n",
            " M_m0            = 5166.19\n"
          ],
          "name": "stdout"
        }
      ]
    },
    {
      "cell_type": "code",
      "metadata": {
        "id": "Y4keyoyTPjsK",
        "colab": {
          "base_uri": "https://localhost:8080/",
          "height": 606
        },
        "outputId": "65d41055-58c6-4260-e77d-b66844661d22"
      },
      "source": [
        "############ USING NORMAL ROOT HISTOGRAM #################\n",
        "#Here make a plot of the Total momentum of each of the three daughters\n",
        "ROOT.gStyle.SetOptStat(0)\n",
        "\n",
        "c = ROOT.TCanvas(\"c2\", \"Ptot 1\", 800, 600)\n",
        "\n",
        "tree.Draw(\"H1_Ptot>>h1(250, 0, 300000)\")\n",
        "h1 = ROOT.gDirectory.Get(\"h1\")\n",
        "\n",
        "tree.Draw(\"H2_Ptot>>h2(250, 0, 300000)\")\n",
        "h2 = ROOT.gDirectory.Get(\"h2\")\n",
        "\n",
        "tree.Draw(\"H3_Ptot>>h3(250, 0, 300000)\")\n",
        "h3 = ROOT.gDirectory.Get(\"h3\")\n",
        "\n",
        "max = 0\n",
        "for h in [h1,h2,h3]:\n",
        "  if h.GetMaximum() >= max:\n",
        "    max = h.GetMaximum()\n",
        "\n",
        "varname = \"Ptot\"\n",
        "\n",
        "h1.SetMaximum(max + 1500)\n",
        "h1.SetTitle(\"Daughter \" + varname + \" Plot\")\n",
        "h1.GetXaxis().SetTitle(varname)\n",
        "h1.GetYaxis().SetTitle(\"Entries\")\n",
        "h1.SetLineColor(2) # red\n",
        "h1.SetLineWidth(1)\n",
        "\n",
        "h2.SetTitle(varname)\n",
        "h2.SetLineColor(9) # blue\n",
        "h2.SetLineWidth(1)\n",
        "\n",
        "h1.Draw()\n",
        "h2.Draw(\"SAME\")\n",
        "h3.Draw(\"SAME\")\n",
        "\n",
        "leg = ROOT.TLegend(0.11 + 0.59, 0.77, 0.3 + 0.59, 0.89)\n",
        "leg.SetHeader(\"Legend\")\n",
        "leg.AddEntry(h1, \"H1_Ptot\", \"l\")\n",
        "leg.AddEntry(h2, \"H2_Ptot\", \"l\")\n",
        "leg.AddEntry(h3, \"H3_Ptot\", \"l\")\n",
        "\n",
        "leg.Draw(\"same\")\n",
        "\n",
        "c.Draw()"
      ],
      "execution_count": 122,
      "outputs": [
        {
          "output_type": "stream",
          "text": [
            "Warning in <TCanvas::Constructor>: Deleting canvas with same name: c2\n"
          ],
          "name": "stderr"
        },
        {
          "output_type": "display_data",
          "data": {
            "image/png": "[encoded data removed]",
            "text/plain": [
              "<IPython.core.display.Image object>"
            ]
          },
          "metadata": {
            "tags": []
          }
        }
      ]
    },
    {
      "cell_type": "code",
      "metadata": {
        "id": "UuNfjsxPtOFM",
        "outputId": "cc2c3989-6ce9-4ce8-e4cb-008264eea750",
        "colab": {
          "base_uri": "https://localhost:8080/",
          "height": 541
        }
      },
      "source": [
        "############################ EXAMPLE USING ROOFIT ##########################\n",
        "tot_mom = ROOT.RooRealVar(\"H1_Ptot\",\"H1 Tot Momentum\",0,300000,\"MeV/c\")\n",
        "\n",
        "data = ROOT.RooDataSet(\"data\",\"data set\", tree, ROOT.RooArgSet(tot_mom), \"1==1\")\n",
        "# Now we create a canvas, plot our data onto the canvas and draw it:\n",
        "c = ROOT.TCanvas(\"c\",\"c\")\n",
        "frame = tot_mom.frame()\n",
        "data.plotOn(frame)\n",
        "frame.Draw()\n",
        "c.Draw()"
      ],
      "execution_count": 79,
      "outputs": [
        {
          "output_type": "stream",
          "text": [
            "[#1] INFO:Eval -- RooAbsReal::attachToTree(H1_Ptot) TTree Float_t branch H1_Ptot will be converted to double precision\n",
            "[#1] INFO:Eval -- RooTreeDataStore::loadValues(data) Ignored 12283 out of range events\n"
          ],
          "name": "stdout"
        },
        {
          "output_type": "stream",
          "text": [
            "Warning in <TCanvas::Constructor>: Deleting canvas with same name: c\n"
          ],
          "name": "stderr"
        },
        {
          "output_type": "display_data",
          "data": {
            "image/png": "[encoded data removed]",
            "text/plain": [
              "<IPython.core.display.Image object>"
            ]
          },
          "metadata": {
            "tags": []
          }
        }
      ]
    },
    {
      "cell_type": "markdown",
      "metadata": {
        "id": "C1lXLMCoR1Gi"
      },
      "source": [
        "Now plot the total momentum for the mother (M_Ptot)"
      ]
    },
    {
      "cell_type": "code",
      "metadata": {
        "id": "6kdbiNpPR1QG",
        "colab": {
          "base_uri": "https://localhost:8080/",
          "height": 606
        },
        "outputId": "246b4276-2826-43ed-943b-4ed5ac0229f8"
      },
      "source": [
        "#use the histogram plotting tools, plot the momentum of the mother\n",
        "c = ROOT.TCanvas(\"c2\", \"Ptot 1\", 800, 600)\n",
        "\n",
        "tree.Draw(\"M_Ptot>>h1(250, 0, 400000)\")\n",
        "h1 = ROOT.gDirectory.Get(\"h1\")\n",
        "\n",
        "varname = \"Ptot\"\n",
        "\n",
        "h1.SetTitle(\"Mother \" + varname + \" Plot\")\n",
        "h1.GetXaxis().SetTitle(varname)\n",
        "h1.GetYaxis().SetTitle(\"Entries\")\n",
        "h1.SetLineColor(2) # red\n",
        "h1.SetLineWidth(1)\n",
        "\n",
        "h1.Draw()\n",
        "\n",
        "leg = ROOT.TLegend(0.11 + 0.59, 0.77, 0.3 + 0.59, 0.89)\n",
        "leg.SetHeader(\"Legend\")\n",
        "leg.AddEntry(h1, \"H1_Ptot\", \"l\")\n",
        "\n",
        "leg.Draw(\"same\")\n",
        "\n",
        "c.Draw()"
      ],
      "execution_count": 181,
      "outputs": [
        {
          "output_type": "stream",
          "text": [
            "Warning in <TCanvas::Constructor>: Deleting canvas with same name: c2\n"
          ],
          "name": "stderr"
        },
        {
          "output_type": "display_data",
          "data": {
            "image/png": "[encoded data removed]",
            "text/plain": [
              "<IPython.core.display.Image object>"
            ]
          },
          "metadata": {
            "tags": []
          }
        }
      ]
    },
    {
      "cell_type": "markdown",
      "metadata": {
        "id": "Gj5qv5kqSMIF"
      },
      "source": [
        "Let's take a look at the whole data file that is available to us by looking at one specific entry - number 45"
      ]
    },
    {
      "cell_type": "code",
      "metadata": {
        "id": "QMkih_6SSG8I",
        "colab": {
          "base_uri": "https://localhost:8080/"
        },
        "outputId": "dd576915-ca8d-4c97-abcd-734ed518d657"
      },
      "source": [
        "tree.Show(45)"
      ],
      "execution_count": 37,
      "outputs": [
        {
          "output_type": "stream",
          "text": [
            "======> EVENT:45\n",
            " B_FlightDistance = 4.71407\n",
            " B_VertexChi2    = 11.5278\n",
            " H1_PX           = 133.376\n",
            " H1_PY           = -1293.52\n",
            " H1_PZ           = 33534.2\n",
            " H1_ProbK        = 0.00735235\n",
            " H1_ProbPi       = 0.204907\n",
            " H1_Charge       = 1\n",
            " H1_IPChi2       = 22.9885\n",
            " H1_isMuon       = 0\n",
            " H2_PX           = 518.943\n",
            " H2_PY           = -1966.2\n",
            " H2_PZ           = 52184.7\n",
            " H2_ProbK        = 0.00482044\n",
            " H2_ProbPi       = 0.266655\n",
            " H2_Charge       = -1\n",
            " H2_IPChi2       = 20.5652\n",
            " H2_isMuon       = 0\n",
            " H3_PX           = 1383.62\n",
            " H3_PY           = -2008.35\n",
            " H3_PZ           = 12154\n",
            " H3_ProbK        = 0.0800247\n",
            " H3_ProbPi       = 0.403711\n",
            " H3_Charge       = -1\n",
            " H3_IPChi2       = 1584.95\n",
            " H3_isMuon       = 0\n",
            " H1_Ptot         = 33559.4\n",
            " H1_type         = 1\n",
            " H1_E            = 33559.7\n",
            " H2_Ptot         = 52224.4\n",
            " H2_type         = 1\n",
            " H2_E            = 52224.5\n",
            " H3_Ptot         = 12396.2\n",
            " H3_type         = 1\n",
            " H3_E            = 12397\n",
            " M_Ptot          = 98035.7\n",
            " M_E             = 98181.3\n",
            " M_m0            = 5343.69\n"
          ],
          "name": "stdout"
        }
      ]
    },
    {
      "cell_type": "markdown",
      "metadata": {
        "id": "w3sqwtNTUEJd"
      },
      "source": [
        "We have now completed the initial steps and begun to work through what we need to with the data. This is a perfect moment to take a coffee!"
      ]
    },
    {
      "cell_type": "markdown",
      "metadata": {
        "id": "6RhWWqt3a8_e"
      },
      "source": [
        "Having discovered all of the relevant information about our daughter particles, we need to combine the measurements about them into a single mother - which will be our B<sup>+</sup> or our B<sup>-</sup>\r\n",
        "\r\n",
        "Having found our momentum and energy, we can use these quantities to find our experimental mass (not the theoretical mass as we have used for the reconstruction).\r\n",
        "\r\n",
        "When we calculate this, we will get a distribution of masses. This is due to errors in the measurements made either by the detector, or in the experiment itself. We hope to have a reasonably narrow peak to work with, but, sometimes this is not possible.\r\n",
        "\r\n",
        "Additionally there will be other particles in the detector - which means our daughters might have come from two or even three different processes. Events which don't come from the same process will give a higher or lower mass than we are looking for. This is typically called the *background* while events which come from our event of interest are called the *signal*"
      ]
    },
    {
      "cell_type": "code",
      "metadata": {
        "id": "onr7-8CMbbFf",
        "colab": {
          "base_uri": "https://localhost:8080/",
          "height": 606
        },
        "outputId": "958a7de7-cac3-4481-f5ce-e36d36396859"
      },
      "source": [
        "#Now plot a histogram of the range of masses of the B meson.\r\n",
        "#Does this match what we would expect from theory?\r\n",
        "\r\n",
        "ROOT.gStyle.SetOptStat(0)\r\n",
        "\r\n",
        "c = ROOT.TCanvas(\"c2\", \"Ptot 1\", 800, 600)\r\n",
        "\r\n",
        "tree.Draw(\"sqrt(M_E*M_E - M_Ptot*M_Ptot*1**2)/1**2>>H(250, 1500, 7000)\")\r\n",
        "H = ROOT.gDirectory.Get(\"H\")\r\n",
        "\r\n",
        "tree.Draw(\"M_m0>>h1(250, 1500, 7000)\")\r\n",
        "h1 = ROOT.gDirectory.Get(\"h1\")\r\n",
        "\r\n",
        "varname = \"Ptot\"\r\n",
        "\r\n",
        "H.SetTitle(\"Daughter \" + varname + \" Plot\")\r\n",
        "H.GetXaxis().SetTitle(varname)\r\n",
        "H.GetYaxis().SetTitle(\"Entries\")\r\n",
        "H.SetLineColor(2) # red\r\n",
        "H.SetLineWidth(1)\r\n",
        "H.Draw()\r\n",
        "\r\n",
        "h1.SetLineColor(9) # red\r\n",
        "h1.SetLineWidth(1)\r\n",
        "h1.Draw()\r\n",
        "\r\n",
        "leg = ROOT.TLegend(0.11 + 0.59, 0.77, 0.3 + 0.59, 0.89)\r\n",
        "leg.SetHeader(\"Legend\")\r\n",
        "leg.AddEntry(H, \"H1_Ptot\", \"l\")\r\n",
        "leg.AddEntry(h1, \"H1_Ptot\", \"l\")\r\n",
        "\r\n",
        "\r\n",
        "leg.Draw(\"same\")\r\n",
        "\r\n",
        "c.Draw()\r\n",
        "\r\n",
        "#We can see that the pre stored mass distribution is exactly the same as the calculated one"
      ],
      "execution_count": 210,
      "outputs": [
        {
          "output_type": "stream",
          "text": [
            "Warning in <TCanvas::Constructor>: Deleting canvas with same name: c2\n"
          ],
          "name": "stderr"
        },
        {
          "output_type": "display_data",
          "data": {
            "image/png": "[encoded data removed]",
            "text/plain": [
              "<IPython.core.display.Image object>"
            ]
          },
          "metadata": {
            "tags": []
          }
        }
      ]
    },
    {
      "cell_type": "markdown",
      "metadata": {
        "id": "MWGFKFnXb0RP"
      },
      "source": [
        "We know that some of our particles are the B+ and some are the B- particle. There will also be some particles in our system that are not coming from a genuine B+/- or are a B+/- but are not constructed from Kaons.\r\n",
        "\r\n",
        "We have some tools available to help:-\r\n",
        "\r\n",
        "  *  During detection, software attributes the probability of a particle being a Kaon or a Pion (in the H1_ProbK or H1_ProbPi variable)\r\n",
        "  * The detector also knows if the particle was a Muon - since it has detectors specifically for these. So it can attribute a 0 or a 1 to this probability\r\n",
        "  * The reconstructed vertex has a some kind of quality associated with it (we call this the Vertex χ2 (this is the variable B_VertexChi2). This is the statistical measure that determines how well we found a single point to be the source of all three particles.\r\n",
        "\r\n"
      ]
    },
    {
      "cell_type": "markdown",
      "metadata": {
        "id": "fEpnSmH4b9HZ"
      },
      "source": [
        "In order to get a better result, we should select our data to have the properties we desire and make some rules (often called a selection) to cut away data we don't want to include for various reasons. e.g. we know we don't have any muons in our decay - so any time H1/H2/H3 are a muon they should be excluded. The other variables are not so clear - so we can plot them to make a decision."
      ]
    },
    {
      "cell_type": "code",
      "metadata": {
        "id": "k0vikJp0cAvv",
        "colab": {
          "base_uri": "https://localhost:8080/",
          "height": 606
        },
        "outputId": "211e2edf-cb38-4c84-afa7-466764b572f6"
      },
      "source": [
        "#Make plots of H1/H2/H3 _ProbK on one plot\r\n",
        "ROOT.gStyle.SetOptStat(0)\r\n",
        "\r\n",
        "xval = 1\r\n",
        "varname = \"ProbK\"\r\n",
        "\r\n",
        "c = ROOT.TCanvas(\"c\", \"c\", 800, 600)\r\n",
        "\r\n",
        "tree.Draw(\"H1_{0}>>h1(250, 0, {1})\".format(varname, xval))\r\n",
        "h1 = ROOT.gDirectory.Get(\"h1\")\r\n",
        "\r\n",
        "tree.Draw(\"H2_{0}>>h2(250, 0, {1})\".format(varname, xval))\r\n",
        "h2 = ROOT.gDirectory.Get(\"h2\")\r\n",
        "\r\n",
        "tree.Draw(\"H3_{0}>>h3(250, 0, {1})\".format(varname, xval))\r\n",
        "h3 = ROOT.gDirectory.Get(\"h3\")\r\n",
        "\r\n",
        "max = 0\r\n",
        "for h in [h1,h2,h3]:\r\n",
        "  if h.GetMaximum() >= max:\r\n",
        "    max = h.GetMaximum()\r\n",
        "\r\n",
        "h1.SetMaximum(max + 10000)\r\n",
        "h1.SetTitle(\"Daughter \" + varname + \" Plot\")\r\n",
        "h1.GetXaxis().SetTitle(varname)\r\n",
        "h1.GetYaxis().SetTitle(\"Entries\")\r\n",
        "h1.SetLineColor(2) # red\r\n",
        "h1.SetLineWidth(1)\r\n",
        "\r\n",
        "h2.SetTitle(varname)\r\n",
        "h2.SetLineColor(9) # blue\r\n",
        "h2.SetLineWidth(1)\r\n",
        "\r\n",
        "h1.Draw()\r\n",
        "h2.Draw(\"SAME\")\r\n",
        "h3.Draw(\"SAME\")\r\n",
        "\r\n",
        "leg = ROOT.TLegend(0.11 + 0.59, 0.77, 0.3 + 0.59, 0.89)\r\n",
        "leg.SetHeader(\"Legend\")\r\n",
        "leg.AddEntry(h1, \"H1_{}\".format(varname), \"l\")\r\n",
        "leg.AddEntry(h2, \"H2_{}\".format(varname), \"l\")\r\n",
        "leg.AddEntry(h3, \"H3_{}\".format(varname), \"l\")\r\n",
        "\r\n",
        "leg.Draw(\"same\")\r\n",
        "\r\n",
        "c.Draw()"
      ],
      "execution_count": 163,
      "outputs": [
        {
          "output_type": "stream",
          "text": [
            "Warning in <TCanvas::Constructor>: Deleting canvas with same name: c\n"
          ],
          "name": "stderr"
        },
        {
          "output_type": "display_data",
          "data": {
            "image/png": "[encoded data removed]",
            "text/plain": [
              "<IPython.core.display.Image object>"
            ]
          },
          "metadata": {
            "tags": []
          }
        }
      ]
    },
    {
      "cell_type": "code",
      "metadata": {
        "id": "9MT8I_uzEIgU",
        "outputId": "99ef6d82-3272-4a38-d35e-6f1093f969b0",
        "colab": {
          "base_uri": "https://localhost:8080/",
          "height": 589
        }
      },
      "source": [
        "#Make plots of H1/H2/H3 _ProbPi on one plot\n",
        "xval = 1\n",
        "varname = \"ProbPi\"\n",
        "\n",
        "c = ROOT.TCanvas(\"c\", \"c\", 800, 600)\n",
        "\n",
        "tree.Draw(\"H1_{0}>>h1(250, 0, {1})\".format(varname, xval))\n",
        "h1 = ROOT.gDirectory.Get(\"h1\")\n",
        "\n",
        "tree.Draw(\"H2_{0}>>h2(250, 0, {1})\".format(varname, xval))\n",
        "h2 = ROOT.gDirectory.Get(\"h2\")\n",
        "\n",
        "tree.Draw(\"H3_{0}>>h3(250, 0, {1})\".format(varname, xval))\n",
        "h3 = ROOT.gDirectory.Get(\"h3\")\n",
        "\n",
        "max = 0\n",
        "for h in [h1,h2,h3]:\n",
        "  if h.GetMaximum() >= max:\n",
        "    max = h.GetMaximum()\n",
        "\n",
        "h1.SetMaximum(max + 10000)\n",
        "h1.SetTitle(\"Daughter \" + varname + \" Plot\")\n",
        "h1.GetXaxis().SetTitle(varname)\n",
        "h1.GetYaxis().SetTitle(\"Entries\")\n",
        "h1.SetLineColor(2) # red\n",
        "h1.SetLineWidth(1)\n",
        "\n",
        "h2.SetTitle(varname)\n",
        "h2.SetLineColor(9) # blue\n",
        "h2.SetLineWidth(1)\n",
        "\n",
        "h1.Draw()\n",
        "h2.Draw(\"SAME\")\n",
        "h3.Draw(\"SAME\")\n",
        "\n",
        "leg = ROOT.TLegend(0.11 + 0.59, 0.77, 0.3 + 0.59, 0.89)\n",
        "leg.SetHeader(\"Legend\")\n",
        "leg.AddEntry(h1, \"H1_{}\".format(varname), \"l\")\n",
        "leg.AddEntry(h2, \"H2_{}\".format(varname), \"l\")\n",
        "leg.AddEntry(h3, \"H3_{}\".format(varname), \"l\")\n",
        "\n",
        "leg.Draw(\"same\")\n",
        "\n",
        "c.Draw()"
      ],
      "execution_count": 162,
      "outputs": [
        {
          "output_type": "display_data",
          "data": {
            "image/png": "[encoded data removed]",
            "text/plain": [
              "<IPython.core.display.Image object>"
            ]
          },
          "metadata": {
            "tags": []
          }
        }
      ]
    },
    {
      "cell_type": "markdown",
      "metadata": {
        "id": "DWmxBkZ0cDx1"
      },
      "source": [
        "Using these plots, we can now make a preselection string. This is a text string that looks like "
      ]
    },
    {
      "cell_type": "code",
      "metadata": {
        "id": "aygD9WXSERMc",
        "outputId": "9bca08b3-da53-4e81-a1aa-332a02df3bd6",
        "colab": {
          "base_uri": "https://localhost:8080/",
          "height": 589
        }
      },
      "source": [
        "#For all our particles, make a plot of the B_VertexChi2\n",
        "c = ROOT.TCanvas(\"c\", \"c\", 800, 600)\n",
        "\n",
        "xmax = tree.GetMaximum(\"B_VertexChi2\")\n",
        "\n",
        "tree.Draw(\"B_VertexChi2>>h1(250, 0, {})\".format(xmax))\n",
        "h1 = ROOT.gDirectory.Get(\"h1\")\n",
        "\n",
        "varname = \"Ptot\"\n",
        "\n",
        "h1.SetTitle(\"Mother \" + varname + \" Plot\")\n",
        "h1.GetXaxis().SetTitle(varname)\n",
        "h1.GetYaxis().SetTitle(\"Entries\")\n",
        "h1.SetLineColor(2) # red\n",
        "h1.SetLineWidth(1)\n",
        "\n",
        "h1.Draw()\n",
        "\n",
        "leg = ROOT.TLegend(0.11 + 0.59, 0.77, 0.3 + 0.59, 0.89)\n",
        "leg.SetHeader(\"Legend\")\n",
        "leg.AddEntry(h1, \"H1_Ptot\", \"l\")\n",
        "leg.Draw(\"same\")\n",
        "\n",
        "c.Draw()"
      ],
      "execution_count": 182,
      "outputs": [
        {
          "output_type": "display_data",
          "data": {
            "image/png": "[encoded data removed]",
            "text/plain": [
              "<IPython.core.display.Image object>"
            ]
          },
          "metadata": {
            "tags": []
          }
        }
      ]
    },
    {
      "cell_type": "code",
      "metadata": {
        "id": "U1IGKyZXcGJP"
      },
      "source": [
        "#This example is for each daughter particle to have a Probability of being a Pion being more than 90% and H1 to not be a muon\r\n",
        "#This is not a good choice of selection - you should make your own :)\r\n",
        "selection=(\"H1_ProbPi>0.9 && H2_ProbPi>0.9 && H3_ProbPi>0.9 && H1_isMuon >0.9\")"
      ],
      "execution_count": null,
      "outputs": []
    },
    {
      "cell_type": "code",
      "metadata": {
        "id": "MxD7JMeicMu0"
      },
      "source": [
        "#To apply the selection - we can use the copytree command:\r\n",
        "selection=(\"H1_ProbK>0.3 && H2_ProbK>0.3 && H3_ProbK>0.3 && H1_ProbK>H1_ProbPi && H2_ProbK>H2_ProbPi && H3_ProbK>H3_ProbPi && !H1_isMuon && !H2_isMuon && !H2_isMuon\")\r\n",
        "CutTree=tree.CopyTree(selection)\r\n",
        "\r\n",
        "#So now we take our data in tree and apply selection to it (so only events which comply with those rules are kept) and put the new data in CutTree"
      ],
      "execution_count": 245,
      "outputs": []
    },
    {
      "cell_type": "code",
      "metadata": {
        "id": "hmmsoUwEcOir",
        "colab": {
          "base_uri": "https://localhost:8080/",
          "height": 606
        },
        "outputId": "abd3de37-6772-4863-9e7e-ea3b2d8719ec"
      },
      "source": [
        "#Now as a good check, we should see the effect of applying our cuts.\r\n",
        "#On one histogram, plot the B meson mass, from both the tree (pre-cuts) and the CutTree (post-cuts)\r\n",
        "#What do you notice about your histogram now?\r\n",
        "\r\n",
        "c = ROOT.TCanvas(\"c\", \"c\", 800, 600)\r\n",
        "\r\n",
        "\r\n",
        "tree.Draw(\"M_m0>>h1(250, 1500, 7000)\")\r\n",
        "h1 = ROOT.gDirectory.Get(\"h1\")\r\n",
        "\r\n",
        "CutTree.Draw(\"M_m0>>h2(250, 1500, 7000)\")\r\n",
        "h2 = ROOT.gDirectory.Get(\"h2\")\r\n",
        "\r\n",
        "varname = \"Ptot\"\r\n",
        "\r\n",
        "h1.SetTitle(\"Mother \" + varname + \" Plot\")\r\n",
        "h1.GetXaxis().SetTitle(varname)\r\n",
        "h1.GetYaxis().SetTitle(\"Entries\")\r\n",
        "h1.SetLineColor(2) # red\r\n",
        "h1.SetLineWidth(1)\r\n",
        "\r\n",
        "h2.SetLineColor(9) # red\r\n",
        "h2.SetLineWidth(1)\r\n",
        "\r\n",
        "h1.Draw()\r\n",
        "h2.Draw(\"same\")\r\n",
        "\r\n",
        "leg = ROOT.TLegend(0.11 + 0.59, 0.77, 0.3 + 0.59, 0.89)\r\n",
        "leg.SetHeader(\"Legend\")\r\n",
        "leg.AddEntry(h1, \"H1_Ptot\", \"l\")\r\n",
        "leg.AddEntry(h2, \"H1_Ptot\", \"l\")\r\n",
        "\r\n",
        "leg.Draw(\"same\")\r\n",
        "\r\n",
        "c.Draw()"
      ],
      "execution_count": 246,
      "outputs": [
        {
          "output_type": "stream",
          "text": [
            "Warning in <TCanvas::Constructor>: Deleting canvas with same name: c\n"
          ],
          "name": "stderr"
        },
        {
          "output_type": "display_data",
          "data": {
            "image/png": "[encoded data removed]",
            "text/plain": [
              "<IPython.core.display.Image object>"
            ]
          },
          "metadata": {
            "tags": []
          }
        }
      ]
    },
    {
      "cell_type": "code",
      "metadata": {
        "id": "U8x1FQI8Pdp-",
        "outputId": "8c94a620-6ec1-45b4-ba95-0eeb2dd528f4",
        "colab": {
          "base_uri": "https://localhost:8080/",
          "height": 606
        }
      },
      "source": [
        "c = ROOT.TCanvas(\"c\", \"c\", 800, 600)\n",
        "\n",
        "CutTree.Draw(\"M_m0>>h2(250, 5100, 5500)\")\n",
        "h2 = ROOT.gDirectory.Get(\"h2\")\n",
        "\n",
        "varname = \"Ptot\"\n",
        "\n",
        "h2.SetTitle(\"Mother \" + varname + \" Plot\")\n",
        "h2.GetXaxis().SetTitle(varname)\n",
        "h2.GetYaxis().SetTitle(\"Entries\")\n",
        "h2.SetLineColor(9) # red\n",
        "h2.SetLineWidth(1)\n",
        "\n",
        "h2.Draw()\n",
        "\n",
        "leg = ROOT.TLegend(0.11 + 0.59, 0.77, 0.3 + 0.59, 0.89)\n",
        "leg.SetHeader(\"Legend\")\n",
        "leg.AddEntry(h2, \"H1_Ptot\", \"l\")\n",
        "\n",
        "leg.Draw(\"same\")\n",
        "\n",
        "c.Draw()"
      ],
      "execution_count": 248,
      "outputs": [
        {
          "output_type": "stream",
          "text": [
            "Warning in <TCanvas::Constructor>: Deleting canvas with same name: c\n"
          ],
          "name": "stderr"
        },
        {
          "output_type": "display_data",
          "data": {
            "image/png": "[encoded data removed]",
            "text/plain": [
              "<IPython.core.display.Image object>"
            ]
          },
          "metadata": {
            "tags": []
          }
        }
      ]
    },
    {
      "cell_type": "markdown",
      "metadata": {
        "id": "N1tResqvcMgQ"
      },
      "source": [
        "#How do we count the number of events?\r\n",
        "\r\n",
        "We now have a histogram of events that we have reconstructed as a B meson. But some of these events are caused by a co-incidence of events which would still occur if there were no B mesons actually produced. We call this the background. Background and signal are indistinguishable now as the detector cannot tell the difference and our cuts were unable to remove the events for physics reasons. We can do some statistical analysis, if we know the approximate shapes of our signal and our background. Just like a least-squares fitting we can run a fit routine to minimise the error between the fitted curve and our data. As an example, if we know our data has an exponential background and a gaussian signal:\r\n",
        "\r\n",
        "![Gaussian+Exp Background](https://twiki.cern.ch/twiki/pub/RooStats/RooStatsTutorialsJune2013/GausExpModelFit.png)\r\n",
        "\r\n",
        "Here the red line represents our signal, the blue dotted line is our background and the solid blue line is our combined curve. The graph also shows the number of signal events and the number of background events. The signal now is a tiny fraction of the total data shown in the plot.\r\n",
        "\r\n",
        "In order to do this, we need to build a fit model, around which the software can try to fit our data.\r\n",
        "\r\n",
        "We use RooFit for this, which includes:\r\n",
        "* Gaussian\r\n",
        "* Exponential\r\n",
        "* Chebychev\r\n",
        "* Crystal Ball\r\n",
        "* Breit-Wigner\r\n",
        "\r\n",
        "As well as several other choices.\r\n",
        "\r\n",
        "Typically exponential and Chebychev functions are used for background and Gaussian, Crystal Ball and Breit-Wigner are used for signal. We can also combine them (e.g. 1 crystal ball, 1 gaussian, 1 exponential) in various ways."
      ]
    },
    {
      "cell_type": "markdown",
      "metadata": {
        "id": "6Z0AnBwxd8wt"
      },
      "source": [
        "### Fit with Gaussian fit shape"
      ]
    },
    {
      "cell_type": "code",
      "metadata": {
        "id": "R_7q_HY1qhiS"
      },
      "source": [
        "#define physical measurment that we want to fit using RooRealVar\r\n",
        "# var = ROOT.RooRealVar =(\"Variable from Python\", \"Nickname\",Min, Max, Units)\r\n",
        "mass = ROOT.RooRealVar(\"M_m0\",\"Mass\",5150,5400,\"MeV/C^{2}\")\r\n",
        "\r\n",
        "#passing the rest of the variables into the model\r\n",
        "#For the RooRealVar the last three parameters are given, \"starting value\" and min/max values\r\n",
        "gaussMean = ROOT.RooRealVar(\"Mean\",\"Mean\",5000,5150,5400)\r\n",
        "gaussWidth = ROOT.RooRealVar(\"Width\",\"Width\",40,0,7000)\r\n",
        "\r\n",
        "#Now we have enough to make our Model for the signal:\r\n",
        "\r\n",
        "Gauss=ROOT.RooGaussian(\"Gauss\",\"Gaussian Signal\",mass,gaussMean,gaussWidth)\r\n",
        "Gauss_Norm= ROOT.RooRealVar(\"Gauss_Norm\",\"Signal Yield\", tree.GetEntries()/30, 0, tree.GetEntries() * 3)\r\n",
        "#We also need a background, so let's use a (simple) exponential:\r\n",
        "\r\n",
        "exponent=ROOT.RooRealVar(\"exponent\", \"C\", -0.02, -2, +2)\r\n",
        "exp_Norm= ROOT.RooRealVar(\"exp_Norm\",\"Background Yield\", tree.GetEntries()/30, 0, tree.GetEntries() * 2)\r\n",
        "\r\n",
        "#Define the  model for the background:\r\n",
        "\r\n",
        "Bkgnd=ROOT.RooExponential(\"Bkgnd\",\"Exponential Background\",mass,exponent)\r\n",
        "\r\n",
        "#Now we need to combine these two functions into a single PDF (probability density function)\r\n",
        "#and we need to add the normalisation factors at the end as scaling factors\r\n",
        "\r\n",
        "model=ROOT.RooAddPdf(\"Full Model\",\"model\",ROOT.RooArgList(Gauss,Bkgnd),ROOT.RooArgList(Gauss_Norm, exp_Norm) )"
      ],
      "execution_count": 257,
      "outputs": []
    },
    {
      "cell_type": "code",
      "metadata": {
        "id": "PL-qVvs-dw86",
        "colab": {
          "base_uri": "https://localhost:8080/"
        },
        "outputId": "6fa809fd-a3dc-4f52-fedd-efa764f78822"
      },
      "source": [
        "#Put our data set into a RooDataSet structure\r\n",
        "\r\n",
        "data_to_fit=ROOT.RooDataSet(\"Data Set\",\"data_to_fit\", CutTree, ROOT.RooArgSet(mass))\r\n",
        "\r\n",
        "#Then we can do the fitting:\r\n",
        "\r\n",
        "model.fitTo(data_to_fit)\r\n",
        "\r\n",
        "#if everything went well, you will see the outputs of RooFit below"
      ],
      "execution_count": 258,
      "outputs": [
        {
          "output_type": "execute_result",
          "data": {
            "text/plain": [
              "<ROOT.RooFitResult object at 0x(nil)>"
            ]
          },
          "metadata": {
            "tags": []
          },
          "execution_count": 258
        },
        {
          "output_type": "stream",
          "text": [
            "[#1] INFO:Eval -- RooAbsReal::attachToTree(M_m0) TTree Float_t branch M_m0 will be converted to double precision\n",
            "[#1] INFO:Eval -- RooTreeDataStore::loadValues(Data Set) Ignored 5685 out of range events\n",
            "[#1] INFO:Minization -- p.d.f. provides expected number of events, including extended term in likelihood.\n",
            "[#1] INFO:Minization -- RooMinimizer::optimizeConst: activating const optimization\n",
            "[#1] INFO:Minization --  The following expressions will be evaluated in cache-and-track mode: (Gauss,Bkgnd)\n",
            " **********\n",
            " **   19 **SET PRINT           1\n",
            " **********\n",
            " **********\n",
            " **   20 **SET NOGRAD\n",
            " **********\n",
            " PARAMETER DEFINITIONS:\n",
            "    NO.   NAME         VALUE      STEP SIZE      LIMITS\n",
            "     1 Gauss_Norm   1.14006e+05  5.70030e+04    0.00000e+00  1.02606e+07\n",
            " MINUIT WARNING IN PARAM DEF\n",
            " ============== LIMITS ON PARAM1 TOO FAR APART.\n",
            " PARAMETER DEFINITIONS:\n",
            "    NO.   NAME         VALUE      STEP SIZE      LIMITS\n",
            "     2 Mean         5.15000e+03  2.50000e+01    5.15000e+03  5.40000e+03\n",
            " MINUIT WARNING IN PARAM DEF\n",
            " ============== STARTING VALUE IS AT LIMIT.\n",
            " MINUIT WARNING IN PARAMETR\n",
            " ============== VARIABLE2 IS AT ITS LOWER ALLOWED LIMIT.\n",
            " MINUIT WARNING IN PARAMETR\n",
            " ============== VARIABLE2 BROUGHT BACK INSIDE LIMITS.\n",
            "     3 Width        4.00000e+01  2.00000e+01    0.00000e+00  7.00000e+03\n",
            "     4 exp_Norm     1.14006e+05  5.70030e+04    0.00000e+00  6.84039e+06\n",
            "     5 exponent    -2.00000e-02  4.00000e-01   -2.00000e+00  2.00000e+00\n",
            " **********\n",
            " **   21 **SET ERR         0.5\n",
            " **********\n",
            " **********\n",
            " **   22 **SET PRINT           1\n",
            " **********\n",
            " **********\n",
            " **   23 **SET STR           1\n",
            " **********\n",
            " NOW USING STRATEGY  1: TRY TO BALANCE SPEED AGAINST RELIABILITY\n",
            " **********\n",
            " **   24 **MIGRAD        2500           1\n",
            " **********\n",
            " FIRST CALL TO USER FUNCTION AT NEW START POINT, WITH IFLAG=4.\n",
            " MINUIT WARNING IN MIGrad    \n",
            " ============== VARIABLE2 IS AT ITS LOWER ALLOWED LIMIT.\n",
            " START MIGRAD MINIMIZATION.  STRATEGY  1.  CONVERGENCE WHEN EDM .LT. 1.00e-03\n",
            " FCN=141057 FROM MIGRAD    STATUS=INITIATE       91 CALLS          92 TOTAL\n",
            "                     EDM= unknown      STRATEGY= 1      NO ERROR MATRIX       \n",
            "  EXT PARAMETER               CURRENT GUESS       STEP         FIRST   \n",
            "  NO.   NAME      VALUE            ERROR          SIZE      DERIVATIVE \n",
            "   1  Gauss_Norm   1.14006e+05   5.70030e+04   0.00000e+00   1.00513e+06\n",
            "   2  Mean         5.28819e+03   2.50000e+01   0.00000e+00   8.53187e+03\n",
            "   3  Width        1.47331e+01   2.00000e+01  -5.95432e-02  -2.32228e+03\n",
            "   4  exp_Norm     1.14006e+05   5.70030e+04   0.00000e+00   8.43268e+05\n",
            "   5  exponent    -7.23684e-04   4.00000e-01   0.00000e+00  -1.40529e+04\n",
            "                               ERR DEF= 0.5\n",
            " MIGRAD MINIMIZATION HAS CONVERGED.\n",
            " FCN=-41800.9 FROM MIGRAD    STATUS=CONVERGED     166 CALLS         167 TOTAL\n",
            "                     EDM=6.79767e-05    STRATEGY= 1  ERROR MATRIX UNCERTAINTY   3.6 per cent\n",
            "  EXT PARAMETER                                   STEP         FIRST   \n",
            "  NO.   NAME      VALUE            ERROR          SIZE      DERIVATIVE \n",
            "   1  Gauss_Norm   9.44448e+03   1.07279e+02   1.21760e-05   4.81366e+00\n",
            "   2  Mean         5.28488e+03   2.21563e-01  -1.72474e-05   1.37716e+00\n",
            "   3  Width        1.80116e+01   1.85604e-01  -3.49098e-05   1.18505e+01\n",
            "   4  exp_Norm     2.24048e+03   6.40042e+01  -5.21073e-05  -1.03610e+01\n",
            "   5  exponent    -1.60017e-03   3.12443e-04  -4.62529e-06   3.27410e+01\n",
            "                               ERR DEF= 0.5\n",
            " EXTERNAL ERROR MATRIX.    NDIM=  25    NPAR=  5    ERR DEF=0.5\n",
            "  1.151e+04  6.147e-01  4.617e+00 -2.002e+03 -2.852e-03 \n",
            "  6.147e-01  4.909e-02  4.570e-04 -2.836e-01 -7.466e-06 \n",
            "  4.617e+00  4.570e-04  3.445e-02 -4.155e+00 -6.161e-06 \n",
            " -2.002e+03 -2.836e-01 -4.155e+00  4.097e+03  2.815e-03 \n",
            " -2.852e-03 -7.466e-06 -6.161e-06  2.815e-03  9.762e-08 \n",
            " PARAMETER  CORRELATION COEFFICIENTS  \n",
            "       NO.  GLOBAL      1      2      3      4      5\n",
            "        1  0.32527   1.000  0.026  0.232 -0.292 -0.085\n",
            "        2  0.10924   0.026  1.000  0.011 -0.020 -0.108\n",
            "        3  0.37868   0.232  0.011  1.000 -0.350 -0.106\n",
            "        4  0.42119  -0.292 -0.020 -0.350  1.000  0.141\n",
            "        5  0.18911  -0.085 -0.108 -0.106  0.141  1.000\n",
            " **********\n",
            " **   25 **SET ERR         0.5\n",
            " **********\n",
            " **********\n",
            " **   26 **SET PRINT           1\n",
            " **********\n",
            " **********\n",
            " **   27 **HESSE        2500\n",
            " **********\n",
            " COVARIANCE MATRIX CALCULATED SUCCESSFULLY\n",
            " FCN=-41800.9 FROM HESSE     STATUS=OK             31 CALLS         198 TOTAL\n",
            "                     EDM=0.000119579    STRATEGY= 1      ERROR MATRIX ACCURATE \n",
            "  EXT PARAMETER                                INTERNAL      INTERNAL  \n",
            "  NO.   NAME      VALUE            ERROR       STEP SIZE       VALUE   \n",
            "   1  Gauss_Norm   9.44448e+03   1.06856e+02   4.60133e-05  -1.51011e+00\n",
            "   2  Mean         5.28488e+03   2.11156e-01   2.37442e-04   7.91125e-02\n",
            "   3  Width        1.80116e+01   1.89692e-01   6.93834e-05  -1.46930e+00\n",
            "   4  exp_Norm     2.24048e+03   6.49160e+01   6.66769e-05  -1.53460e+00\n",
            "   5  exponent    -1.60017e-03   3.13215e-04   2.15864e-05  -8.00087e-04\n",
            "                               ERR DEF= 0.5\n",
            " EXTERNAL ERROR MATRIX.    NDIM=  25    NPAR=  5    ERR DEF=0.5\n",
            "  1.142e+04  2.909e-02  4.589e+00 -1.973e+03 -3.106e-03 \n",
            "  2.909e-02  4.459e-02  3.220e-05 -2.924e-02 -8.399e-06 \n",
            "  4.589e+00  3.220e-05  3.598e-02 -4.587e+00 -7.167e-06 \n",
            " -1.973e+03 -2.924e-02 -4.587e+00  4.214e+03  3.107e-03 \n",
            " -3.106e-03 -8.399e-06 -7.167e-06  3.107e-03  9.810e-08 \n",
            " PARAMETER  CORRELATION COEFFICIENTS  \n",
            "       NO.  GLOBAL      1      2      3      4      5\n",
            "        1  0.31537   1.000  0.001  0.226 -0.284 -0.093\n",
            "        2  0.12859   0.001  1.000  0.001 -0.002 -0.127\n",
            "        3  0.39745   0.226  0.001  1.000 -0.373 -0.121\n",
            "        4  0.43603  -0.284 -0.002 -0.373  1.000  0.153\n",
            "        5  0.21428  -0.093 -0.127 -0.121  0.153  1.000\n",
            "[#1] INFO:Minization -- RooMinimizer::optimizeConst: deactivating const optimization\n"
          ],
          "name": "stdout"
        }
      ]
    },
    {
      "cell_type": "code",
      "metadata": {
        "id": "bUhgxlRGd4XO",
        "colab": {
          "base_uri": "https://localhost:8080/",
          "height": 576
        },
        "outputId": "7c43cc1a-bded-4f9f-fecf-c1fd0f92966e"
      },
      "source": [
        "#Now to plot it all\r\n",
        "c1=ROOT.TCanvas(\"c1\",\"c1\")\r\n",
        "frame=mass.frame()\r\n",
        "data_to_fit.plotOn(frame)\r\n",
        "model.plotOn(frame)\r\n",
        "model.plotOn(frame, ROOT.RooFit.Components(\"Gauss\"),ROOT.RooFit.LineColor(8),ROOT.RooFit.LineStyle(2))\r\n",
        "model.plotOn(frame, ROOT.RooFit.Components(\"Bkgnd\"),ROOT.RooFit.LineColor(46),ROOT.RooFit.LineStyle(2))\r\n",
        "frame.Draw()\r\n",
        "c1.Update()\r\n",
        "c1.Draw()"
      ],
      "execution_count": 259,
      "outputs": [
        {
          "output_type": "stream",
          "text": [
            "[#1] INFO:Plotting -- RooAbsPdf::plotOn(Full Model) directly selected PDF components: (Gauss)\n",
            "[#1] INFO:Plotting -- RooAbsPdf::plotOn(Full Model) indirectly selected PDF components: ()\n",
            "[#1] INFO:Plotting -- RooAbsPdf::plotOn(Full Model) directly selected PDF components: (Bkgnd)\n",
            "[#1] INFO:Plotting -- RooAbsPdf::plotOn(Full Model) indirectly selected PDF components: ()\n"
          ],
          "name": "stdout"
        },
        {
          "output_type": "stream",
          "text": [
            "Warning in <TCanvas::Constructor>: Deleting canvas with same name: c1\n"
          ],
          "name": "stderr"
        },
        {
          "output_type": "display_data",
          "data": {
            "image/png": "[encoded data removed]",
            "text/plain": [
              "<IPython.core.display.Image object>"
            ]
          },
          "metadata": {
            "tags": []
          }
        }
      ]
    },
    {
      "cell_type": "markdown",
      "metadata": {
        "id": "60b4bs1od4M_"
      },
      "source": [
        "Using this structure, you can in theory build whatever models you like!\r\n",
        "\r\n",
        "Some recommendations (but not necessary to do all):-\r\n",
        "\r\n",
        "\r\n",
        "\r\n",
        "*   Gauss+Exponential (as above)\r\n",
        "*   Crystal Ball + Exponential\r\n",
        "*   Gauss+Crystal Ball+Exponential (now you need to weigh the two signal peaks and then the total signal against total background)\r\n",
        "*   Gauss+Chebychev\r\n",
        "*   Two Crystal Balls + Exponential"
      ]
    },
    {
      "cell_type": "markdown",
      "metadata": {
        "id": "vHivSaH1dwy7"
      },
      "source": [
        "So how good was the fit, and how many events do you have?\r\n",
        "\r\n",
        "We can use the .getValV() function on our signal and background *normalisation* components, e.g. Gauss_Norm=Gauss.getValV()\r\n",
        "\r\n",
        "To find the error (on this number) we can use .getError()\r\n",
        "\r\n",
        "Neither of these measures would tell us if this was a good fit or not. Normally we use a χ2 test to do so - this is built into the image we made (so we can do frame.chiSquare() to get this data)\r\n",
        "\r\n",
        "For each model you made, print the signal and background yields (with errors) and report the χ2"
      ]
    },
    {
      "cell_type": "code",
      "metadata": {
        "id": "T1ndz1Olcvt8",
        "outputId": "13b3b334-36ea-4110-8249-c5bfed912b54",
        "colab": {
          "base_uri": "https://localhost:8080/"
        }
      },
      "source": [
        "signal_yield = Gauss_Norm.getValV()\n",
        "signal_error = Gauss_Norm.getError()\n",
        "chi2ndf = frame.chiSquare()\n",
        "\n",
        "print(signal_yield, signal_error, chi2ndf)"
      ],
      "execution_count": 262,
      "outputs": [
        {
          "output_type": "stream",
          "text": [
            "(9444.482398919678, 106.85630203447727, 91.93706997259935)\n"
          ],
          "name": "stdout"
        }
      ]
    },
    {
      "cell_type": "markdown",
      "metadata": {
        "id": "MpdjaXC3d5Su"
      },
      "source": [
        "### Fit with Gaussian and Crystal Ball (GaussCB) fit shape"
      ]
    },
    {
      "cell_type": "code",
      "metadata": {
        "id": "ml8pHBgEdqdr"
      },
      "source": [
        ""
      ],
      "execution_count": null,
      "outputs": []
    },
    {
      "cell_type": "markdown",
      "metadata": {
        "id": "ob2HARgWoTGe"
      },
      "source": [
        "#Counting\r\n",
        "\r\n",
        "So we have now loaded our data; we have reconstructed information about the mother B meson and we have cut away any data which looks like it might not be what we are looking for. We have then plotted histograms of the mass of the B meson and used this to fit a model, a function to describe the events there. We now have to identify which of our events belong to the B<sup>+</sup> and how many of them belong to B<sup>-</sup>.\r\n",
        "\r\n",
        "To do this, should split out data into two groups (and throw away data which doesn't comply with either decay)\r\n",
        "\r\n",
        "We will be looking for the events which are\r\n",
        "\r\n",
        "\r\n",
        "B<sup>+</sup>->K<sup>+</sup> + K<sup>+</sup>  + K<sup>-</sup>\r\n",
        "\r\n",
        "or\r\n",
        "\r\n",
        "B<sup>-</sup>->K<sup>-</sup> + K<sup>-</sup>  + K<sup>+</sup>\r\n",
        "\r\n",
        "We can look for the number of positive and negative charges in H1, H2 and H3 (using the variable ```H1_Charge``` etc.). If we have 0 or 3 positive charges, we should throw the event away and if we have 1 it should be assigned be a B<sup>-</sup>, with 2 it should be a B<sup>+</sup>"
      ]
    },
    {
      "cell_type": "markdown",
      "metadata": {
        "id": "r8VB5uN1obc4"
      },
      "source": [
        "Once we have defined if it's a B<sup>+</sup> or a B <sup>-</sup>, we should go ahead and ensure the pre-selection is applied and then plot our B mass, and fit the model to find the yield.\r\n",
        "\r\n",
        "We can then calculate the assymetry from this equation:\r\n",
        "\r\n",
        "$A=\\frac{(N^{B-}-N^{B+})}{(N^{B-}+N^{B+})}$\r\n",
        "\r\n",
        "Where N<sup>B+/- </sup> is the number of events found from the fitted yield of the signal from each data set.\r\n",
        "\r\n",
        "The uncertainty on this result is given by:\r\n",
        "\r\n",
        "$\\sigma_A=\\sqrt\\frac{1-A^2}{N^{B-}+N^{B+}}$\r\n",
        "\r\n",
        "Calculate these two values for your data and print them below:"
      ]
    },
    {
      "cell_type": "code",
      "metadata": {
        "id": "UiPNe2iuobSK"
      },
      "source": [
        "#Here do your calculation of the final result"
      ],
      "execution_count": null,
      "outputs": []
    },
    {
      "cell_type": "markdown",
      "metadata": {
        "id": "r5B--_33okz1"
      },
      "source": [
        "#Congratulations!\r\n",
        "\r\n",
        "You just made your first LHCb physics analysis. Does this seem like a reasonable result? Did we explain why we have an excess of mass in the Universe?"
      ]
    },
    {
      "cell_type": "markdown",
      "metadata": {
        "id": "dzybWZylomGu"
      },
      "source": [
        "## **Bonus content only below here:**"
      ]
    },
    {
      "cell_type": "markdown",
      "metadata": {
        "id": "odpbRqdoou5M"
      },
      "source": [
        "To make a further anaysis, we can look into the intermediate processes.\r\n",
        "\r\n",
        "We have so far considered only that the B meson ultimately decays into three kaons. It may be that on the way, the B meson first decays into a Kaon and another particle, and then from that particle to two Kaons.\r\n",
        "\r\n",
        "We would expect this to be one of three possible modes (for B<sup>+</sup>):\r\n",
        "\r\n",
        "$R^{++} \\rightarrow K_1^+ +K_2^+$\r\n",
        "\r\n",
        "(we don't expect this to happen because of the like charges in the Kaons)\r\n",
        "\r\n",
        "$R^0 \\rightarrow K_1^+ +K_3^-$\r\n",
        "\r\n",
        "$R^0 \\rightarrow K_2^+ +K_3^-$\r\n",
        "\r\n",
        "(Expect symmetric arrangements for B<sup>-</sup>)\r\n",
        "\r\n",
        "To analyse the intermediate states we can measure the invarient masses of the intermediate states and then plot them on what is called a Dalitz plot (this is a 2D plot with two different two body decays (from the three body decay) on each axis)\r\n",
        "\r\n",
        "![Dalitz Plot](https://slideplayer.com/slide/15960097/88/images/15/Dalitz+plot%3A+%CE%9B+c+%2B+%E2%86%92%F0%9D%91%9D+%F0%9D%90%BE+%E2%88%92+%F0%9D%9C%8B+%2B.jpg)\r\n"
      ]
    },
    {
      "cell_type": "code",
      "metadata": {
        "id": "SqJxvZSKo1cW"
      },
      "source": [
        "#Define a function to find the invarient mass of two given Kaons"
      ],
      "execution_count": null,
      "outputs": []
    },
    {
      "cell_type": "code",
      "metadata": {
        "id": "YPVqECfPo3Wc"
      },
      "source": [
        "#Then, ensuring you're still taking the data after the selection, make a Dalitz plot. This is a 2-D scatter plot (use e.g. TH2F to make the plot where we used TH1F before)\r\n",
        "#Choose an appropriate binning in your scatter "
      ],
      "execution_count": null,
      "outputs": []
    },
    {
      "cell_type": "markdown",
      "metadata": {
        "id": "qPoPLt4Uo6QB"
      },
      "source": [
        "We can further improve our plot, since two sets of particles on each axis are exactly the same (one positive Kaon, one negative Kaon). So we can plot the maximum of the two values on one axis and the minimum on the other. We can use a quick numpy check and then plot those values."
      ]
    },
    {
      "cell_type": "code",
      "metadata": {
        "id": "KJ_fe2R3o8Aq"
      },
      "source": [
        "#Make the revised Dalitz plot here for B+ mesons"
      ],
      "execution_count": null,
      "outputs": []
    },
    {
      "cell_type": "code",
      "metadata": {
        "id": "t46slV8Yo-Ed"
      },
      "source": [
        "#Make the revised Dalitz plot here for B- mesons"
      ],
      "execution_count": null,
      "outputs": []
    },
    {
      "cell_type": "code",
      "metadata": {
        "id": "RfTDh69qo9_q"
      },
      "source": [
        "#Where we have a higher density of points (or a bigger value in the bin) this is indication of an intermediate resonance\r\n",
        "#Check out the possible resonances you have found in the PDG (http://pdg.lbl.gov/2020/tables/contents_tables.html)"
      ],
      "execution_count": null,
      "outputs": []
    }
  ]
}
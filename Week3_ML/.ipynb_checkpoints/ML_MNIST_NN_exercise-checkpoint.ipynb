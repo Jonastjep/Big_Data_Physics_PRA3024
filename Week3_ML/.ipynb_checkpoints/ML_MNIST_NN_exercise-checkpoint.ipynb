{
 "cells": [
  {
   "cell_type": "code",
   "execution_count": 1,
   "metadata": {
    "id": "XpGNAvNbSzkK"
   },
   "outputs": [],
   "source": [
    "import keras\n",
    "import tensorflow as tf\n",
    "from keras.datasets import mnist\n",
    "import matplotlib.pyplot as plt\n",
    "import numpy as np"
   ]
  },
  {
   "cell_type": "code",
   "execution_count": 2,
   "metadata": {
    "colab": {
     "base_uri": "https://localhost:8080/"
    },
    "id": "8IRtFU1ZWO0a",
    "outputId": "9a85c8e5-f134-4d85-ae69-d70d44d734c0"
   },
   "outputs": [],
   "source": [
    "# load training and test images (x), and their respective classified labels (y).\n",
    "(x_train, y_train), (x_test, y_test) = mnist.load_data()"
   ]
  },
  {
   "cell_type": "code",
   "execution_count": 3,
   "metadata": {
    "colab": {
     "base_uri": "https://localhost:8080/",
     "height": 225
    },
    "id": "5G5KLASFWlnX",
    "outputId": "93a06bac-0406-4e59-ccb8-70e1e9c1fde6"
   },
   "outputs": [
    {
     "name": "stdout",
     "output_type": "stream",
     "text": [
      "Training data shape:  (60000, 28, 28)\n",
      "Test data shape (10000, 28, 28)\n",
      "First 10 training labels as digits:\n",
      " [5 0 4 1 9 2 1 3 1 4]\n",
      "\n"
     ]
    },
    {
     "data": {
      "image/png": "[encoded data removed]",
      "text/plain": [
       "<Figure size 432x720 with 10 Axes>"
      ]
     },
     "metadata": {
      "needs_background": "light"
     },
     "output_type": "display_data"
    }
   ],
   "source": [
    "# Investigate the data\n",
    "\n",
    "print(\"Training data shape: \", x_train.shape) # (60000, 28, 28) -- 60000 images, each 28x28 pixels\n",
    "print(\"Test data shape\", x_test.shape) # (10000, 28, 28) -- 10000 images, each 28x28\n",
    "print(\"First 10 training labels as digits:\\n\", y_train[:10])\n",
    "print(\"\")\n",
    "\n",
    "# Plot the first 10 images\n",
    "### STUDENT CODE HERE ###\n",
    "fig1, ax1 = plt.subplots(5,2, figsize=(6, 10),constrained_layout=True)\n",
    "\n",
    "img_nb = 0\n",
    "for i in range(2):\n",
    "    for j in range(5):\n",
    "        ax1[j][i].imshow(x_train[img_nb])\n",
    "        img_nb += 1\n",
    "\n",
    "### END STUDENT CODE ###"
   ]
  },
  {
   "cell_type": "code",
   "execution_count": 4,
   "metadata": {
    "colab": {
     "base_uri": "https://localhost:8080/"
    },
    "id": "nk6I1PweS7Br",
    "outputId": "dabd86d4-33e1-4534-dcc5-2a466db1d7a9"
   },
   "outputs": [
    {
     "name": "stdout",
     "output_type": "stream",
     "text": [
      "reshaped training data format:  (60000, 784)\n",
      "First 10 training lables as one-hot encoded vectors:\n",
      " [[0. 0. 0. 0. 0. 1. 0. 0. 0. 0.]\n",
      " [1. 0. 0. 0. 0. 0. 0. 0. 0. 0.]\n",
      " [0. 0. 0. 0. 1. 0. 0. 0. 0. 0.]\n",
      " [0. 1. 0. 0. 0. 0. 0. 0. 0. 0.]\n",
      " [0. 0. 0. 0. 0. 0. 0. 0. 0. 1.]\n",
      " [0. 0. 1. 0. 0. 0. 0. 0. 0. 0.]\n",
      " [0. 1. 0. 0. 0. 0. 0. 0. 0. 0.]\n",
      " [0. 0. 0. 1. 0. 0. 0. 0. 0. 0.]\n",
      " [0. 1. 0. 0. 0. 0. 0. 0. 0. 0.]\n",
      " [0. 0. 0. 0. 1. 0. 0. 0. 0. 0.]]\n"
     ]
    }
   ],
   "source": [
    "# Pre-processing of data\n",
    "\n",
    "# Flatten the images\n",
    "image_vector_size = 28*28\n",
    "x_train = x_train.reshape(x_train.shape[0], image_vector_size)\n",
    "x_test = x_test.reshape(x_test.shape[0], image_vector_size)\n",
    "print(\"reshaped training data format: \", x_train.shape) # -- 60000 images, now flat arrays of 28*28 long\n",
    "\n",
    "# one-hot encode the labels\n",
    "num_classes = 10\n",
    "y_train = keras.utils.to_categorical(y_train, num_classes)\n",
    "y_test = keras.utils.to_categorical(y_test, num_classes)\n",
    "print(\"First 10 training lables as one-hot encoded vectors:\\n\", y_train[:10])"
   ]
  },
  {
   "cell_type": "code",
   "execution_count": 5,
   "metadata": {
    "colab": {
     "base_uri": "https://localhost:8080/"
    },
    "id": "f8HyorlxTUgO",
    "outputId": "95685d08-0f94-49ac-a3a8-b16f0cf202fd"
   },
   "outputs": [
    {
     "name": "stdout",
     "output_type": "stream",
     "text": [
      "Model: \"sequential\"\n",
      "_________________________________________________________________\n",
      "Layer (type)                 Output Shape              Param #   \n",
      "=================================================================\n",
      "dense (Dense)                (None, 32)                25120     \n",
      "_________________________________________________________________\n",
      "dense_1 (Dense)              (None, 32)                1056      \n",
      "_________________________________________________________________\n",
      "dense_2 (Dense)              (None, 10)                330       \n",
      "=================================================================\n",
      "Total params: 26,506\n",
      "Trainable params: 26,506\n",
      "Non-trainable params: 0\n",
      "_________________________________________________________________\n"
     ]
    }
   ],
   "source": [
    "# Build the network\n",
    "from keras.layers import Dense # Dense layers are \"fully connected\" layers\n",
    "from keras.models import Sequential # Documentation: https://keras.io/models/sequential/\n",
    "\n",
    "model = Sequential()\n",
    "\n",
    "# The input layer requires the special input_shape parameter, which should equal the shape of our training data.\n",
    "# The output layer must be the same size as the (one-hot encoded) labels.\n",
    "# Choose a non-linear activation function such as a sigmoid, or relu.\n",
    "# For classification purposes, where the outputs are normalized 'probabilities' between the classes,\n",
    "#  one typically uses the softmax activation function for the last layer.\n",
    "\n",
    "### STUDENT CODE HERE ###\n",
    "### --> add Dense (fully connected) layers to the model to connect input to output, using model.add().\n",
    "###  Make sure that the dimensionality is correct: input should be # pixels large, \n",
    "###  output should be #classes large. Google is your friend.\n",
    "\n",
    "model.add(keras.layers.Dense(32, activation=\"sigmoid\", input_shape=(28*28,)))\n",
    "model.add(keras.layers.Dense(32, activation=\"sigmoid\"))\n",
    "model.add(keras.layers.Dense(10, activation=\"softmax\"))\n",
    "\n",
    "\n",
    "### END STUDENT CODE ###\n",
    "\n",
    "# Print model summary. Shows network layout, and # free parameters (weights + biases) to adapt while learning.\n",
    "model.summary()"
   ]
  },
  {
   "cell_type": "code",
   "execution_count": 6,
   "metadata": {
    "id": "xLA4UyhnTjUK"
   },
   "outputs": [],
   "source": [
    "# Compile the model\n",
    "\n",
    "# A good loss function for probability classification that works well with softmax is the 'categorical crossentropy'.\n",
    "#  It's a function of the difference between the predicted y (from running the image through the network),\n",
    "#  and the actual label y that we get from the dataset. The larger the loss, the worst our network is performing.\n",
    "# A good optimizer is the stochastic gradient descent (sgd) or adam.\n",
    "\n",
    "### STUDENT CODE HERE ###\n",
    "model.compile(optimizer='sgd', loss='categorical_crossentropy', metrics=['accuracy'])\n",
    "### END STUDENT CODE ###"
   ]
  },
  {
   "cell_type": "code",
   "execution_count": 7,
   "metadata": {
    "colab": {
     "base_uri": "https://localhost:8080/",
     "height": 243
    },
    "id": "Hpxjqt02r4bJ",
    "outputId": "020f6c19-31a2-4f35-997e-53602b4cd882"
   },
   "outputs": [
    {
     "name": "stdout",
     "output_type": "stream",
     "text": [
      "Test loss: 2.6\n",
      "Test accuracy: 0.0982\n",
      "predicted: [4] ; real: [7]\n",
      "predicted: [4] ; real: [2]\n",
      "predicted: [4] ; real: [1]\n",
      "predicted: [4] ; real: [0]\n",
      "predicted: [4] ; real: [4]\n",
      "predicted: [4] ; real: [1]\n",
      "predicted: [4] ; real: [4]\n",
      "predicted: [4] ; real: [9]\n",
      "predicted: [4] ; real: [5]\n",
      "predicted: [4] ; real: [9]\n"
     ]
    },
    {
     "data": {
      "image/png": "[encoded data removed]",
      "text/plain": [
       "<Figure size 432x720 with 10 Axes>"
      ]
     },
     "metadata": {
      "needs_background": "light"
     },
     "output_type": "display_data"
    }
   ],
   "source": [
    "# Let's see how good the model 'predicts' some hand-written digits in our test dataset, without training.\n",
    "# It's probably random: so for 10 digits, it should get an accuracy around 0.1 .\n",
    "\n",
    "loss, accuracy  = model.evaluate(x_test, y_test, verbose=False)\n",
    "print(f'Test loss: {loss:.3}')\n",
    "print(f'Test accuracy: {accuracy:.3}')\n",
    "\n",
    "y_pred_test = model.predict(x_test)\n",
    "\n",
    "### STUDENT CODE HERE ###\n",
    "### --> call model.predict_proba() on the test images, and show the predictions of the\n",
    "###  untrained model for the first 10 images. Also, plot those images, as you did above.\n",
    "for pred, real in zip(y_pred_test[:10], y_test[:10]):\n",
    "    print(\"predicted: \" + str(np.where(pred == max(pred))[0]) + \" ; real: \" + str(np.where(real == max(real))[0]))\n",
    "    \n",
    "fig1, ax1 = plt.subplots(5,2, figsize=(6, 10),constrained_layout=True)\n",
    "\n",
    "img_nb = 0\n",
    "for i in range(2):\n",
    "    for j in range(5):\n",
    "        ax1[j][i].imshow(x_test[img_nb].reshape(28,28))\n",
    "        img_nb += 1\n",
    "### END STUDENT CODE ###"
   ]
  },
  {
   "cell_type": "code",
   "execution_count": 8,
   "metadata": {
    "colab": {
     "base_uri": "https://localhost:8080/"
    },
    "id": "gCkCK2BZZRG5",
    "outputId": "9dc243aa-0e54-48a2-b5dd-2affb00d631e"
   },
   "outputs": [
    {
     "name": "stdout",
     "output_type": "stream",
     "text": [
      "Epoch 1/75\n",
      "422/422 [==============================] - 2s 6ms/step - loss: 2.1842 - accuracy: 0.3823 - val_loss: 2.0061 - val_accuracy: 0.6037\n",
      "Epoch 2/75\n",
      "422/422 [==============================] - 2s 6ms/step - loss: 1.9013 - accuracy: 0.6425 - val_loss: 1.7748 - val_accuracy: 0.7185\n",
      "Epoch 3/75\n",
      "422/422 [==============================] - 3s 6ms/step - loss: 1.6734 - accuracy: 0.7191 - val_loss: 1.5374 - val_accuracy: 0.7810\n",
      "Epoch 4/75\n",
      "422/422 [==============================] - 2s 4ms/step - loss: 1.4513 - accuracy: 0.7633 - val_loss: 1.3195 - val_accuracy: 0.8163\n",
      "Epoch 5/75\n",
      "422/422 [==============================] - 2s 6ms/step - loss: 1.2542 - accuracy: 0.7912 - val_loss: 1.1333 - val_accuracy: 0.8418\n",
      "Epoch 6/75\n",
      "422/422 [==============================] - 2s 5ms/step - loss: 1.0923 - accuracy: 0.8156 - val_loss: 0.9786 - val_accuracy: 0.8613\n",
      "Epoch 7/75\n",
      "422/422 [==============================] - 2s 5ms/step - loss: 0.9614 - accuracy: 0.8340 - val_loss: 0.8609 - val_accuracy: 0.8692\n",
      "Epoch 8/75\n",
      "422/422 [==============================] - 2s 5ms/step - loss: 0.8584 - accuracy: 0.8476 - val_loss: 0.7626 - val_accuracy: 0.8862\n",
      "Epoch 9/75\n",
      "422/422 [==============================] - 4s 8ms/step - loss: 0.7756 - accuracy: 0.8576 - val_loss: 0.6884 - val_accuracy: 0.8847\n",
      "Epoch 10/75\n",
      "422/422 [==============================] - 3s 6ms/step - loss: 0.7096 - accuracy: 0.8659 - val_loss: 0.6278 - val_accuracy: 0.8938\n",
      "Epoch 11/75\n",
      "422/422 [==============================] - 2s 6ms/step - loss: 0.6539 - accuracy: 0.8717 - val_loss: 0.5732 - val_accuracy: 0.9013\n",
      "Epoch 12/75\n",
      "422/422 [==============================] - 3s 8ms/step - loss: 0.6096 - accuracy: 0.8765 - val_loss: 0.5375 - val_accuracy: 0.8977\n",
      "Epoch 13/75\n",
      "422/422 [==============================] - 3s 8ms/step - loss: 0.5716 - accuracy: 0.8804 - val_loss: 0.5033 - val_accuracy: 0.9035\n",
      "Epoch 14/75\n",
      "422/422 [==============================] - 3s 8ms/step - loss: 0.5407 - accuracy: 0.8841 - val_loss: 0.4713 - val_accuracy: 0.9085\n",
      "Epoch 15/75\n",
      "422/422 [==============================] - 4s 10ms/step - loss: 0.5145 - accuracy: 0.8871 - val_loss: 0.4447 - val_accuracy: 0.9122\n",
      "Epoch 16/75\n",
      "422/422 [==============================] - 4s 10ms/step - loss: 0.4884 - accuracy: 0.8911 - val_loss: 0.4256 - val_accuracy: 0.9103\n",
      "Epoch 17/75\n",
      "422/422 [==============================] - 3s 8ms/step - loss: 0.4690 - accuracy: 0.8934 - val_loss: 0.4049 - val_accuracy: 0.9138\n",
      "Epoch 18/75\n",
      "422/422 [==============================] - 3s 8ms/step - loss: 0.4523 - accuracy: 0.8937 - val_loss: 0.3932 - val_accuracy: 0.9168\n",
      "Epoch 19/75\n",
      "422/422 [==============================] - 3s 8ms/step - loss: 0.4388 - accuracy: 0.8960 - val_loss: 0.3806 - val_accuracy: 0.9128\n",
      "Epoch 20/75\n",
      "422/422 [==============================] - 3s 8ms/step - loss: 0.4224 - accuracy: 0.8983 - val_loss: 0.3671 - val_accuracy: 0.9185\n",
      "Epoch 21/75\n",
      "422/422 [==============================] - 4s 9ms/step - loss: 0.4100 - accuracy: 0.8999 - val_loss: 0.3559 - val_accuracy: 0.9163\n",
      "Epoch 22/75\n",
      "422/422 [==============================] - 3s 7ms/step - loss: 0.3988 - accuracy: 0.9034 - val_loss: 0.3467 - val_accuracy: 0.9172\n",
      "Epoch 23/75\n",
      "422/422 [==============================] - 5s 12ms/step - loss: 0.3914 - accuracy: 0.9035 - val_loss: 0.3424 - val_accuracy: 0.9175\n",
      "Epoch 24/75\n",
      "422/422 [==============================] - 3s 8ms/step - loss: 0.3835 - accuracy: 0.9054 - val_loss: 0.3307 - val_accuracy: 0.9237\n",
      "Epoch 25/75\n",
      "422/422 [==============================] - 4s 10ms/step - loss: 0.3738 - accuracy: 0.9060 - val_loss: 0.3219 - val_accuracy: 0.9218\n",
      "Epoch 26/75\n",
      "422/422 [==============================] - 4s 9ms/step - loss: 0.3642 - accuracy: 0.9074 - val_loss: 0.3184 - val_accuracy: 0.9230\n",
      "Epoch 27/75\n",
      "422/422 [==============================] - 3s 8ms/step - loss: 0.3577 - accuracy: 0.9096 - val_loss: 0.3118 - val_accuracy: 0.9253\n",
      "Epoch 28/75\n",
      "422/422 [==============================] - 3s 7ms/step - loss: 0.3521 - accuracy: 0.9097 - val_loss: 0.3072 - val_accuracy: 0.9232\n",
      "Epoch 29/75\n",
      "422/422 [==============================] - 4s 9ms/step - loss: 0.3494 - accuracy: 0.9097 - val_loss: 0.3050 - val_accuracy: 0.9235\n",
      "Epoch 30/75\n",
      "422/422 [==============================] - 5s 12ms/step - loss: 0.3433 - accuracy: 0.9100 - val_loss: 0.2954 - val_accuracy: 0.9260\n",
      "Epoch 31/75\n",
      "422/422 [==============================] - 4s 9ms/step - loss: 0.3369 - accuracy: 0.9113 - val_loss: 0.2950 - val_accuracy: 0.9250\n",
      "Epoch 32/75\n",
      "422/422 [==============================] - 3s 7ms/step - loss: 0.3307 - accuracy: 0.9142 - val_loss: 0.2847 - val_accuracy: 0.9302\n",
      "Epoch 33/75\n",
      "422/422 [==============================] - 5s 11ms/step - loss: 0.3286 - accuracy: 0.9128 - val_loss: 0.2937 - val_accuracy: 0.9287\n",
      "Epoch 34/75\n",
      "422/422 [==============================] - 5s 11ms/step - loss: 0.3223 - accuracy: 0.9149 - val_loss: 0.2878 - val_accuracy: 0.9263\n",
      "Epoch 35/75\n",
      "422/422 [==============================] - 4s 9ms/step - loss: 0.3199 - accuracy: 0.9151 - val_loss: 0.2777 - val_accuracy: 0.9275\n",
      "Epoch 36/75\n",
      "422/422 [==============================] - 4s 9ms/step - loss: 0.3160 - accuracy: 0.9155 - val_loss: 0.2833 - val_accuracy: 0.9278\n",
      "Epoch 37/75\n",
      "422/422 [==============================] - 4s 10ms/step - loss: 0.3101 - accuracy: 0.9174 - val_loss: 0.2734 - val_accuracy: 0.9308\n",
      "Epoch 38/75\n",
      "422/422 [==============================] - 5s 11ms/step - loss: 0.3050 - accuracy: 0.9189 - val_loss: 0.2671 - val_accuracy: 0.9325\n",
      "Epoch 39/75\n",
      "422/422 [==============================] - 4s 9ms/step - loss: 0.3042 - accuracy: 0.9177 - val_loss: 0.2704 - val_accuracy: 0.9278\n",
      "Epoch 40/75\n",
      "422/422 [==============================] - 4s 10ms/step - loss: 0.2979 - accuracy: 0.9209 - val_loss: 0.2605 - val_accuracy: 0.9325\n",
      "Epoch 41/75\n",
      "422/422 [==============================] - 4s 9ms/step - loss: 0.2977 - accuracy: 0.9198 - val_loss: 0.2614 - val_accuracy: 0.9308\n",
      "Epoch 42/75\n",
      "422/422 [==============================] - 4s 9ms/step - loss: 0.2937 - accuracy: 0.9214 - val_loss: 0.2561 - val_accuracy: 0.9312\n",
      "Epoch 43/75\n",
      "422/422 [==============================] - 2s 6ms/step - loss: 0.2899 - accuracy: 0.9221 - val_loss: 0.2570 - val_accuracy: 0.9325\n",
      "Epoch 44/75\n",
      "422/422 [==============================] - 6s 15ms/step - loss: 0.2840 - accuracy: 0.9223 - val_loss: 0.2501 - val_accuracy: 0.9330\n",
      "Epoch 45/75\n",
      "422/422 [==============================] - 5s 12ms/step - loss: 0.2858 - accuracy: 0.9220 - val_loss: 0.2538 - val_accuracy: 0.9318\n",
      "Epoch 46/75\n",
      "422/422 [==============================] - 6s 14ms/step - loss: 0.2809 - accuracy: 0.9236 - val_loss: 0.2463 - val_accuracy: 0.9335\n",
      "Epoch 47/75\n",
      "422/422 [==============================] - 4s 9ms/step - loss: 0.2814 - accuracy: 0.9223 - val_loss: 0.2383 - val_accuracy: 0.9398\n",
      "Epoch 48/75\n",
      "422/422 [==============================] - 6s 15ms/step - loss: 0.2750 - accuracy: 0.9242 - val_loss: 0.2497 - val_accuracy: 0.9315\n",
      "Epoch 49/75\n",
      "422/422 [==============================] - 4s 8ms/step - loss: 0.2727 - accuracy: 0.9247 - val_loss: 0.2473 - val_accuracy: 0.9320\n",
      "Epoch 50/75\n",
      "422/422 [==============================] - 3s 8ms/step - loss: 0.2727 - accuracy: 0.9253 - val_loss: 0.2420 - val_accuracy: 0.9335\n",
      "Epoch 51/75\n",
      "422/422 [==============================] - 3s 8ms/step - loss: 0.2722 - accuracy: 0.9254 - val_loss: 0.2418 - val_accuracy: 0.9385\n",
      "Epoch 52/75\n",
      "422/422 [==============================] - 3s 8ms/step - loss: 0.2702 - accuracy: 0.9254 - val_loss: 0.2406 - val_accuracy: 0.9378\n",
      "Epoch 53/75\n",
      "422/422 [==============================] - 4s 9ms/step - loss: 0.2620 - accuracy: 0.9274 - val_loss: 0.2274 - val_accuracy: 0.9393\n",
      "Epoch 54/75\n",
      "422/422 [==============================] - 4s 9ms/step - loss: 0.2651 - accuracy: 0.9261 - val_loss: 0.2431 - val_accuracy: 0.9358\n",
      "Epoch 55/75\n",
      "422/422 [==============================] - 3s 7ms/step - loss: 0.2581 - accuracy: 0.9289 - val_loss: 0.2378 - val_accuracy: 0.9342\n",
      "Epoch 56/75\n",
      "422/422 [==============================] - 3s 8ms/step - loss: 0.2617 - accuracy: 0.9267 - val_loss: 0.2342 - val_accuracy: 0.9368\n",
      "Epoch 57/75\n",
      "422/422 [==============================] - 3s 6ms/step - loss: 0.2583 - accuracy: 0.9291 - val_loss: 0.2484 - val_accuracy: 0.9308\n",
      "Epoch 58/75\n"
     ]
    },
    {
     "name": "stdout",
     "output_type": "stream",
     "text": [
      "422/422 [==============================] - 3s 7ms/step - loss: 0.2596 - accuracy: 0.9276 - val_loss: 0.2252 - val_accuracy: 0.9403\n",
      "Epoch 59/75\n",
      "422/422 [==============================] - 3s 8ms/step - loss: 0.2544 - accuracy: 0.9291 - val_loss: 0.2315 - val_accuracy: 0.9360\n",
      "Epoch 60/75\n",
      "422/422 [==============================] - 3s 8ms/step - loss: 0.2515 - accuracy: 0.9307 - val_loss: 0.2279 - val_accuracy: 0.9388\n",
      "Epoch 61/75\n",
      "422/422 [==============================] - 3s 7ms/step - loss: 0.2521 - accuracy: 0.9303 - val_loss: 0.2267 - val_accuracy: 0.9397\n",
      "Epoch 62/75\n",
      "422/422 [==============================] - 3s 8ms/step - loss: 0.2469 - accuracy: 0.9318 - val_loss: 0.2269 - val_accuracy: 0.9367\n",
      "Epoch 63/75\n",
      "422/422 [==============================] - 3s 8ms/step - loss: 0.2484 - accuracy: 0.9311 - val_loss: 0.2220 - val_accuracy: 0.9393\n",
      "Epoch 64/75\n",
      "422/422 [==============================] - 4s 9ms/step - loss: 0.2455 - accuracy: 0.9314 - val_loss: 0.2276 - val_accuracy: 0.9367\n",
      "Epoch 65/75\n",
      "422/422 [==============================] - 3s 8ms/step - loss: 0.2449 - accuracy: 0.9320 - val_loss: 0.2157 - val_accuracy: 0.9422\n",
      "Epoch 66/75\n",
      "422/422 [==============================] - 4s 10ms/step - loss: 0.2418 - accuracy: 0.9321 - val_loss: 0.2196 - val_accuracy: 0.9383\n",
      "Epoch 67/75\n",
      "422/422 [==============================] - 4s 9ms/step - loss: 0.2413 - accuracy: 0.9329 - val_loss: 0.2194 - val_accuracy: 0.9377\n",
      "Epoch 68/75\n",
      "422/422 [==============================] - 3s 8ms/step - loss: 0.2400 - accuracy: 0.9341 - val_loss: 0.2280 - val_accuracy: 0.9360\n",
      "Epoch 69/75\n",
      "422/422 [==============================] - 3s 8ms/step - loss: 0.2411 - accuracy: 0.9320 - val_loss: 0.2135 - val_accuracy: 0.9410\n",
      "Epoch 70/75\n",
      "422/422 [==============================] - 4s 9ms/step - loss: 0.2326 - accuracy: 0.9346 - val_loss: 0.2100 - val_accuracy: 0.9440\n",
      "Epoch 71/75\n",
      "422/422 [==============================] - 3s 8ms/step - loss: 0.2333 - accuracy: 0.9346 - val_loss: 0.2158 - val_accuracy: 0.9400\n",
      "Epoch 72/75\n",
      "422/422 [==============================] - 4s 9ms/step - loss: 0.2352 - accuracy: 0.9340 - val_loss: 0.2207 - val_accuracy: 0.9375\n",
      "Epoch 73/75\n",
      "422/422 [==============================] - 4s 9ms/step - loss: 0.2323 - accuracy: 0.9343 - val_loss: 0.2209 - val_accuracy: 0.9378\n",
      "Epoch 74/75\n",
      "422/422 [==============================] - 3s 7ms/step - loss: 0.2324 - accuracy: 0.9339 - val_loss: 0.2098 - val_accuracy: 0.9402\n",
      "Epoch 75/75\n",
      "422/422 [==============================] - 3s 6ms/step - loss: 0.2314 - accuracy: 0.9345 - val_loss: 0.2149 - val_accuracy: 0.9390\n"
     ]
    }
   ],
   "source": [
    "# Train the model.\n",
    "\n",
    "# BATCH_SIZE defines how many images to process at once.\n",
    "# EPOCHS defines how often to run over the total data (60000 images)\n",
    "# (Note that a small part of the train data is internally split off for independent validation of the metrics)\n",
    "\n",
    "### STUDENT CODE HERE ###\n",
    "### --> Edit the parameters below to obtain a better accuracy in the training.\n",
    "\n",
    "BATCH_SIZE = 128\n",
    "EPOCHS = 75\n",
    "\n",
    "history = model.fit(x_train, y_train, batch_size=BATCH_SIZE, epochs=EPOCHS, verbose=1, validation_split=.1)"
   ]
  },
  {
   "cell_type": "code",
   "execution_count": 9,
   "metadata": {
    "colab": {
     "base_uri": "https://localhost:8080/",
     "height": 295
    },
    "id": "D378PNIcm4yY",
    "outputId": "8a272626-b6ab-4807-c517-b764ae8029b3"
   },
   "outputs": [
    {
     "data": {
      "image/png": "[encoded data removed]",
      "text/plain": [
       "<Figure size 432x288 with 1 Axes>"
      ]
     },
     "metadata": {
      "needs_background": "light"
     },
     "output_type": "display_data"
    }
   ],
   "source": [
    "# Plot the progression of the training loss\n",
    "\n",
    "plt.plot(history.history['loss'])\n",
    "plt.plot(history.history['val_loss'])\n",
    "plt.title('model loss')\n",
    "plt.ylabel('loss')\n",
    "plt.xlabel('epoch')\n",
    "plt.legend(['training', 'validation'], loc='best')\n",
    "plt.show()"
   ]
  },
  {
   "cell_type": "code",
   "execution_count": 10,
   "metadata": {
    "colab": {
     "base_uri": "https://localhost:8080/",
     "height": 295
    },
    "id": "arNvXRj8W3i9",
    "outputId": "1464bfe5-10a3-486e-b730-b10f2d8d4077"
   },
   "outputs": [
    {
     "data": {
      "image/png": "[encoded data removed]",
      "text/plain": [
       "<Figure size 432x288 with 1 Axes>"
      ]
     },
     "metadata": {
      "needs_background": "light"
     },
     "output_type": "display_data"
    }
   ],
   "source": [
    "# Plot the progression of the training accuracy\n",
    "\n",
    "plt.plot(history.history['accuracy'])\n",
    "plt.plot(history.history['val_accuracy'])\n",
    "plt.title('model accuracy')\n",
    "plt.ylabel('accuracy')\n",
    "plt.xlabel('epoch')\n",
    "plt.legend(['training', 'validation'], loc='best')\n",
    "plt.show()"
   ]
  },
  {
   "cell_type": "code",
   "execution_count": 11,
   "metadata": {
    "colab": {
     "base_uri": "https://localhost:8080/",
     "height": 469
    },
    "id": "AY46AfbHT0SZ",
    "outputId": "644bbac6-4c16-4a90-dfe1-7294be9aa24a"
   },
   "outputs": [
    {
     "name": "stdout",
     "output_type": "stream",
     "text": [
      "Test loss: 0.249\n",
      "Test accuracy: 0.928\n",
      "WARNING:tensorflow:From <ipython-input-11-908c62155fad>:10: Sequential.predict_proba (from tensorflow.python.keras.engine.sequential) is deprecated and will be removed after 2021-01-01.\n",
      "Instructions for updating:\n",
      "Please use `model.predict()` instead.\n"
     ]
    },
    {
     "data": {
      "text/plain": [
       "array([[ 960,    0,    1,    0,    2,    4,    7,    2,    4,    0],\n",
       "       [   0, 1116,    3,    3,    0,    2,    2,    2,    7,    0],\n",
       "       [  12,    6,  954,    1,   12,    0,    9,    6,   29,    3],\n",
       "       [   1,    4,   26,  919,    0,   21,    1,   14,   17,    7],\n",
       "       [   2,    6,    4,    0,  916,    0,    6,    1,    6,   41],\n",
       "       [  16,    1,    0,   53,   12,  753,   12,    6,   31,    8],\n",
       "       [  17,    4,    5,    0,    4,   13,  911,    1,    3,    0],\n",
       "       [   4,   19,   16,    5,    6,    0,    0,  933,    4,   41],\n",
       "       [   9,   13,   12,   14,    6,   14,    6,   10,  886,    4],\n",
       "       [   7,    5,    1,   12,   25,   12,    0,   13,    5,  929]])"
      ]
     },
     "execution_count": 11,
     "metadata": {},
     "output_type": "execute_result"
    }
   ],
   "source": [
    "# Evaluate model on test data - how often does the network predict the right label after training?\n",
    "\n",
    "loss, accuracy  = model.evaluate(x_test, y_test, verbose=False)\n",
    "\n",
    "print(f'Test loss: {loss:.3}')\n",
    "print(f'Test accuracy: {accuracy:.3}')\n",
    "\n",
    "# Make a confusion matrix to see which numbers are difficult to disentangle\n",
    "\n",
    "y_pred_test = model.predict_proba(x_test) # obtain one-hot encoded predictions for the x_test images\n",
    "y_test_index      = [ np.argmax(i) for i in y_test ] # actual number known labels\n",
    "y_pred_test_index = [ np.argmax(i) for i in y_pred_test ] # actual number predictions\n",
    "y_pred_test_proba = [ y_pred_test[i][ y_pred_test_index[i] ] for i in range(len(y_test_index)) ] # probabilities to be correct\n",
    "\n",
    "from sklearn.metrics import confusion_matrix\n",
    "### STUDENT CODE HERE ###\n",
    "### --> Now predict again the labels for the test images, but after proper training.\n",
    "###  Build a confusion matrix to show which labels we often confuse with what.\n",
    "###  (Note that the y_test and y_pred are still one-hot encoded, so you need to get\n",
    "###   the index of the maximum entry to find the corresponding predicted 'number'.\n",
    "confusion_matrix(y_test_index, y_pred_test_index)\n",
    "### END STUDENT CODE ###"
   ]
  },
  {
   "cell_type": "code",
   "execution_count": 12,
   "metadata": {
    "colab": {
     "base_uri": "https://localhost:8080/",
     "height": 170
    },
    "id": "e824_G2qZ4Lg",
    "outputId": "7c0de726-02fb-4e67-b2b3-42de88784d78"
   },
   "outputs": [
    {
     "name": "stdout",
     "output_type": "stream",
     "text": [
      "predicted: [7] ; real: [7]\n",
      "predicted: [2] ; real: [2]\n",
      "predicted: [1] ; real: [1]\n",
      "predicted: [0] ; real: [0]\n",
      "predicted: [4] ; real: [4]\n",
      "predicted: [1] ; real: [1]\n",
      "predicted: [4] ; real: [4]\n",
      "predicted: [9] ; real: [9]\n",
      "predicted: [6] ; real: [5]\n",
      "predicted: [9] ; real: [9]\n"
     ]
    },
    {
     "data": {
      "image/png": "[encoded data removed]",
      "text/plain": [
       "<Figure size 432x720 with 10 Axes>"
      ]
     },
     "metadata": {
      "needs_background": "light"
     },
     "output_type": "display_data"
    }
   ],
   "source": [
    "# Show some predicted labels and their probabilities to be correct\n",
    "\n",
    "### STUDENT CODE HERE ###\n",
    "### --> Now show some hand-written digit images from the test sample, \n",
    "###  their corresponding true label, their predicted label from your network,\n",
    "###  and the probability associated with that prediction.\n",
    "\n",
    "for pred, real in zip(y_pred_test[:10], y_test[:10]):\n",
    "    print(\"predicted: \" + str(np.where(pred == max(pred))[0]) + \" ; real: \" + str(np.where(real == max(real))[0]))\n",
    "    \n",
    "\n",
    "fig1, ax1 = plt.subplots(5,2, figsize=(6, 10),constrained_layout=True)\n",
    "\n",
    "img_nb = 0\n",
    "for i in range(2):\n",
    "    for j in range(5):\n",
    "        ax1[j][i].imshow(x_test[img_nb].reshape(28,28))\n",
    "        img_nb += 1\n",
    "\n",
    "### END STUDENT CODE ###"
   ]
  }
 ],
 "metadata": {
  "colab": {
   "collapsed_sections": [],
   "name": "ML_MNIST_NN.ipynb",
   "provenance": []
  },
  "kernelspec": {
   "display_name": "Python 3",
   "language": "python",
   "name": "python3"
  },
  "language_info": {
   "codemirror_mode": {
    "name": "ipython",
    "version": 3
   },
   "file_extension": ".py",
   "mimetype": "text/x-python",
   "name": "python",
   "nbconvert_exporter": "python",
   "pygments_lexer": "ipython3",
   "version": "3.8.5"
  }
 },
 "nbformat": 4,
 "nbformat_minor": 1
}
